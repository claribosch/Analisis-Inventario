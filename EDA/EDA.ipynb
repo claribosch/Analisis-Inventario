{
 "cells": [
  {
   "cell_type": "code",
   "execution_count": 1,
   "metadata": {},
   "outputs": [],
   "source": [
    "import pandas as pd"
   ]
  },
  {
   "cell_type": "code",
   "execution_count": 2,
   "metadata": {},
   "outputs": [],
   "source": [
    "import numpy as np"
   ]
  },
  {
   "cell_type": "code",
   "execution_count": 3,
   "metadata": {},
   "outputs": [],
   "source": [
    "import matplotlib.pyplot as plt\n",
    "import seaborn as sns"
   ]
  },
  {
   "cell_type": "code",
   "execution_count": 4,
   "metadata": {},
   "outputs": [],
   "source": [
    "archivotemp =  r\"C:\\Data Anaytics\\Proyectos\\Inventario\\Base de datos\\Sales.csv\"\n",
    "\n",
    "df_Sales= pd.read_csv(archivotemp)"
   ]
  },
  {
   "cell_type": "code",
   "execution_count": 5,
   "metadata": {},
   "outputs": [],
   "source": [
    "archivotemp =  r\"C:\\Data Anaytics\\Proyectos\\Inventario\\Base de datos\\Brands.csv\"\n",
    "\n",
    "df_Brands= pd.read_csv(archivotemp)"
   ]
  },
  {
   "cell_type": "code",
   "execution_count": 6,
   "metadata": {},
   "outputs": [],
   "source": [
    "archivotemp =  r\"C:\\Data Anaytics\\Proyectos\\Inventario\\Base de datos\\Stores.csv\"\n",
    "\n",
    "df_Stores= pd.read_csv(archivotemp)"
   ]
  },
  {
   "cell_type": "code",
   "execution_count": 7,
   "metadata": {},
   "outputs": [],
   "source": [
    "archivotemp =  r\"C:\\Data Anaytics\\Proyectos\\Inventario\\Base de datos\\Inventoriestotal.csv\"\n",
    "\n",
    "df_Inventories= pd.read_csv(archivotemp)"
   ]
  },
  {
   "cell_type": "code",
   "execution_count": 8,
   "metadata": {},
   "outputs": [],
   "source": [
    "archivotemp =  r\"C:\\Data Anaytics\\Proyectos\\Inventario\\Base de datos\\InventoriesFinal.csv\"\n",
    "\n",
    "df_InventoriesFinal= pd.read_csv(archivotemp)"
   ]
  },
  {
   "cell_type": "code",
   "execution_count": 9,
   "metadata": {},
   "outputs": [],
   "source": [
    "archivotemp =  r\"C:\\Data Anaytics\\Proyectos\\Inventario\\Base de datos\\InventoriesInitial.csv\"\n",
    "\n",
    "df_InventoriesInitial= pd.read_csv(archivotemp)"
   ]
  },
  {
   "cell_type": "code",
   "execution_count": 10,
   "metadata": {},
   "outputs": [],
   "source": [
    "archivotemp =  r\"C:\\Data Anaytics\\Proyectos\\Inventario\\Base de datos\\InvoicePurchases.csv\"\n",
    "\n",
    "df_InvoicePurchases= pd.read_csv(archivotemp)"
   ]
  },
  {
   "cell_type": "code",
   "execution_count": 11,
   "metadata": {},
   "outputs": [],
   "source": [
    "archivotemp =  r\"C:\\Data Anaytics\\Proyectos\\Inventario\\Base de datos\\InvoicePurchasesDetails.csv\"\n",
    "\n",
    "df_InvoicePurchasesDetails= pd.read_csv(archivotemp)"
   ]
  },
  {
   "cell_type": "code",
   "execution_count": 12,
   "metadata": {},
   "outputs": [],
   "source": [
    "archivotemp =  r\"C:\\Data Anaytics\\Proyectos\\Inventario\\Base de datos\\Vendor.csv\"\n",
    "\n",
    "df_Vendors= pd.read_csv(archivotemp)"
   ]
  },
  {
   "cell_type": "markdown",
   "metadata": {},
   "source": [
    "#### Analisis de tiempo"
   ]
  },
  {
   "cell_type": "code",
   "execution_count": 298,
   "metadata": {},
   "outputs": [
    {
     "data": {
      "text/html": [
       "<div>\n",
       "<style scoped>\n",
       "    .dataframe tbody tr th:only-of-type {\n",
       "        vertical-align: middle;\n",
       "    }\n",
       "\n",
       "    .dataframe tbody tr th {\n",
       "        vertical-align: top;\n",
       "    }\n",
       "\n",
       "    .dataframe thead th {\n",
       "        text-align: right;\n",
       "    }\n",
       "</style>\n",
       "<table border=\"1\" class=\"dataframe\">\n",
       "  <thead>\n",
       "    <tr style=\"text-align: right;\">\n",
       "      <th></th>\n",
       "      <th>Brand</th>\n",
       "      <th>ExciseTax</th>\n",
       "      <th>InventoryId</th>\n",
       "      <th>SalesDollars</th>\n",
       "      <th>SalesPrice</th>\n",
       "      <th>SalesQuantity</th>\n",
       "      <th>Store</th>\n",
       "      <th>VendorNumber</th>\n",
       "      <th>Volume</th>\n",
       "      <th>Classification</th>\n",
       "    </tr>\n",
       "    <tr>\n",
       "      <th>SalesDate</th>\n",
       "      <th></th>\n",
       "      <th></th>\n",
       "      <th></th>\n",
       "      <th></th>\n",
       "      <th></th>\n",
       "      <th></th>\n",
       "      <th></th>\n",
       "      <th></th>\n",
       "      <th></th>\n",
       "      <th></th>\n",
       "    </tr>\n",
       "  </thead>\n",
       "  <tbody>\n",
       "    <tr>\n",
       "      <th>2016-01-01</th>\n",
       "      <td>1004</td>\n",
       "      <td>0.79</td>\n",
       "      <td>1_HARDERSFIELD_1004</td>\n",
       "      <td>16.49</td>\n",
       "      <td>16.49</td>\n",
       "      <td>1</td>\n",
       "      <td>1</td>\n",
       "      <td>12546</td>\n",
       "      <td>750</td>\n",
       "      <td>1</td>\n",
       "    </tr>\n",
       "    <tr>\n",
       "      <th>2016-01-02</th>\n",
       "      <td>1004</td>\n",
       "      <td>1.57</td>\n",
       "      <td>1_HARDERSFIELD_1004</td>\n",
       "      <td>32.98</td>\n",
       "      <td>16.49</td>\n",
       "      <td>2</td>\n",
       "      <td>1</td>\n",
       "      <td>12546</td>\n",
       "      <td>750</td>\n",
       "      <td>1</td>\n",
       "    </tr>\n",
       "    <tr>\n",
       "      <th>2016-01-03</th>\n",
       "      <td>1004</td>\n",
       "      <td>0.79</td>\n",
       "      <td>1_HARDERSFIELD_1004</td>\n",
       "      <td>16.49</td>\n",
       "      <td>16.49</td>\n",
       "      <td>1</td>\n",
       "      <td>1</td>\n",
       "      <td>12546</td>\n",
       "      <td>750</td>\n",
       "      <td>1</td>\n",
       "    </tr>\n",
       "  </tbody>\n",
       "</table>\n",
       "</div>"
      ],
      "text/plain": [
       "            Brand  ExciseTax          InventoryId  SalesDollars  SalesPrice  \\\n",
       "SalesDate                                                                     \n",
       "2016-01-01   1004       0.79  1_HARDERSFIELD_1004         16.49       16.49   \n",
       "2016-01-02   1004       1.57  1_HARDERSFIELD_1004         32.98       16.49   \n",
       "2016-01-03   1004       0.79  1_HARDERSFIELD_1004         16.49       16.49   \n",
       "\n",
       "            SalesQuantity  Store  VendorNumber  Volume  Classification  \n",
       "SalesDate                                                               \n",
       "2016-01-01              1      1         12546     750               1  \n",
       "2016-01-02              2      1         12546     750               1  \n",
       "2016-01-03              1      1         12546     750               1  "
      ]
     },
     "execution_count": 298,
     "metadata": {},
     "output_type": "execute_result"
    }
   ],
   "source": [
    "df_Sales.head(3)"
   ]
  },
  {
   "cell_type": "code",
   "execution_count": 309,
   "metadata": {},
   "outputs": [],
   "source": [
    "df_Sales = pd.merge(df_Sales,df_Brands[['Brand','Classification']], on='Brand', how='left')"
   ]
  },
  {
   "cell_type": "code",
   "execution_count": 310,
   "metadata": {},
   "outputs": [
    {
     "name": "stdout",
     "output_type": "stream",
     "text": [
      "object\n"
     ]
    }
   ],
   "source": [
    "print(df_Sales['SalesDate'].dtype)"
   ]
  },
  {
   "cell_type": "code",
   "execution_count": 311,
   "metadata": {},
   "outputs": [],
   "source": [
    "df_Sales['SalesDate'] = pd.to_datetime(df_Sales['SalesDate'])\n"
   ]
  },
  {
   "cell_type": "code",
   "execution_count": 313,
   "metadata": {},
   "outputs": [],
   "source": [
    "df_Sales.set_index('SalesDate', inplace=True)\n",
    "## hay que ponerla como indice para que la tome en el grafico"
   ]
  },
  {
   "cell_type": "code",
   "execution_count": 296,
   "metadata": {},
   "outputs": [
    {
     "data": {
      "image/png": "[encoded data removed]",
      "text/plain": [
       "<Figure size 600x600 with 1 Axes>"
      ]
     },
     "metadata": {},
     "output_type": "display_data"
    }
   ],
   "source": [
    "fig, ax = plt.subplots(figsize=(6,6))\n",
    "df_Sales.resample('D').sum(numeric_only=True)['SalesDollars'].plot(ax=ax)\n",
    "plt.title('Total por mes')\n",
    "plt.legend(['SalesDollars'])\n",
    "plt.show()"
   ]
  },
  {
   "cell_type": "code",
   "execution_count": 300,
   "metadata": {},
   "outputs": [],
   "source": [
    "df_monthly_sales = df_Sales.resample('D').sum(numeric_only=True)\n"
   ]
  },
  {
   "cell_type": "code",
   "execution_count": 303,
   "metadata": {},
   "outputs": [
    {
     "data": {
      "text/html": [
       "<div>\n",
       "<style scoped>\n",
       "    .dataframe tbody tr th:only-of-type {\n",
       "        vertical-align: middle;\n",
       "    }\n",
       "\n",
       "    .dataframe tbody tr th {\n",
       "        vertical-align: top;\n",
       "    }\n",
       "\n",
       "    .dataframe thead th {\n",
       "        text-align: right;\n",
       "    }\n",
       "</style>\n",
       "<table border=\"1\" class=\"dataframe\">\n",
       "  <thead>\n",
       "    <tr style=\"text-align: right;\">\n",
       "      <th></th>\n",
       "      <th>Brand</th>\n",
       "      <th>ExciseTax</th>\n",
       "      <th>SalesDollars</th>\n",
       "      <th>SalesPrice</th>\n",
       "      <th>SalesQuantity</th>\n",
       "      <th>Store</th>\n",
       "      <th>VendorNumber</th>\n",
       "      <th>Volume</th>\n",
       "      <th>Classification</th>\n",
       "    </tr>\n",
       "    <tr>\n",
       "      <th>SalesDate</th>\n",
       "      <th></th>\n",
       "      <th></th>\n",
       "      <th></th>\n",
       "      <th></th>\n",
       "      <th></th>\n",
       "      <th></th>\n",
       "      <th></th>\n",
       "      <th></th>\n",
       "      <th></th>\n",
       "    </tr>\n",
       "  </thead>\n",
       "  <tbody>\n",
       "    <tr>\n",
       "      <th>2016-01-01</th>\n",
       "      <td>275489037</td>\n",
       "      <td>28482.64</td>\n",
       "      <td>687880.01</td>\n",
       "      <td>376913.29</td>\n",
       "      <td>49911</td>\n",
       "      <td>1117035</td>\n",
       "      <td>174018253</td>\n",
       "      <td>21991657</td>\n",
       "      <td>33393</td>\n",
       "    </tr>\n",
       "    <tr>\n",
       "      <th>2016-01-02</th>\n",
       "      <td>460913536</td>\n",
       "      <td>57425.06</td>\n",
       "      <td>1303610.64</td>\n",
       "      <td>592507.50</td>\n",
       "      <td>93114</td>\n",
       "      <td>1682879</td>\n",
       "      <td>270806935</td>\n",
       "      <td>36210874</td>\n",
       "      <td>54067</td>\n",
       "    </tr>\n",
       "    <tr>\n",
       "      <th>2016-01-03</th>\n",
       "      <td>272159631</td>\n",
       "      <td>32553.62</td>\n",
       "      <td>709085.36</td>\n",
       "      <td>347579.55</td>\n",
       "      <td>53037</td>\n",
       "      <td>1060906</td>\n",
       "      <td>161463136</td>\n",
       "      <td>22637540</td>\n",
       "      <td>32483</td>\n",
       "    </tr>\n",
       "    <tr>\n",
       "      <th>2016-01-04</th>\n",
       "      <td>223956683</td>\n",
       "      <td>24001.67</td>\n",
       "      <td>499567.87</td>\n",
       "      <td>286052.24</td>\n",
       "      <td>41341</td>\n",
       "      <td>833470</td>\n",
       "      <td>132669822</td>\n",
       "      <td>19363904</td>\n",
       "      <td>27041</td>\n",
       "    </tr>\n",
       "    <tr>\n",
       "      <th>2016-01-05</th>\n",
       "      <td>229870977</td>\n",
       "      <td>22462.75</td>\n",
       "      <td>496719.05</td>\n",
       "      <td>285409.84</td>\n",
       "      <td>40831</td>\n",
       "      <td>819518</td>\n",
       "      <td>134993038</td>\n",
       "      <td>18790970</td>\n",
       "      <td>27440</td>\n",
       "    </tr>\n",
       "  </tbody>\n",
       "</table>\n",
       "</div>"
      ],
      "text/plain": [
       "                Brand  ExciseTax  SalesDollars  SalesPrice  SalesQuantity  \\\n",
       "SalesDate                                                                   \n",
       "2016-01-01  275489037   28482.64     687880.01   376913.29          49911   \n",
       "2016-01-02  460913536   57425.06    1303610.64   592507.50          93114   \n",
       "2016-01-03  272159631   32553.62     709085.36   347579.55          53037   \n",
       "2016-01-04  223956683   24001.67     499567.87   286052.24          41341   \n",
       "2016-01-05  229870977   22462.75     496719.05   285409.84          40831   \n",
       "\n",
       "              Store  VendorNumber    Volume  Classification  \n",
       "SalesDate                                                    \n",
       "2016-01-01  1117035     174018253  21991657           33393  \n",
       "2016-01-02  1682879     270806935  36210874           54067  \n",
       "2016-01-03  1060906     161463136  22637540           32483  \n",
       "2016-01-04   833470     132669822  19363904           27041  \n",
       "2016-01-05   819518     134993038  18790970           27440  "
      ]
     },
     "execution_count": 303,
     "metadata": {},
     "output_type": "execute_result"
    }
   ],
   "source": [
    "df_monthly_sales.head(5)"
   ]
  },
  {
   "cell_type": "code",
   "execution_count": 302,
   "metadata": {},
   "outputs": [
    {
     "data": {
      "image/png": "[encoded data removed]",
      "text/plain": [
       "<Figure size 1000x600 with 1 Axes>"
      ]
     },
     "metadata": {},
     "output_type": "display_data"
    }
   ],
   "source": [
    "\n",
    "plt.figure(figsize=(10, 6))\n",
    "sns.lineplot(data=df_monthly_sales, x='SalesDate', y='SalesDollars', marker='o')\n",
    "plt.title('Venta')\n",
    "plt.xlabel('Fecha')\n",
    "plt.ylabel('Dollars')\n",
    "plt.grid(True)\n",
    "\n",
    "# Mostrar el gráfico\n",
    "plt.tight_layout()\n",
    "plt.show()\n"
   ]
  },
  {
   "cell_type": "code",
   "execution_count": null,
   "metadata": {},
   "outputs": [],
   "source": []
  },
  {
   "cell_type": "code",
   "execution_count": 325,
   "metadata": {},
   "outputs": [
    {
     "name": "stdout",
     "output_type": "stream",
     "text": [
      "0    1\n",
      "8    2\n",
      "Name: Classification, dtype: int64\n"
     ]
    }
   ],
   "source": [
    "clasificacion = df_Sales.reset_index()['Classification'].drop_duplicates()\n",
    "print(clasificacion)"
   ]
  },
  {
   "cell_type": "code",
   "execution_count": 327,
   "metadata": {},
   "outputs": [
    {
     "data": {
      "image/png": "[encoded data removed]",
      "text/plain": [
       "<Figure size 1000x600 with 1 Axes>"
      ]
     },
     "metadata": {},
     "output_type": "display_data"
    }
   ],
   "source": [
    "fig, ax = plt.subplots(figsize=(10,6))\n",
    "for categoria in clasificacion:\n",
    "    df_monthly_sales = df_Sales[df_Sales['Classification']==categoria].resample('D').sum(numeric_only=True)\n",
    "    sns.lineplot(data=df_monthly_sales, x='SalesDate', y='SalesDollars', marker='o')\n",
    "plt.title('Venta')\n",
    "plt.xlabel('Fecha')\n",
    "plt.ylabel('Dollars')\n",
    "plt.legend(clasificacion)\n",
    "plt.grid(True)\n",
    "\n",
    "# Mostrar el gráfico\n",
    "plt.tight_layout()\n",
    "plt.show()\n"
   ]
  },
  {
   "cell_type": "markdown",
   "metadata": {},
   "source": [
    "##### Analisis por Ciudad"
   ]
  },
  {
   "cell_type": "markdown",
   "metadata": {},
   "source": [
    "Stores por City\n"
   ]
  },
  {
   "cell_type": "code",
   "execution_count": 24,
   "metadata": {},
   "outputs": [
    {
     "name": "stdout",
     "output_type": "stream",
     "text": [
      "Cantidad de ciudades: 68\n",
      "            City\n",
      "0   HARDERSFIELD\n",
      "1       ASHBORNE\n",
      "2        HORNSEY\n",
      "3     EANVERNESS\n",
      "4         SUTTON\n",
      "..           ...\n",
      "74     BARNCOMBE\n",
      "76      TAMWORTH\n",
      "77     EASTHAVEN\n",
      "78     BALLYMENA\n",
      "79      PEMBROKE\n",
      "\n",
      "[68 rows x 1 columns]\n"
     ]
    }
   ],
   "source": [
    "Cities = df_Stores[['City']].drop_duplicates()\n",
    "CantidadCiudades = Cities.shape[0]\n",
    "print(f'Cantidad de ciudades: {CantidadCiudades}')\n",
    "print(Cities)"
   ]
  },
  {
   "cell_type": "code",
   "execution_count": 35,
   "metadata": {},
   "outputs": [
    {
     "name": "stdout",
     "output_type": "stream",
     "text": [
      "80\n"
     ]
    }
   ],
   "source": [
    "CantidadStores = df_Stores.shape[0]\n",
    "print(CantidadStores)"
   ]
  },
  {
   "cell_type": "code",
   "execution_count": 26,
   "metadata": {},
   "outputs": [],
   "source": [
    "sns.set(style=\"whitegrid\")\n"
   ]
  },
  {
   "cell_type": "code",
   "execution_count": 28,
   "metadata": {},
   "outputs": [
    {
     "data": {
      "image/png": "[encoded data removed]",
      "text/plain": [
       "<Figure size 500x300 with 1 Axes>"
      ]
     },
     "metadata": {},
     "output_type": "display_data"
    }
   ],
   "source": [
    "fig, ax = plt.subplots(figsize=(5,3))\n",
    "sns.histplot(data=df_Stores,x= 'City', kde=True, discrete = True)\n",
    "plt.title('Stores por Ciudad')\n",
    "plt.show()"
   ]
  },
  {
   "cell_type": "markdown",
   "metadata": {},
   "source": [
    "En casi todas las ciudades tiene un solo Store"
   ]
  },
  {
   "cell_type": "code",
   "execution_count": 31,
   "metadata": {},
   "outputs": [
    {
     "name": "stdout",
     "output_type": "stream",
     "text": [
      "            City  count\n",
      "0        HORNSEY      4\n",
      "1      MOUNTMEND      4\n",
      "2     EANVERNESS      3\n",
      "3   HARDERSFIELD      2\n",
      "4       LARNWICK      2\n",
      "..           ...    ...\n",
      "63     BARNCOMBE      1\n",
      "64      TAMWORTH      1\n",
      "65     EASTHAVEN      1\n",
      "66     BALLYMENA      1\n",
      "67      PEMBROKE      1\n",
      "\n",
      "[68 rows x 2 columns]\n"
     ]
    }
   ],
   "source": [
    "StoreCount = df_Stores['City'].value_counts().reset_index()\n",
    "print(StoreCount)"
   ]
  },
  {
   "cell_type": "code",
   "execution_count": 32,
   "metadata": {},
   "outputs": [
    {
     "data": {
      "image/png": "[encoded data removed]",
      "text/plain": [
       "<Figure size 500x300 with 1 Axes>"
      ]
     },
     "metadata": {},
     "output_type": "display_data"
    }
   ],
   "source": [
    "fig, ax = plt.subplots(figsize=(5,3))\n",
    "sns.barplot(data=StoreCount,x='City',y= 'count', ax=ax, hue='City')\n",
    "plt.title('Stores por Ciudad')\n",
    "plt.xlabel('Stores por Ciudad')\n",
    "plt.show()"
   ]
  },
  {
   "cell_type": "code",
   "execution_count": 33,
   "metadata": {},
   "outputs": [
    {
     "name": "stdout",
     "output_type": "stream",
     "text": [
      "           City  count\n",
      "0       HORNSEY      4\n",
      "1     MOUNTMEND      4\n",
      "2    EANVERNESS      3\n",
      "3  HARDERSFIELD      2\n",
      "4      LARNWICK      2\n",
      "5     GOULCREST      2\n",
      "6     DONCASTER      2\n"
     ]
    }
   ],
   "source": [
    "MasDeUnStore = StoreCount[StoreCount['count']>1]\n",
    "print(MasDeUnStore)\n"
   ]
  },
  {
   "cell_type": "markdown",
   "metadata": {},
   "source": [
    "De 68 ciudades solo 6 tienen mas de un store"
   ]
  },
  {
   "cell_type": "markdown",
   "metadata": {},
   "source": [
    "##### Analisis por Categoria"
   ]
  },
  {
   "cell_type": "code",
   "execution_count": 37,
   "metadata": {},
   "outputs": [
    {
     "name": "stdout",
     "output_type": "stream",
     "text": [
      "    Brand                  Description   Price    Size  Volume  \\\n",
      "0      58  Gekkeikan Black & Gold Sake   12.99   750mL   750.0   \n",
      "1      62     Herradura Silver Tequila   36.99   750mL   750.0   \n",
      "2      63   Herradura Reposado Tequila   38.99   750mL   750.0   \n",
      "3      72         No. 3 London Dry Gin   34.99   750mL   750.0   \n",
      "4      75    Three Olives Tomato Vodka   14.99   750mL   750.0   \n",
      "5      77  Three Olives Espresso Vodka   12.99   750mL   750.0   \n",
      "6      79     Three Olives Loopy Vodka   14.99   750mL   750.0   \n",
      "7     115              Belvedere Vodka   27.99  1000mL  1000.0   \n",
      "8     126             Grey Goose Vodka   32.99  1000mL  1000.0   \n",
      "9     168      Three Olives Strawberry   12.99   750mL   750.0   \n",
      "10    171               Gentleman Jack   49.99  1750mL  1750.0   \n",
      "11    173        Hornitos Reposado VAP   22.99   750mL   750.0   \n",
      "12    175           1800 Anejo Tequila   36.99   750mL   750.0   \n",
      "13    178    Wild Turkey Russell's RSV   29.99   750mL   750.0   \n",
      "14    192        Milagro Anejo Tequila   35.99   750mL   750.0   \n",
      "15    211               Cold River Gin   24.99   750mL   750.0   \n",
      "16    229               Sauza Gold VAP   12.99   750mL   750.0   \n",
      "17    233      Tullamore Dew 12 Yr Old   46.99   750mL   750.0   \n",
      "18    247  Gran Patron Platinum Tequil  199.99   750mL   750.0   \n",
      "19    254  DeKuyper Root Beer Schnapps   10.99  1000mL  1000.0   \n",
      "\n",
      "    Classification  PurchasePrice  VendorNumber  \n",
      "0                1           9.28          8320  \n",
      "1                1          28.67          1128  \n",
      "2                1          30.46          1128  \n",
      "3                1          26.11          9165  \n",
      "4                1          10.94          7245  \n",
      "5                1          10.39          7245  \n",
      "6                1           9.62          7245  \n",
      "7                1          21.37          8112  \n",
      "8                1          20.14           480  \n",
      "9                1           8.95          7245  \n",
      "10               1          36.76          1128  \n",
      "11               1          14.70         12546  \n",
      "12               1          26.80          7245  \n",
      "13               1          20.76         11567  \n",
      "14               1          27.68          3664  \n",
      "15               1          19.83          4425  \n",
      "16               1          10.39         12546  \n",
      "17               1          30.21          3664  \n",
      "18               1         156.24          9165  \n",
      "19               1           8.79         12546  \n"
     ]
    }
   ],
   "source": [
    "print(df_Brands.head(20))"
   ]
  },
  {
   "cell_type": "code",
   "execution_count": 68,
   "metadata": {},
   "outputs": [
    {
     "name": "stdout",
     "output_type": "stream",
     "text": [
      "   Classification  Brand\n",
      "0               1   3567\n",
      "1               2   8693\n"
     ]
    }
   ],
   "source": [
    "CantxTipo = df_Brands.groupby(['Classification'])['Brand'].count().reset_index()\n",
    "print(CantxTipo)"
   ]
  },
  {
   "cell_type": "code",
   "execution_count": 62,
   "metadata": {},
   "outputs": [
    {
     "name": "stdout",
     "output_type": "stream",
     "text": [
      "   Classification  SalesDollars\n",
      "0               1         16.49\n",
      "1               1         32.98\n",
      "2               1         16.49\n",
      "3               1         14.49\n",
      "4               1         69.98\n"
     ]
    }
   ],
   "source": [
    "Sales_Classification = pd.merge(df_Sales,df_Brands,how='left',on = 'Brand')[['Classification','SalesDollars']]\n",
    "print(Sales_Classification.head(5))\n"
   ]
  },
  {
   "cell_type": "code",
   "execution_count": 73,
   "metadata": {},
   "outputs": [
    {
     "name": "stdout",
     "output_type": "stream",
     "text": [
      "   Classification  SalesDollars\n",
      "0               1   20550829.07\n",
      "1               2   12588546.22\n"
     ]
    }
   ],
   "source": [
    "VentasporTipo=Sales_Classification.groupby(['Classification'])['SalesDollars'].sum().reset_index()\n",
    "print(VentasporTipo)"
   ]
  },
  {
   "cell_type": "code",
   "execution_count": null,
   "metadata": {},
   "outputs": [],
   "source": []
  },
  {
   "cell_type": "code",
   "execution_count": 75,
   "metadata": {},
   "outputs": [
    {
     "name": "stdout",
     "output_type": "stream",
     "text": [
      "   Classification  SalesDollars  Brand\n",
      "0               1   20550829.07   3567\n",
      "1               2   12588546.22   8693\n"
     ]
    }
   ],
   "source": [
    "VentasporTipo = pd.merge(VentasporTipo,CantxTipo,how= 'left', on = 'Classification')\n",
    "print(VentasporTipo)\n"
   ]
  },
  {
   "cell_type": "code",
   "execution_count": 134,
   "metadata": {},
   "outputs": [
    {
     "data": {
      "text/html": [
       "<div>\n",
       "<style scoped>\n",
       "    .dataframe tbody tr th:only-of-type {\n",
       "        vertical-align: middle;\n",
       "    }\n",
       "\n",
       "    .dataframe tbody tr th {\n",
       "        vertical-align: top;\n",
       "    }\n",
       "\n",
       "    .dataframe thead th {\n",
       "        text-align: right;\n",
       "    }\n",
       "</style>\n",
       "<table border=\"1\" class=\"dataframe\">\n",
       "  <thead>\n",
       "    <tr style=\"text-align: right;\">\n",
       "      <th></th>\n",
       "      <th>InventoryId</th>\n",
       "      <th>Brand</th>\n",
       "      <th>onHand</th>\n",
       "      <th>Store</th>\n",
       "      <th>Date</th>\n",
       "    </tr>\n",
       "  </thead>\n",
       "  <tbody>\n",
       "    <tr>\n",
       "      <th>0</th>\n",
       "      <td>1_HARDERSFIELD_58</td>\n",
       "      <td>58</td>\n",
       "      <td>11</td>\n",
       "      <td>1</td>\n",
       "      <td>2016-12-31</td>\n",
       "    </tr>\n",
       "    <tr>\n",
       "      <th>1</th>\n",
       "      <td>1_HARDERSFIELD_62</td>\n",
       "      <td>62</td>\n",
       "      <td>7</td>\n",
       "      <td>1</td>\n",
       "      <td>2016-12-31</td>\n",
       "    </tr>\n",
       "    <tr>\n",
       "      <th>2</th>\n",
       "      <td>1_HARDERSFIELD_63</td>\n",
       "      <td>63</td>\n",
       "      <td>7</td>\n",
       "      <td>1</td>\n",
       "      <td>2016-12-31</td>\n",
       "    </tr>\n",
       "    <tr>\n",
       "      <th>3</th>\n",
       "      <td>1_HARDERSFIELD_72</td>\n",
       "      <td>72</td>\n",
       "      <td>4</td>\n",
       "      <td>1</td>\n",
       "      <td>2016-12-31</td>\n",
       "    </tr>\n",
       "    <tr>\n",
       "      <th>4</th>\n",
       "      <td>1_HARDERSFIELD_75</td>\n",
       "      <td>75</td>\n",
       "      <td>7</td>\n",
       "      <td>1</td>\n",
       "      <td>2016-12-31</td>\n",
       "    </tr>\n",
       "  </tbody>\n",
       "</table>\n",
       "</div>"
      ],
      "text/plain": [
       "         InventoryId  Brand  onHand  Store        Date\n",
       "0  1_HARDERSFIELD_58     58      11      1  2016-12-31\n",
       "1  1_HARDERSFIELD_62     62       7      1  2016-12-31\n",
       "2  1_HARDERSFIELD_63     63       7      1  2016-12-31\n",
       "3  1_HARDERSFIELD_72     72       4      1  2016-12-31\n",
       "4  1_HARDERSFIELD_75     75       7      1  2016-12-31"
      ]
     },
     "execution_count": 134,
     "metadata": {},
     "output_type": "execute_result"
    }
   ],
   "source": [
    "df_InventoriesFinal.head(5)"
   ]
  },
  {
   "cell_type": "code",
   "execution_count": 136,
   "metadata": {},
   "outputs": [],
   "source": [
    "InventoriesFinalClass = pd.merge(df_InventoriesFinal,df_Brands[['Classification','Brand']], how = 'left', on = 'Brand')\n"
   ]
  },
  {
   "cell_type": "code",
   "execution_count": 137,
   "metadata": {},
   "outputs": [
    {
     "data": {
      "text/html": [
       "<div>\n",
       "<style scoped>\n",
       "    .dataframe tbody tr th:only-of-type {\n",
       "        vertical-align: middle;\n",
       "    }\n",
       "\n",
       "    .dataframe tbody tr th {\n",
       "        vertical-align: top;\n",
       "    }\n",
       "\n",
       "    .dataframe thead th {\n",
       "        text-align: right;\n",
       "    }\n",
       "</style>\n",
       "<table border=\"1\" class=\"dataframe\">\n",
       "  <thead>\n",
       "    <tr style=\"text-align: right;\">\n",
       "      <th></th>\n",
       "      <th>InventoryId</th>\n",
       "      <th>Brand</th>\n",
       "      <th>onHand</th>\n",
       "      <th>Store</th>\n",
       "      <th>Date</th>\n",
       "      <th>Classification</th>\n",
       "    </tr>\n",
       "  </thead>\n",
       "  <tbody>\n",
       "    <tr>\n",
       "      <th>0</th>\n",
       "      <td>1_HARDERSFIELD_58</td>\n",
       "      <td>58</td>\n",
       "      <td>11</td>\n",
       "      <td>1</td>\n",
       "      <td>2016-12-31</td>\n",
       "      <td>1</td>\n",
       "    </tr>\n",
       "    <tr>\n",
       "      <th>1</th>\n",
       "      <td>1_HARDERSFIELD_62</td>\n",
       "      <td>62</td>\n",
       "      <td>7</td>\n",
       "      <td>1</td>\n",
       "      <td>2016-12-31</td>\n",
       "      <td>1</td>\n",
       "    </tr>\n",
       "    <tr>\n",
       "      <th>2</th>\n",
       "      <td>1_HARDERSFIELD_63</td>\n",
       "      <td>63</td>\n",
       "      <td>7</td>\n",
       "      <td>1</td>\n",
       "      <td>2016-12-31</td>\n",
       "      <td>1</td>\n",
       "    </tr>\n",
       "    <tr>\n",
       "      <th>3</th>\n",
       "      <td>1_HARDERSFIELD_72</td>\n",
       "      <td>72</td>\n",
       "      <td>4</td>\n",
       "      <td>1</td>\n",
       "      <td>2016-12-31</td>\n",
       "      <td>1</td>\n",
       "    </tr>\n",
       "    <tr>\n",
       "      <th>4</th>\n",
       "      <td>1_HARDERSFIELD_75</td>\n",
       "      <td>75</td>\n",
       "      <td>7</td>\n",
       "      <td>1</td>\n",
       "      <td>2016-12-31</td>\n",
       "      <td>1</td>\n",
       "    </tr>\n",
       "    <tr>\n",
       "      <th>...</th>\n",
       "      <td>...</td>\n",
       "      <td>...</td>\n",
       "      <td>...</td>\n",
       "      <td>...</td>\n",
       "      <td>...</td>\n",
       "      <td>...</td>\n",
       "    </tr>\n",
       "    <tr>\n",
       "      <th>224484</th>\n",
       "      <td>81_PEMBROKE_90087</td>\n",
       "      <td>90087</td>\n",
       "      <td>3</td>\n",
       "      <td>81</td>\n",
       "      <td>2016-12-31</td>\n",
       "      <td>2</td>\n",
       "    </tr>\n",
       "    <tr>\n",
       "      <th>224485</th>\n",
       "      <td>81_PEMBROKE_90088</td>\n",
       "      <td>90088</td>\n",
       "      <td>3</td>\n",
       "      <td>81</td>\n",
       "      <td>2016-12-31</td>\n",
       "      <td>2</td>\n",
       "    </tr>\n",
       "    <tr>\n",
       "      <th>224486</th>\n",
       "      <td>81_PEMBROKE_90089</td>\n",
       "      <td>90089</td>\n",
       "      <td>3</td>\n",
       "      <td>81</td>\n",
       "      <td>2016-12-31</td>\n",
       "      <td>2</td>\n",
       "    </tr>\n",
       "    <tr>\n",
       "      <th>224487</th>\n",
       "      <td>81_PEMBROKE_90090</td>\n",
       "      <td>90090</td>\n",
       "      <td>3</td>\n",
       "      <td>81</td>\n",
       "      <td>2016-12-31</td>\n",
       "      <td>2</td>\n",
       "    </tr>\n",
       "    <tr>\n",
       "      <th>224488</th>\n",
       "      <td>81_PEMBROKE_90604</td>\n",
       "      <td>90604</td>\n",
       "      <td>2</td>\n",
       "      <td>81</td>\n",
       "      <td>2016-12-31</td>\n",
       "      <td>2</td>\n",
       "    </tr>\n",
       "  </tbody>\n",
       "</table>\n",
       "<p>224489 rows × 6 columns</p>\n",
       "</div>"
      ],
      "text/plain": [
       "              InventoryId  Brand  onHand  Store        Date  Classification\n",
       "0       1_HARDERSFIELD_58     58      11      1  2016-12-31               1\n",
       "1       1_HARDERSFIELD_62     62       7      1  2016-12-31               1\n",
       "2       1_HARDERSFIELD_63     63       7      1  2016-12-31               1\n",
       "3       1_HARDERSFIELD_72     72       4      1  2016-12-31               1\n",
       "4       1_HARDERSFIELD_75     75       7      1  2016-12-31               1\n",
       "...                   ...    ...     ...    ...         ...             ...\n",
       "224484  81_PEMBROKE_90087  90087       3     81  2016-12-31               2\n",
       "224485  81_PEMBROKE_90088  90088       3     81  2016-12-31               2\n",
       "224486  81_PEMBROKE_90089  90089       3     81  2016-12-31               2\n",
       "224487  81_PEMBROKE_90090  90090       3     81  2016-12-31               2\n",
       "224488  81_PEMBROKE_90604  90604       2     81  2016-12-31               2\n",
       "\n",
       "[224489 rows x 6 columns]"
      ]
     },
     "execution_count": 137,
     "metadata": {},
     "output_type": "execute_result"
    }
   ],
   "source": [
    "InventoriesFinalClass"
   ]
  },
  {
   "cell_type": "code",
   "execution_count": 139,
   "metadata": {},
   "outputs": [],
   "source": [
    "InventoriesFinalxClass = InventoriesFinalClass.groupby(['Classification'])['onHand'].sum().reset_index()"
   ]
  },
  {
   "cell_type": "code",
   "execution_count": 140,
   "metadata": {},
   "outputs": [
    {
     "data": {
      "text/html": [
       "<div>\n",
       "<style scoped>\n",
       "    .dataframe tbody tr th:only-of-type {\n",
       "        vertical-align: middle;\n",
       "    }\n",
       "\n",
       "    .dataframe tbody tr th {\n",
       "        vertical-align: top;\n",
       "    }\n",
       "\n",
       "    .dataframe thead th {\n",
       "        text-align: right;\n",
       "    }\n",
       "</style>\n",
       "<table border=\"1\" class=\"dataframe\">\n",
       "  <thead>\n",
       "    <tr style=\"text-align: right;\">\n",
       "      <th></th>\n",
       "      <th>Classification</th>\n",
       "      <th>onHand</th>\n",
       "    </tr>\n",
       "  </thead>\n",
       "  <tbody>\n",
       "    <tr>\n",
       "      <th>0</th>\n",
       "      <td>1</td>\n",
       "      <td>2683876</td>\n",
       "    </tr>\n",
       "    <tr>\n",
       "      <th>1</th>\n",
       "      <td>2</td>\n",
       "      <td>2201900</td>\n",
       "    </tr>\n",
       "  </tbody>\n",
       "</table>\n",
       "</div>"
      ],
      "text/plain": [
       "   Classification   onHand\n",
       "0               1  2683876\n",
       "1               2  2201900"
      ]
     },
     "execution_count": 140,
     "metadata": {},
     "output_type": "execute_result"
    }
   ],
   "source": [
    "InventoriesFinalxClass"
   ]
  },
  {
   "cell_type": "code",
   "execution_count": 141,
   "metadata": {},
   "outputs": [],
   "source": [
    "label = VentasporTipo['Classification']\n",
    "sizes1 = VentasporTipo['SalesDollars']\n",
    "sizes2 = VentasporTipo['Brand']\n",
    "sizes3 = InventoriesFinalxClass ['onHand']\n",
    "newlabel = ['Licores','Vinos']"
   ]
  },
  {
   "cell_type": "code",
   "execution_count": 106,
   "metadata": {},
   "outputs": [
    {
     "name": "stdout",
     "output_type": "stream",
     "text": [
      "<class 'pandas.core.series.Series'>\n",
      "['Licores', 'Vinos']\n"
     ]
    }
   ],
   "source": [
    "print(type(label))\n",
    "print(newlabel)"
   ]
  },
  {
   "cell_type": "code",
   "execution_count": 94,
   "metadata": {},
   "outputs": [
    {
     "data": {
      "image/png": "[encoded data removed]",
      "text/plain": [
       "<Figure size 700x700 with 1 Axes>"
      ]
     },
     "metadata": {},
     "output_type": "display_data"
    }
   ],
   "source": [
    "\n",
    "\n",
    "plt.figure(figsize=(7, 7))  \n",
    "plt.pie(sizes1, labels=label, autopct='%1.1f%%', startangle=90, colors=['#ff9999','#66b3ff','#99ff99'])\n",
    "\n",
    "plt.axis('equal')# Asegurar que el gráfico sea circular\n",
    "\n",
    "plt.title('Venta por Clasificación')\n",
    "plt.show()"
   ]
  },
  {
   "cell_type": "code",
   "execution_count": 82,
   "metadata": {},
   "outputs": [
    {
     "data": {
      "text/plain": [
       "tuple"
      ]
     },
     "execution_count": 82,
     "metadata": {},
     "output_type": "execute_result"
    },
    {
     "data": {
      "image/png": "[encoded data removed]",
      "text/plain": [
       "<Figure size 1400x700 with 2 Axes>"
      ]
     },
     "metadata": {},
     "output_type": "display_data"
    }
   ],
   "source": [
    "type(plt.subplots(1, 2, figsize=(14, 7)))"
   ]
  },
  {
   "cell_type": "code",
   "execution_count": 143,
   "metadata": {},
   "outputs": [
    {
     "data": {
      "image/png": "[encoded data removed]",
      "text/plain": [
       "<Figure size 1400x700 with 3 Axes>"
      ]
     },
     "metadata": {},
     "output_type": "display_data"
    }
   ],
   "source": [
    "# Crear la figura con dos subplots (uno para cada gráfico de torta)\n",
    "# desempaqueto la tupla, para tener los objetos fig, ax1 y ax2 y aplicar\n",
    "# los metodos de graficos que tienen estos objetos(de la clase Axes)\n",
    "fig, (ax1, ax2, ax3) = plt.subplots(1, 3, figsize=(14, 7))\n",
    "\n",
    "# Creo los graficos, y tambien desempaqueto la infromacion que necesito para poner leyenda a los graficos\n",
    "wedges1, texts1, autotexts1 = ax1.pie(sizes1,labels=newlabel,autopct='%1.1f%%', startangle=90, colors=['#ff9999','#66b3ff','#99ff99'])\n",
    "ax1.set_title('Ventas en $')\n",
    "ax1.axis('equal')\n",
    "#ax1.legend(wedges1, newlabel, title=\"Clasificación\", loc=\"center left\", bbox_to_anchor=(1, 0, 0.5, 1))\n",
    "\n",
    "wedges2, texts2, autotexts2 = ax2.pie(sizes2,labels=newlabel,autopct='%1.1f%%', startangle=90, colors=['#ff9999','#66b3ff','#99ff99'])\n",
    "ax2.set_title('Cantidad Vendidad')\n",
    "ax2.axis('equal')\n",
    "#ax2.legend(wedges2, newlabel, title=\"Clasificación\", loc=\"center left\", bbox_to_anchor=(1, 0, 0.5, 1))\n",
    "\n",
    "wedges3, texts3, autotexts3 = ax3.pie(sizes3,labels=newlabel,autopct='%1.1f%%', startangle=90, colors=['#ff9999','#66b3ff','#99ff99'])\n",
    "ax3.set_title('Inventario')\n",
    "ax3.axis('equal')\n",
    "\n",
    "\n",
    "fig.suptitle('Analisis por Categoria')\n",
    "fig.tight_layout()\n",
    "\n",
    "plt.show()"
   ]
  },
  {
   "cell_type": "markdown",
   "metadata": {},
   "source": [
    "Los productos 1, los licores, representan la mayor cantidad de Ventas. La venta de los vinos está más diverisificada en diferentes productos, mientras que la de licores tiene menos variedad de productos. Esto tiene un impacto en el manejo de stock.\n",
    "Sin embargo, tienen mayores niveles de stock que los vinos, siendo de menos rotación y más caros."
   ]
  },
  {
   "cell_type": "code",
   "execution_count": 101,
   "metadata": {},
   "outputs": [
    {
     "data": {
      "text/html": [
       "<div>\n",
       "<style scoped>\n",
       "    .dataframe tbody tr th:only-of-type {\n",
       "        vertical-align: middle;\n",
       "    }\n",
       "\n",
       "    .dataframe tbody tr th {\n",
       "        vertical-align: top;\n",
       "    }\n",
       "\n",
       "    .dataframe thead th {\n",
       "        text-align: right;\n",
       "    }\n",
       "</style>\n",
       "<table border=\"1\" class=\"dataframe\">\n",
       "  <thead>\n",
       "    <tr style=\"text-align: right;\">\n",
       "      <th></th>\n",
       "      <th>Brand</th>\n",
       "      <th>Description</th>\n",
       "      <th>Price</th>\n",
       "      <th>Size</th>\n",
       "      <th>Volume</th>\n",
       "      <th>Classification</th>\n",
       "      <th>PurchasePrice</th>\n",
       "      <th>VendorNumber</th>\n",
       "    </tr>\n",
       "  </thead>\n",
       "  <tbody>\n",
       "    <tr>\n",
       "      <th>57</th>\n",
       "      <td>605</td>\n",
       "      <td>Alate Kosher Wine</td>\n",
       "      <td>16.99</td>\n",
       "      <td>750mL</td>\n",
       "      <td>750.0</td>\n",
       "      <td>2</td>\n",
       "      <td>9.67</td>\n",
       "      <td>10754</td>\n",
       "    </tr>\n",
       "    <tr>\n",
       "      <th>58</th>\n",
       "      <td>607</td>\n",
       "      <td>Schmitt Sohne Funf Rsl</td>\n",
       "      <td>8.49</td>\n",
       "      <td>750mL</td>\n",
       "      <td>750.0</td>\n",
       "      <td>2</td>\n",
       "      <td>5.74</td>\n",
       "      <td>9552</td>\n",
       "    </tr>\n",
       "    <tr>\n",
       "      <th>69</th>\n",
       "      <td>753</td>\n",
       "      <td>LaBelle Winery Blueberry</td>\n",
       "      <td>19.99</td>\n",
       "      <td>750mL</td>\n",
       "      <td>750.0</td>\n",
       "      <td>2</td>\n",
       "      <td>13.79</td>\n",
       "      <td>90032</td>\n",
       "    </tr>\n",
       "    <tr>\n",
       "      <th>95</th>\n",
       "      <td>870</td>\n",
       "      <td>Carpano Antica Formula</td>\n",
       "      <td>29.99</td>\n",
       "      <td>1000mL</td>\n",
       "      <td>1000.0</td>\n",
       "      <td>2</td>\n",
       "      <td>17.64</td>\n",
       "      <td>9165</td>\n",
       "    </tr>\n",
       "    <tr>\n",
       "      <th>1064</th>\n",
       "      <td>4491</td>\n",
       "      <td>Calvados Marquis De St Loup</td>\n",
       "      <td>27.99</td>\n",
       "      <td>750mL</td>\n",
       "      <td>750.0</td>\n",
       "      <td>2</td>\n",
       "      <td>19.04</td>\n",
       "      <td>9165</td>\n",
       "    </tr>\n",
       "    <tr>\n",
       "      <th>...</th>\n",
       "      <td>...</td>\n",
       "      <td>...</td>\n",
       "      <td>...</td>\n",
       "      <td>...</td>\n",
       "      <td>...</td>\n",
       "      <td>...</td>\n",
       "      <td>...</td>\n",
       "      <td>...</td>\n",
       "    </tr>\n",
       "    <tr>\n",
       "      <th>12255</th>\n",
       "      <td>44917</td>\n",
       "      <td>Ferreira 10-Yr Tawny Port</td>\n",
       "      <td>24.99</td>\n",
       "      <td>750mL</td>\n",
       "      <td>750.0</td>\n",
       "      <td>2</td>\n",
       "      <td>16.55</td>\n",
       "      <td>90024</td>\n",
       "    </tr>\n",
       "    <tr>\n",
       "      <th>12256</th>\n",
       "      <td>44944</td>\n",
       "      <td>Sanford Santa Rita Pnt Nr</td>\n",
       "      <td>22.99</td>\n",
       "      <td>750mL</td>\n",
       "      <td>750.0</td>\n",
       "      <td>2</td>\n",
       "      <td>14.93</td>\n",
       "      <td>4425</td>\n",
       "    </tr>\n",
       "    <tr>\n",
       "      <th>12257</th>\n",
       "      <td>45016</td>\n",
       "      <td>Neal One Lane Bridg Cab Svgn</td>\n",
       "      <td>93.99</td>\n",
       "      <td>750mL</td>\n",
       "      <td>750.0</td>\n",
       "      <td>2</td>\n",
       "      <td>61.43</td>\n",
       "      <td>10754</td>\n",
       "    </tr>\n",
       "    <tr>\n",
       "      <th>12258</th>\n",
       "      <td>46011</td>\n",
       "      <td>Folonari Pnt Nr Venezie</td>\n",
       "      <td>12.99</td>\n",
       "      <td>1500ml</td>\n",
       "      <td>1500.0</td>\n",
       "      <td>2</td>\n",
       "      <td>8.90</td>\n",
       "      <td>9744</td>\n",
       "    </tr>\n",
       "    <tr>\n",
       "      <th>12259</th>\n",
       "      <td>46964</td>\n",
       "      <td>Calera Viognier Mt Harlan</td>\n",
       "      <td>35.99</td>\n",
       "      <td>750mL</td>\n",
       "      <td>750.0</td>\n",
       "      <td>2</td>\n",
       "      <td>24.32</td>\n",
       "      <td>10754</td>\n",
       "    </tr>\n",
       "  </tbody>\n",
       "</table>\n",
       "<p>8693 rows × 8 columns</p>\n",
       "</div>"
      ],
      "text/plain": [
       "       Brand                   Description  Price    Size  Volume  \\\n",
       "57       605             Alate Kosher Wine  16.99   750mL   750.0   \n",
       "58       607        Schmitt Sohne Funf Rsl   8.49   750mL   750.0   \n",
       "69       753      LaBelle Winery Blueberry  19.99   750mL   750.0   \n",
       "95       870        Carpano Antica Formula  29.99  1000mL  1000.0   \n",
       "1064    4491   Calvados Marquis De St Loup  27.99   750mL   750.0   \n",
       "...      ...                           ...    ...     ...     ...   \n",
       "12255  44917     Ferreira 10-Yr Tawny Port  24.99   750mL   750.0   \n",
       "12256  44944     Sanford Santa Rita Pnt Nr  22.99   750mL   750.0   \n",
       "12257  45016  Neal One Lane Bridg Cab Svgn  93.99   750mL   750.0   \n",
       "12258  46011       Folonari Pnt Nr Venezie  12.99  1500ml  1500.0   \n",
       "12259  46964     Calera Viognier Mt Harlan  35.99   750mL   750.0   \n",
       "\n",
       "       Classification  PurchasePrice  VendorNumber  \n",
       "57                  2           9.67         10754  \n",
       "58                  2           5.74          9552  \n",
       "69                  2          13.79         90032  \n",
       "95                  2          17.64          9165  \n",
       "1064                2          19.04          9165  \n",
       "...               ...            ...           ...  \n",
       "12255               2          16.55         90024  \n",
       "12256               2          14.93          4425  \n",
       "12257               2          61.43         10754  \n",
       "12258               2           8.90          9744  \n",
       "12259               2          24.32         10754  \n",
       "\n",
       "[8693 rows x 8 columns]"
      ]
     },
     "execution_count": 101,
     "metadata": {},
     "output_type": "execute_result"
    }
   ],
   "source": [
    "df_Brands[df_Brands['Classification']==2]"
   ]
  },
  {
   "cell_type": "markdown",
   "metadata": {},
   "source": [
    "##### Analisis de Stores"
   ]
  },
  {
   "cell_type": "markdown",
   "metadata": {},
   "source": [
    "Los stores, todos tienen ambos productos?"
   ]
  },
  {
   "cell_type": "code",
   "execution_count": 114,
   "metadata": {},
   "outputs": [
    {
     "data": {
      "text/html": [
       "<div>\n",
       "<style scoped>\n",
       "    .dataframe tbody tr th:only-of-type {\n",
       "        vertical-align: middle;\n",
       "    }\n",
       "\n",
       "    .dataframe tbody tr th {\n",
       "        vertical-align: top;\n",
       "    }\n",
       "\n",
       "    .dataframe thead th {\n",
       "        text-align: right;\n",
       "    }\n",
       "</style>\n",
       "<table border=\"1\" class=\"dataframe\">\n",
       "  <thead>\n",
       "    <tr style=\"text-align: right;\">\n",
       "      <th></th>\n",
       "      <th>InventoryId</th>\n",
       "      <th>Brand</th>\n",
       "      <th>Store</th>\n",
       "    </tr>\n",
       "  </thead>\n",
       "  <tbody>\n",
       "    <tr>\n",
       "      <th>0</th>\n",
       "      <td>10_HORNSEY_1000</td>\n",
       "      <td>1000.0</td>\n",
       "      <td>10.0</td>\n",
       "    </tr>\n",
       "    <tr>\n",
       "      <th>1</th>\n",
       "      <td>10_HORNSEY_1001</td>\n",
       "      <td>1001.0</td>\n",
       "      <td>10.0</td>\n",
       "    </tr>\n",
       "    <tr>\n",
       "      <th>2</th>\n",
       "      <td>10_HORNSEY_1003</td>\n",
       "      <td>1003.0</td>\n",
       "      <td>10.0</td>\n",
       "    </tr>\n",
       "    <tr>\n",
       "      <th>3</th>\n",
       "      <td>10_HORNSEY_10030</td>\n",
       "      <td>10030.0</td>\n",
       "      <td>10.0</td>\n",
       "    </tr>\n",
       "    <tr>\n",
       "      <th>4</th>\n",
       "      <td>10_HORNSEY_1004</td>\n",
       "      <td>1004.0</td>\n",
       "      <td>10.0</td>\n",
       "    </tr>\n",
       "  </tbody>\n",
       "</table>\n",
       "</div>"
      ],
      "text/plain": [
       "        InventoryId    Brand  Store\n",
       "0   10_HORNSEY_1000   1000.0   10.0\n",
       "1   10_HORNSEY_1001   1001.0   10.0\n",
       "2   10_HORNSEY_1003   1003.0   10.0\n",
       "3  10_HORNSEY_10030  10030.0   10.0\n",
       "4   10_HORNSEY_1004   1004.0   10.0"
      ]
     },
     "execution_count": 114,
     "metadata": {},
     "output_type": "execute_result"
    }
   ],
   "source": [
    "df_Inventories.head(5)"
   ]
  },
  {
   "cell_type": "code",
   "execution_count": 123,
   "metadata": {},
   "outputs": [],
   "source": [
    "Inventories_class = pd.merge(df_Inventories,df_Brands[['Classification','Brand']],how='left',on = 'Brand')"
   ]
  },
  {
   "cell_type": "code",
   "execution_count": 124,
   "metadata": {},
   "outputs": [
    {
     "data": {
      "text/html": [
       "<div>\n",
       "<style scoped>\n",
       "    .dataframe tbody tr th:only-of-type {\n",
       "        vertical-align: middle;\n",
       "    }\n",
       "\n",
       "    .dataframe tbody tr th {\n",
       "        vertical-align: top;\n",
       "    }\n",
       "\n",
       "    .dataframe thead th {\n",
       "        text-align: right;\n",
       "    }\n",
       "</style>\n",
       "<table border=\"1\" class=\"dataframe\">\n",
       "  <thead>\n",
       "    <tr style=\"text-align: right;\">\n",
       "      <th></th>\n",
       "      <th>InventoryId</th>\n",
       "      <th>Brand</th>\n",
       "      <th>Store</th>\n",
       "      <th>Classification</th>\n",
       "    </tr>\n",
       "  </thead>\n",
       "  <tbody>\n",
       "    <tr>\n",
       "      <th>0</th>\n",
       "      <td>10_HORNSEY_1000</td>\n",
       "      <td>1000.0</td>\n",
       "      <td>10.0</td>\n",
       "      <td>1</td>\n",
       "    </tr>\n",
       "    <tr>\n",
       "      <th>1</th>\n",
       "      <td>10_HORNSEY_1001</td>\n",
       "      <td>1001.0</td>\n",
       "      <td>10.0</td>\n",
       "      <td>1</td>\n",
       "    </tr>\n",
       "    <tr>\n",
       "      <th>2</th>\n",
       "      <td>10_HORNSEY_1003</td>\n",
       "      <td>1003.0</td>\n",
       "      <td>10.0</td>\n",
       "      <td>1</td>\n",
       "    </tr>\n",
       "    <tr>\n",
       "      <th>3</th>\n",
       "      <td>10_HORNSEY_10030</td>\n",
       "      <td>10030.0</td>\n",
       "      <td>10.0</td>\n",
       "      <td>2</td>\n",
       "    </tr>\n",
       "    <tr>\n",
       "      <th>4</th>\n",
       "      <td>10_HORNSEY_1004</td>\n",
       "      <td>1004.0</td>\n",
       "      <td>10.0</td>\n",
       "      <td>1</td>\n",
       "    </tr>\n",
       "  </tbody>\n",
       "</table>\n",
       "</div>"
      ],
      "text/plain": [
       "        InventoryId    Brand  Store  Classification\n",
       "0   10_HORNSEY_1000   1000.0   10.0               1\n",
       "1   10_HORNSEY_1001   1001.0   10.0               1\n",
       "2   10_HORNSEY_1003   1003.0   10.0               1\n",
       "3  10_HORNSEY_10030  10030.0   10.0               2\n",
       "4   10_HORNSEY_1004   1004.0   10.0               1"
      ]
     },
     "execution_count": 124,
     "metadata": {},
     "output_type": "execute_result"
    }
   ],
   "source": [
    "Inventories_class.head(5)"
   ]
  },
  {
   "cell_type": "code",
   "execution_count": 127,
   "metadata": {},
   "outputs": [
    {
     "name": "stderr",
     "output_type": "stream",
     "text": [
      "C:\\Users\\PC\\AppData\\Local\\Temp\\ipykernel_31920\\4094263459.py:1: FutureWarning: The provided callable <function sum at 0x000001CCA4213A60> is currently using DataFrameGroupBy.sum. In a future version of pandas, the provided callable will be used directly. To keep current behavior pass the string \"sum\" instead.\n",
      "  ClassPorStore = Inventories_class.pivot_table(values ='Brand',index= 'Store', columns= 'Classification', aggfunc=np.sum)\n"
     ]
    }
   ],
   "source": [
    "ClassPorStore = Inventories_class.pivot_table(values ='Brand',index= 'Store', columns= 'Classification', aggfunc=np.sum)"
   ]
  },
  {
   "cell_type": "code",
   "execution_count": 129,
   "metadata": {},
   "outputs": [
    {
     "data": {
      "text/plain": [
       "Classification\n",
       "1    0\n",
       "2    0\n",
       "dtype: int64"
      ]
     },
     "execution_count": 129,
     "metadata": {},
     "output_type": "execute_result"
    }
   ],
   "source": [
    "ClassPorStore.isnull().sum()"
   ]
  },
  {
   "cell_type": "markdown",
   "metadata": {},
   "source": [
    "todos los Stores trabajan ambos tipos de productos : licores y vinos"
   ]
  },
  {
   "cell_type": "markdown",
   "metadata": {},
   "source": [
    "##### Análisis de Rotación"
   ]
  },
  {
   "cell_type": "markdown",
   "metadata": {},
   "source": [
    "Analizar el indice de rotacion de cada categoria y graficarla en barras. ¡Ojo ver fechas de las Ventas y filtrar por ahi!"
   ]
  },
  {
   "cell_type": "code",
   "execution_count": 145,
   "metadata": {},
   "outputs": [
    {
     "data": {
      "text/html": [
       "<div>\n",
       "<style scoped>\n",
       "    .dataframe tbody tr th:only-of-type {\n",
       "        vertical-align: middle;\n",
       "    }\n",
       "\n",
       "    .dataframe tbody tr th {\n",
       "        vertical-align: top;\n",
       "    }\n",
       "\n",
       "    .dataframe thead th {\n",
       "        text-align: right;\n",
       "    }\n",
       "</style>\n",
       "<table border=\"1\" class=\"dataframe\">\n",
       "  <thead>\n",
       "    <tr style=\"text-align: right;\">\n",
       "      <th></th>\n",
       "      <th>Brand</th>\n",
       "      <th>ExciseTax</th>\n",
       "      <th>InventoryId</th>\n",
       "      <th>SalesDate</th>\n",
       "      <th>SalesDollars</th>\n",
       "      <th>SalesPrice</th>\n",
       "      <th>SalesQuantity</th>\n",
       "      <th>Store</th>\n",
       "      <th>VendorNumber</th>\n",
       "      <th>Volume</th>\n",
       "    </tr>\n",
       "  </thead>\n",
       "  <tbody>\n",
       "    <tr>\n",
       "      <th>0</th>\n",
       "      <td>1004</td>\n",
       "      <td>0.79</td>\n",
       "      <td>1_HARDERSFIELD_1004</td>\n",
       "      <td>2016-01-01</td>\n",
       "      <td>16.49</td>\n",
       "      <td>16.49</td>\n",
       "      <td>1</td>\n",
       "      <td>1</td>\n",
       "      <td>12546</td>\n",
       "      <td>750</td>\n",
       "    </tr>\n",
       "    <tr>\n",
       "      <th>1</th>\n",
       "      <td>1004</td>\n",
       "      <td>1.57</td>\n",
       "      <td>1_HARDERSFIELD_1004</td>\n",
       "      <td>2016-01-02</td>\n",
       "      <td>32.98</td>\n",
       "      <td>16.49</td>\n",
       "      <td>2</td>\n",
       "      <td>1</td>\n",
       "      <td>12546</td>\n",
       "      <td>750</td>\n",
       "    </tr>\n",
       "    <tr>\n",
       "      <th>2</th>\n",
       "      <td>1004</td>\n",
       "      <td>0.79</td>\n",
       "      <td>1_HARDERSFIELD_1004</td>\n",
       "      <td>2016-01-03</td>\n",
       "      <td>16.49</td>\n",
       "      <td>16.49</td>\n",
       "      <td>1</td>\n",
       "      <td>1</td>\n",
       "      <td>12546</td>\n",
       "      <td>750</td>\n",
       "    </tr>\n",
       "  </tbody>\n",
       "</table>\n",
       "</div>"
      ],
      "text/plain": [
       "   Brand  ExciseTax          InventoryId   SalesDate  SalesDollars  \\\n",
       "0   1004       0.79  1_HARDERSFIELD_1004  2016-01-01         16.49   \n",
       "1   1004       1.57  1_HARDERSFIELD_1004  2016-01-02         32.98   \n",
       "2   1004       0.79  1_HARDERSFIELD_1004  2016-01-03         16.49   \n",
       "\n",
       "   SalesPrice  SalesQuantity  Store  VendorNumber  Volume  \n",
       "0       16.49              1      1         12546     750  \n",
       "1       16.49              2      1         12546     750  \n",
       "2       16.49              1      1         12546     750  "
      ]
     },
     "execution_count": 145,
     "metadata": {},
     "output_type": "execute_result"
    }
   ],
   "source": [
    "df_Sales.head(3)"
   ]
  },
  {
   "cell_type": "code",
   "execution_count": 114,
   "metadata": {},
   "outputs": [],
   "source": [
    "VentasCalculadasxBrand = VentasCalculadas.groupby('Brand').sum(numeric_only=True).reset_index()"
   ]
  },
  {
   "cell_type": "code",
   "execution_count": 115,
   "metadata": {},
   "outputs": [],
   "source": [
    "CostodeSales = pd.merge(VentasCalculadasxBrand[['Brand','VentasCalculadasUnidades']],df_Brands[['PurchasePrice','Brand','Classification']],how ='left', on = 'Brand')"
   ]
  },
  {
   "cell_type": "code",
   "execution_count": 120,
   "metadata": {},
   "outputs": [
    {
     "data": {
      "text/html": [
       "<div>\n",
       "<style scoped>\n",
       "    .dataframe tbody tr th:only-of-type {\n",
       "        vertical-align: middle;\n",
       "    }\n",
       "\n",
       "    .dataframe tbody tr th {\n",
       "        vertical-align: top;\n",
       "    }\n",
       "\n",
       "    .dataframe thead th {\n",
       "        text-align: right;\n",
       "    }\n",
       "</style>\n",
       "<table border=\"1\" class=\"dataframe\">\n",
       "  <thead>\n",
       "    <tr style=\"text-align: right;\">\n",
       "      <th></th>\n",
       "      <th>Brand</th>\n",
       "      <th>VentasCalculadasUnidades</th>\n",
       "      <th>PurchasePrice</th>\n",
       "      <th>Classification</th>\n",
       "      <th>CostoCompra</th>\n",
       "    </tr>\n",
       "  </thead>\n",
       "  <tbody>\n",
       "    <tr>\n",
       "      <th>0</th>\n",
       "      <td>58.0</td>\n",
       "      <td>3446.0</td>\n",
       "      <td>9.28</td>\n",
       "      <td>1</td>\n",
       "      <td>31978.88</td>\n",
       "    </tr>\n",
       "    <tr>\n",
       "      <th>1</th>\n",
       "      <td>60.0</td>\n",
       "      <td>1775.0</td>\n",
       "      <td>7.40</td>\n",
       "      <td>1</td>\n",
       "      <td>13135.00</td>\n",
       "    </tr>\n",
       "    <tr>\n",
       "      <th>2</th>\n",
       "      <td>61.0</td>\n",
       "      <td>312.0</td>\n",
       "      <td>10.60</td>\n",
       "      <td>1</td>\n",
       "      <td>3307.20</td>\n",
       "    </tr>\n",
       "    <tr>\n",
       "      <th>3</th>\n",
       "      <td>62.0</td>\n",
       "      <td>3125.0</td>\n",
       "      <td>28.67</td>\n",
       "      <td>1</td>\n",
       "      <td>89593.75</td>\n",
       "    </tr>\n",
       "    <tr>\n",
       "      <th>4</th>\n",
       "      <td>63.0</td>\n",
       "      <td>2778.0</td>\n",
       "      <td>30.46</td>\n",
       "      <td>1</td>\n",
       "      <td>84617.88</td>\n",
       "    </tr>\n",
       "  </tbody>\n",
       "</table>\n",
       "</div>"
      ],
      "text/plain": [
       "   Brand  VentasCalculadasUnidades  PurchasePrice  Classification  CostoCompra\n",
       "0   58.0                    3446.0           9.28               1     31978.88\n",
       "1   60.0                    1775.0           7.40               1     13135.00\n",
       "2   61.0                     312.0          10.60               1      3307.20\n",
       "3   62.0                    3125.0          28.67               1     89593.75\n",
       "4   63.0                    2778.0          30.46               1     84617.88"
      ]
     },
     "execution_count": 120,
     "metadata": {},
     "output_type": "execute_result"
    }
   ],
   "source": [
    "CostodeSales.head(5\n",
    "                  )"
   ]
  },
  {
   "cell_type": "code",
   "execution_count": 117,
   "metadata": {},
   "outputs": [],
   "source": [
    "CostodeSales['CostoCompra'] = CostodeSales['VentasCalculadasUnidades']*CostodeSales['PurchasePrice']"
   ]
  },
  {
   "cell_type": "code",
   "execution_count": 121,
   "metadata": {},
   "outputs": [
    {
     "name": "stdout",
     "output_type": "stream",
     "text": [
      "   Classification   CostoCompra\n",
      "0               1  2.113276e+08\n",
      "1               2  1.020577e+08\n"
     ]
    }
   ],
   "source": [
    "CostoBienesVendidos = CostodeSales.groupby('Classification').sum()['CostoCompra'].reset_index()\n",
    "print(CostoBienesVendidos)"
   ]
  },
  {
   "cell_type": "code",
   "execution_count": 160,
   "metadata": {},
   "outputs": [
    {
     "data": {
      "text/html": [
       "<div>\n",
       "<style scoped>\n",
       "    .dataframe tbody tr th:only-of-type {\n",
       "        vertical-align: middle;\n",
       "    }\n",
       "\n",
       "    .dataframe tbody tr th {\n",
       "        vertical-align: top;\n",
       "    }\n",
       "\n",
       "    .dataframe thead th {\n",
       "        text-align: right;\n",
       "    }\n",
       "</style>\n",
       "<table border=\"1\" class=\"dataframe\">\n",
       "  <thead>\n",
       "    <tr style=\"text-align: right;\">\n",
       "      <th></th>\n",
       "      <th>InventoryId</th>\n",
       "      <th>Brand</th>\n",
       "      <th>onHand</th>\n",
       "      <th>Store</th>\n",
       "      <th>Date</th>\n",
       "    </tr>\n",
       "  </thead>\n",
       "  <tbody>\n",
       "    <tr>\n",
       "      <th>0</th>\n",
       "      <td>1_HARDERSFIELD_58</td>\n",
       "      <td>58</td>\n",
       "      <td>11</td>\n",
       "      <td>1</td>\n",
       "      <td>2016-12-31</td>\n",
       "    </tr>\n",
       "    <tr>\n",
       "      <th>1</th>\n",
       "      <td>1_HARDERSFIELD_62</td>\n",
       "      <td>62</td>\n",
       "      <td>7</td>\n",
       "      <td>1</td>\n",
       "      <td>2016-12-31</td>\n",
       "    </tr>\n",
       "    <tr>\n",
       "      <th>2</th>\n",
       "      <td>1_HARDERSFIELD_63</td>\n",
       "      <td>63</td>\n",
       "      <td>7</td>\n",
       "      <td>1</td>\n",
       "      <td>2016-12-31</td>\n",
       "    </tr>\n",
       "    <tr>\n",
       "      <th>3</th>\n",
       "      <td>1_HARDERSFIELD_72</td>\n",
       "      <td>72</td>\n",
       "      <td>4</td>\n",
       "      <td>1</td>\n",
       "      <td>2016-12-31</td>\n",
       "    </tr>\n",
       "    <tr>\n",
       "      <th>4</th>\n",
       "      <td>1_HARDERSFIELD_75</td>\n",
       "      <td>75</td>\n",
       "      <td>7</td>\n",
       "      <td>1</td>\n",
       "      <td>2016-12-31</td>\n",
       "    </tr>\n",
       "    <tr>\n",
       "      <th>...</th>\n",
       "      <td>...</td>\n",
       "      <td>...</td>\n",
       "      <td>...</td>\n",
       "      <td>...</td>\n",
       "      <td>...</td>\n",
       "    </tr>\n",
       "    <tr>\n",
       "      <th>224484</th>\n",
       "      <td>81_PEMBROKE_90087</td>\n",
       "      <td>90087</td>\n",
       "      <td>3</td>\n",
       "      <td>81</td>\n",
       "      <td>2016-12-31</td>\n",
       "    </tr>\n",
       "    <tr>\n",
       "      <th>224485</th>\n",
       "      <td>81_PEMBROKE_90088</td>\n",
       "      <td>90088</td>\n",
       "      <td>3</td>\n",
       "      <td>81</td>\n",
       "      <td>2016-12-31</td>\n",
       "    </tr>\n",
       "    <tr>\n",
       "      <th>224486</th>\n",
       "      <td>81_PEMBROKE_90089</td>\n",
       "      <td>90089</td>\n",
       "      <td>3</td>\n",
       "      <td>81</td>\n",
       "      <td>2016-12-31</td>\n",
       "    </tr>\n",
       "    <tr>\n",
       "      <th>224487</th>\n",
       "      <td>81_PEMBROKE_90090</td>\n",
       "      <td>90090</td>\n",
       "      <td>3</td>\n",
       "      <td>81</td>\n",
       "      <td>2016-12-31</td>\n",
       "    </tr>\n",
       "    <tr>\n",
       "      <th>224488</th>\n",
       "      <td>81_PEMBROKE_90604</td>\n",
       "      <td>90604</td>\n",
       "      <td>2</td>\n",
       "      <td>81</td>\n",
       "      <td>2016-12-31</td>\n",
       "    </tr>\n",
       "  </tbody>\n",
       "</table>\n",
       "<p>224489 rows × 5 columns</p>\n",
       "</div>"
      ],
      "text/plain": [
       "              InventoryId  Brand  onHand  Store        Date\n",
       "0       1_HARDERSFIELD_58     58      11      1  2016-12-31\n",
       "1       1_HARDERSFIELD_62     62       7      1  2016-12-31\n",
       "2       1_HARDERSFIELD_63     63       7      1  2016-12-31\n",
       "3       1_HARDERSFIELD_72     72       4      1  2016-12-31\n",
       "4       1_HARDERSFIELD_75     75       7      1  2016-12-31\n",
       "...                   ...    ...     ...    ...         ...\n",
       "224484  81_PEMBROKE_90087  90087       3     81  2016-12-31\n",
       "224485  81_PEMBROKE_90088  90088       3     81  2016-12-31\n",
       "224486  81_PEMBROKE_90089  90089       3     81  2016-12-31\n",
       "224487  81_PEMBROKE_90090  90090       3     81  2016-12-31\n",
       "224488  81_PEMBROKE_90604  90604       2     81  2016-12-31\n",
       "\n",
       "[224489 rows x 5 columns]"
      ]
     },
     "execution_count": 160,
     "metadata": {},
     "output_type": "execute_result"
    }
   ],
   "source": [
    "df_InventoriesFinal"
   ]
  },
  {
   "cell_type": "code",
   "execution_count": 17,
   "metadata": {},
   "outputs": [],
   "source": [
    "InventariosProm= pd.merge(df_Inventories,df_InventoriesFinal[['onHand', 'InventoryId']], on='InventoryId', how = 'left')"
   ]
  },
  {
   "cell_type": "code",
   "execution_count": 18,
   "metadata": {},
   "outputs": [],
   "source": [
    "InventariosProm.rename(columns ={'onHand' : 'StockFinal'}, inplace= True)"
   ]
  },
  {
   "cell_type": "code",
   "execution_count": 19,
   "metadata": {},
   "outputs": [],
   "source": [
    "InventariosProm = pd.merge(InventariosProm,df_InventoriesInitial[['onHand', 'InventoryId']], on='InventoryId', how = 'left')"
   ]
  },
  {
   "cell_type": "code",
   "execution_count": 20,
   "metadata": {},
   "outputs": [],
   "source": [
    "InventariosProm.rename(columns ={'onHand' : 'StockInicial'}, inplace= True)"
   ]
  },
  {
   "cell_type": "code",
   "execution_count": 205,
   "metadata": {},
   "outputs": [
    {
     "data": {
      "text/html": [
       "<div>\n",
       "<style scoped>\n",
       "    .dataframe tbody tr th:only-of-type {\n",
       "        vertical-align: middle;\n",
       "    }\n",
       "\n",
       "    .dataframe tbody tr th {\n",
       "        vertical-align: top;\n",
       "    }\n",
       "\n",
       "    .dataframe thead th {\n",
       "        text-align: right;\n",
       "    }\n",
       "</style>\n",
       "<table border=\"1\" class=\"dataframe\">\n",
       "  <thead>\n",
       "    <tr style=\"text-align: right;\">\n",
       "      <th></th>\n",
       "      <th>InventoryId</th>\n",
       "      <th>Brand</th>\n",
       "      <th>Store</th>\n",
       "      <th>StockFinal</th>\n",
       "      <th>StockInicial</th>\n",
       "      <th>StockProm</th>\n",
       "      <th>PurchasePrice</th>\n",
       "      <th>Classification</th>\n",
       "      <th>CostoStockProm</th>\n",
       "    </tr>\n",
       "  </thead>\n",
       "  <tbody>\n",
       "    <tr>\n",
       "      <th>0</th>\n",
       "      <td>10_HORNSEY_1000</td>\n",
       "      <td>1000.0</td>\n",
       "      <td>10.0</td>\n",
       "      <td>0.0</td>\n",
       "      <td>1.0</td>\n",
       "      <td>-0.5</td>\n",
       "      <td>11.62</td>\n",
       "      <td>1</td>\n",
       "      <td>-5.81</td>\n",
       "    </tr>\n",
       "    <tr>\n",
       "      <th>1</th>\n",
       "      <td>10_HORNSEY_1001</td>\n",
       "      <td>1001.0</td>\n",
       "      <td>10.0</td>\n",
       "      <td>0.0</td>\n",
       "      <td>11.0</td>\n",
       "      <td>-5.5</td>\n",
       "      <td>4.28</td>\n",
       "      <td>1</td>\n",
       "      <td>-23.54</td>\n",
       "    </tr>\n",
       "  </tbody>\n",
       "</table>\n",
       "</div>"
      ],
      "text/plain": [
       "       InventoryId   Brand  Store  StockFinal  StockInicial  StockProm  \\\n",
       "0  10_HORNSEY_1000  1000.0   10.0         0.0           1.0       -0.5   \n",
       "1  10_HORNSEY_1001  1001.0   10.0         0.0          11.0       -5.5   \n",
       "\n",
       "   PurchasePrice  Classification  CostoStockProm  \n",
       "0          11.62               1           -5.81  \n",
       "1           4.28               1          -23.54  "
      ]
     },
     "execution_count": 205,
     "metadata": {},
     "output_type": "execute_result"
    }
   ],
   "source": [
    "InventariosProm.head(2)"
   ]
  },
  {
   "cell_type": "code",
   "execution_count": 21,
   "metadata": {},
   "outputs": [],
   "source": [
    "InventariosProm.fillna(0, inplace= True)"
   ]
  },
  {
   "cell_type": "code",
   "execution_count": 22,
   "metadata": {},
   "outputs": [],
   "source": [
    "InventariosProm['StockProm'] =(InventariosProm['StockFinal']-InventariosProm['StockInicial'])/2"
   ]
  },
  {
   "cell_type": "code",
   "execution_count": 23,
   "metadata": {},
   "outputs": [],
   "source": [
    "InventariosProm = pd.merge(InventariosProm,df_Brands[['Brand','PurchasePrice','Classification']], how='left', on = 'Brand')"
   ]
  },
  {
   "cell_type": "code",
   "execution_count": 24,
   "metadata": {},
   "outputs": [],
   "source": [
    "InventariosProm['CostoStockProm'] = InventariosProm['StockProm']*InventariosProm['PurchasePrice']"
   ]
  },
  {
   "cell_type": "code",
   "execution_count": 25,
   "metadata": {},
   "outputs": [
    {
     "name": "stdout",
     "output_type": "stream",
     "text": [
      "   Classification  CostoStockProm\n",
      "0               1     2818639.545\n",
      "1               2     1439093.250\n"
     ]
    }
   ],
   "source": [
    "InventariosPromxClass = InventariosProm.groupby('Classification')['CostoStockProm'].sum().reset_index()\n",
    "print(InventariosPromxClass)"
   ]
  },
  {
   "cell_type": "code",
   "execution_count": null,
   "metadata": {},
   "outputs": [],
   "source": [
    "InventoriesIDs = pd.concat([InventoriesIDs,df_BegInv['InventoryId']],ignore_index= True)"
   ]
  },
  {
   "cell_type": "code",
   "execution_count": 122,
   "metadata": {},
   "outputs": [
    {
     "name": "stdout",
     "output_type": "stream",
     "text": [
      "   Classification   CostoCompra  CostoStockProm\n",
      "0               1  2.113276e+08     2818639.545\n",
      "1               2  1.020577e+08     1439093.250\n"
     ]
    }
   ],
   "source": [
    "RotacionInventarios = pd.merge(CostoBienesVendidos,InventariosPromxClass, on= 'Classification', how = 'left')\n",
    "print(RotacionInventarios)"
   ]
  },
  {
   "cell_type": "code",
   "execution_count": 123,
   "metadata": {},
   "outputs": [],
   "source": [
    "RotacionInventarios['Rotacion'] = (RotacionInventarios['CostoCompra']/RotacionInventarios['CostoStockProm']*100)"
   ]
  },
  {
   "cell_type": "code",
   "execution_count": 124,
   "metadata": {},
   "outputs": [
    {
     "data": {
      "text/html": [
       "<div>\n",
       "<style scoped>\n",
       "    .dataframe tbody tr th:only-of-type {\n",
       "        vertical-align: middle;\n",
       "    }\n",
       "\n",
       "    .dataframe tbody tr th {\n",
       "        vertical-align: top;\n",
       "    }\n",
       "\n",
       "    .dataframe thead th {\n",
       "        text-align: right;\n",
       "    }\n",
       "</style>\n",
       "<table border=\"1\" class=\"dataframe\">\n",
       "  <thead>\n",
       "    <tr style=\"text-align: right;\">\n",
       "      <th></th>\n",
       "      <th>Classification</th>\n",
       "      <th>CostoCompra</th>\n",
       "      <th>CostoStockProm</th>\n",
       "      <th>Rotacion</th>\n",
       "    </tr>\n",
       "  </thead>\n",
       "  <tbody>\n",
       "    <tr>\n",
       "      <th>0</th>\n",
       "      <td>1</td>\n",
       "      <td>2.113276e+08</td>\n",
       "      <td>2818639.545</td>\n",
       "      <td>7497.501899</td>\n",
       "    </tr>\n",
       "    <tr>\n",
       "      <th>1</th>\n",
       "      <td>2</td>\n",
       "      <td>1.020577e+08</td>\n",
       "      <td>1439093.250</td>\n",
       "      <td>7091.809133</td>\n",
       "    </tr>\n",
       "  </tbody>\n",
       "</table>\n",
       "</div>"
      ],
      "text/plain": [
       "   Classification   CostoCompra  CostoStockProm     Rotacion\n",
       "0               1  2.113276e+08     2818639.545  7497.501899\n",
       "1               2  1.020577e+08     1439093.250  7091.809133"
      ]
     },
     "execution_count": 124,
     "metadata": {},
     "output_type": "execute_result"
    }
   ],
   "source": [
    "RotacionInventarios"
   ]
  },
  {
   "cell_type": "code",
   "execution_count": 215,
   "metadata": {},
   "outputs": [
    {
     "data": {
      "text/plain": [
       "0    1\n",
       "1    2\n",
       "Name: Classification, dtype: int64"
      ]
     },
     "execution_count": 215,
     "metadata": {},
     "output_type": "execute_result"
    }
   ],
   "source": [
    "RotacionInventarios['Classification']"
   ]
  },
  {
   "cell_type": "code",
   "execution_count": 216,
   "metadata": {},
   "outputs": [
    {
     "data": {
      "text/plain": [
       "0    14685308.75\n",
       "1     7614332.02\n",
       "Name: CostoCompra, dtype: float64"
      ]
     },
     "execution_count": 216,
     "metadata": {},
     "output_type": "execute_result"
    }
   ],
   "source": [
    "RotacionInventarios['CostoCompra']"
   ]
  },
  {
   "cell_type": "code",
   "execution_count": 234,
   "metadata": {},
   "outputs": [],
   "source": [
    "x= list(RotacionInventarios['Classification'])\n",
    "datos = list(RotacionInventarios['CostoCompra'])"
   ]
  },
  {
   "cell_type": "code",
   "execution_count": 237,
   "metadata": {},
   "outputs": [
    {
     "data": {
      "text/plain": [
       "[14685308.75, 7614332.0200000005]"
      ]
     },
     "execution_count": 237,
     "metadata": {},
     "output_type": "execute_result"
    }
   ],
   "source": [
    "datos"
   ]
  },
  {
   "cell_type": "code",
   "execution_count": 246,
   "metadata": {},
   "outputs": [
    {
     "data": {
      "image/png": "[encoded data removed]",
      "text/plain": [
       "<Figure size 700x700 with 1 Axes>"
      ]
     },
     "metadata": {},
     "output_type": "display_data"
    }
   ],
   "source": [
    "indice = np.arange(len(x))\n",
    "\n",
    "plt.figure(figsize=(7, 7))  \n",
    "barras = plt.bar(indice, datos, width = 0.5, label='Costo Bienes Vendidos', color = 'blue')\n",
    "plt.xticks(indice, ['Licores', 'Vinos'])\n",
    "plt.title('Costo Bienes Vendidos')\n",
    "\n",
    "# para poner los valores en las barras\n",
    "for barra in barras:\n",
    "    altura = barra.get_height()\n",
    "    plt.annotate(f'{altura:.2f}', \n",
    "                 xy=(barra.get_x() + barra.get_width() / 2, altura),\n",
    "                 xytext=(0, 3),  # 3 puntos de desplazamiento vertical\n",
    "                 textcoords=\"offset points\",\n",
    "                 ha='center', va='bottom')\n",
    "\n",
    "\n",
    "plt.show()"
   ]
  },
  {
   "cell_type": "code",
   "execution_count": 269,
   "metadata": {},
   "outputs": [
    {
     "data": {
      "image/png": "[encoded data removed]",
      "text/plain": [
       "<Figure size 700x700 with 1 Axes>"
      ]
     },
     "metadata": {},
     "output_type": "display_data"
    }
   ],
   "source": [
    "plt.figure(figsize=(7, 7))  \n",
    "sns.barplot(data=RotacionInventarios,x='Classification',y='CostoCompra', hue='Classification')\n",
    "plt.title('Costo Bienes Vendidos')\n",
    "plt.xlabel('Categoría')\n",
    "plt.show()\n"
   ]
  },
  {
   "cell_type": "code",
   "execution_count": 265,
   "metadata": {},
   "outputs": [
    {
     "data": {
      "image/png": "[encoded data removed]",
      "text/plain": [
       "<Figure size 640x480 with 2 Axes>"
      ]
     },
     "metadata": {},
     "output_type": "display_data"
    }
   ],
   "source": [
    "\n",
    "# Datos\n",
    "categorias = ['Licores', 'Vinos']\n",
    "grupo1 =RotacionInventarios['CostoCompra']\n",
    "grupo2 = RotacionInventarios['CostoStockProm']\n",
    "grupo3 = RotacionInventarios['Rotacion']\n",
    "# Configuración de las posiciones de las barras\n",
    "bar_width = 0.35\n",
    "indice = np.arange(len(categorias))\n",
    "\n",
    "# Crear el gráfico de barras\n",
    "fig, (ax, ax2)  = plt.subplots(1,2)\n",
    "bar1 = ax.bar(indice, grupo1, bar_width, label='Costo Bienes Vendidos')\n",
    "bar2 = ax.bar(indice + bar_width, grupo2, bar_width, label='Stock Promedio')\n",
    "bar3 = ax2.bar(indice , grupo3, bar_width, label='Rotación', color = 'green')\n",
    "\n",
    "\n",
    "# Añadir etiquetas y leyenda\n",
    "ax.set_xlabel('Vinos y Licores')\n",
    "ax2.set_xlabel('Vinos y Licores')\n",
    "\n",
    "ax.set_ylabel('Valores')\n",
    "ax2.set_ylabel('Valores')\n",
    "\n",
    "fig.suptitle('Analisis de Rotación de Inventarios')\n",
    "fig.tight_layout()\n",
    "\n",
    "ax.set_title('Costo Bienes Vendidos y Stock Promedio')\n",
    "ax2.set_title('Rotación')\n",
    "\n",
    "ax.set_xticks(indice + bar_width / 2)\n",
    "ax2.set_xticks(indice + bar_width / 2)\n",
    "\n",
    "ax.set_xticklabels(categorias)\n",
    "ax2.set_xticklabels(categorias)\n",
    "\n",
    "ax.legend()\n",
    "\n",
    "\n",
    "# Mostrar el gráfico\n",
    "plt.show()\n"
   ]
  },
  {
   "cell_type": "markdown",
   "metadata": {},
   "source": [
    "La Rotacion de Inventarios es similar por Categoría"
   ]
  },
  {
   "cell_type": "code",
   "execution_count": null,
   "metadata": {},
   "outputs": [],
   "source": [
    "ventas_por_producto = df_Sales.groupby('InventoryId')['SalesQuantity'].sum().reset_index()\n"
   ]
  },
  {
   "cell_type": "code",
   "execution_count": null,
   "metadata": {},
   "outputs": [],
   "source": [
    "## armar uno de inventario final vs inventario inicial vs ventas"
   ]
  },
  {
   "cell_type": "code",
   "execution_count": 330,
   "metadata": {},
   "outputs": [
    {
     "data": {
      "text/plain": [
       "Index(['InventoryId', 'Brand', 'Store', 'StockFinal', 'StockInicial',\n",
       "       'StockProm', 'PurchasePrice', 'Classification', 'CostoStockProm'],\n",
       "      dtype='object')"
      ]
     },
     "execution_count": 330,
     "metadata": {},
     "output_type": "execute_result"
    }
   ],
   "source": [
    "InventariosProm.columns"
   ]
  },
  {
   "cell_type": "code",
   "execution_count": 26,
   "metadata": {},
   "outputs": [],
   "source": [
    "InventariosPromxStore = InventariosProm.groupby('Store').sum()[['StockInicial','StockFinal']].reset_index()"
   ]
  },
  {
   "cell_type": "code",
   "execution_count": 31,
   "metadata": {},
   "outputs": [],
   "source": [
    "InventariosPromxStoreTop_10 = InventariosPromxStore.sort_values(by='StockFinal', ascending=False).head(10)\n"
   ]
  },
  {
   "cell_type": "code",
   "execution_count": 27,
   "metadata": {},
   "outputs": [
    {
     "data": {
      "text/html": [
       "<div>\n",
       "<style scoped>\n",
       "    .dataframe tbody tr th:only-of-type {\n",
       "        vertical-align: middle;\n",
       "    }\n",
       "\n",
       "    .dataframe tbody tr th {\n",
       "        vertical-align: top;\n",
       "    }\n",
       "\n",
       "    .dataframe thead th {\n",
       "        text-align: right;\n",
       "    }\n",
       "</style>\n",
       "<table border=\"1\" class=\"dataframe\">\n",
       "  <thead>\n",
       "    <tr style=\"text-align: right;\">\n",
       "      <th></th>\n",
       "      <th>Store</th>\n",
       "      <th>StockInicial</th>\n",
       "      <th>StockFinal</th>\n",
       "    </tr>\n",
       "  </thead>\n",
       "  <tbody>\n",
       "    <tr>\n",
       "      <th>0</th>\n",
       "      <td>1.0</td>\n",
       "      <td>49917.0</td>\n",
       "      <td>79827.0</td>\n",
       "    </tr>\n",
       "    <tr>\n",
       "      <th>1</th>\n",
       "      <td>2.0</td>\n",
       "      <td>52925.0</td>\n",
       "      <td>56671.0</td>\n",
       "    </tr>\n",
       "    <tr>\n",
       "      <th>2</th>\n",
       "      <td>3.0</td>\n",
       "      <td>8379.0</td>\n",
       "      <td>8470.0</td>\n",
       "    </tr>\n",
       "    <tr>\n",
       "      <th>3</th>\n",
       "      <td>4.0</td>\n",
       "      <td>56819.0</td>\n",
       "      <td>60570.0</td>\n",
       "    </tr>\n",
       "    <tr>\n",
       "      <th>4</th>\n",
       "      <td>5.0</td>\n",
       "      <td>17968.0</td>\n",
       "      <td>21708.0</td>\n",
       "    </tr>\n",
       "    <tr>\n",
       "      <th>...</th>\n",
       "      <td>...</td>\n",
       "      <td>...</td>\n",
       "      <td>...</td>\n",
       "    </tr>\n",
       "    <tr>\n",
       "      <th>75</th>\n",
       "      <td>76.0</td>\n",
       "      <td>140208.0</td>\n",
       "      <td>143866.0</td>\n",
       "    </tr>\n",
       "    <tr>\n",
       "      <th>76</th>\n",
       "      <td>77.0</td>\n",
       "      <td>39242.0</td>\n",
       "      <td>46603.0</td>\n",
       "    </tr>\n",
       "    <tr>\n",
       "      <th>77</th>\n",
       "      <td>78.0</td>\n",
       "      <td>21395.0</td>\n",
       "      <td>39746.0</td>\n",
       "    </tr>\n",
       "    <tr>\n",
       "      <th>78</th>\n",
       "      <td>79.0</td>\n",
       "      <td>95330.0</td>\n",
       "      <td>93368.0</td>\n",
       "    </tr>\n",
       "    <tr>\n",
       "      <th>79</th>\n",
       "      <td>81.0</td>\n",
       "      <td>0.0</td>\n",
       "      <td>93734.0</td>\n",
       "    </tr>\n",
       "  </tbody>\n",
       "</table>\n",
       "<p>80 rows × 3 columns</p>\n",
       "</div>"
      ],
      "text/plain": [
       "    Store  StockInicial  StockFinal\n",
       "0     1.0       49917.0     79827.0\n",
       "1     2.0       52925.0     56671.0\n",
       "2     3.0        8379.0      8470.0\n",
       "3     4.0       56819.0     60570.0\n",
       "4     5.0       17968.0     21708.0\n",
       "..    ...           ...         ...\n",
       "75   76.0      140208.0    143866.0\n",
       "76   77.0       39242.0     46603.0\n",
       "77   78.0       21395.0     39746.0\n",
       "78   79.0       95330.0     93368.0\n",
       "79   81.0           0.0     93734.0\n",
       "\n",
       "[80 rows x 3 columns]"
      ]
     },
     "execution_count": 27,
     "metadata": {},
     "output_type": "execute_result"
    }
   ],
   "source": [
    "InventariosPromxStore"
   ]
  },
  {
   "cell_type": "code",
   "execution_count": 32,
   "metadata": {},
   "outputs": [
    {
     "data": {
      "image/png": "[encoded data removed]",
      "text/plain": [
       "<Figure size 640x480 with 1 Axes>"
      ]
     },
     "metadata": {},
     "output_type": "display_data"
    }
   ],
   "source": [
    "# Datos\n",
    "categorias = InventariosPromxStoreTop_10['Store']\n",
    "grupo1 =InventariosPromxStoreTop_10['StockInicial']\n",
    "grupo2 = InventariosPromxStoreTop_10['StockFinal']\n",
    "\n",
    "# Configuración de las posiciones de las barras\n",
    "bar_width = 0.35\n",
    "indice = np.arange(len(categorias))\n",
    "\n",
    "# Crear el gráfico de barras\n",
    "fig, ax  = plt.subplots()\n",
    "bar1 = ax.bar(indice, grupo1, bar_width, label='StockInicial')\n",
    "bar2 = ax.bar(indice + bar_width, grupo2, bar_width, label='StockFinal')\n",
    "\n",
    "\n",
    "# Añadir etiquetas y leyenda\n",
    "ax.set_xlabel('Stock Final e Inicial')\n",
    "\n",
    "ax.set_ylabel('Unidades')\n",
    "\n",
    "\n",
    "ax.set_title('Estado del Stock en Unidades por Store')\n",
    "\n",
    "ax.set_xticks(indice + bar_width / 2)\n",
    "\n",
    "ax.set_xticklabels(categorias)\n",
    "\n",
    "ax.legend()\n",
    "\n",
    "\n",
    "# Mostrar el gráfico\n",
    "plt.show()\n"
   ]
  },
  {
   "cell_type": "code",
   "execution_count": 33,
   "metadata": {},
   "outputs": [
    {
     "data": {
      "text/html": [
       "<div>\n",
       "<style scoped>\n",
       "    .dataframe tbody tr th:only-of-type {\n",
       "        vertical-align: middle;\n",
       "    }\n",
       "\n",
       "    .dataframe tbody tr th {\n",
       "        vertical-align: top;\n",
       "    }\n",
       "\n",
       "    .dataframe thead th {\n",
       "        text-align: right;\n",
       "    }\n",
       "</style>\n",
       "<table border=\"1\" class=\"dataframe\">\n",
       "  <thead>\n",
       "    <tr style=\"text-align: right;\">\n",
       "      <th></th>\n",
       "      <th>InventoryId</th>\n",
       "      <th>Brand</th>\n",
       "      <th>Store</th>\n",
       "      <th>StockFinal</th>\n",
       "      <th>StockInicial</th>\n",
       "      <th>StockProm</th>\n",
       "      <th>PurchasePrice</th>\n",
       "      <th>Classification</th>\n",
       "      <th>CostoStockProm</th>\n",
       "    </tr>\n",
       "  </thead>\n",
       "  <tbody>\n",
       "    <tr>\n",
       "      <th>0</th>\n",
       "      <td>10_HORNSEY_1000</td>\n",
       "      <td>1000.0</td>\n",
       "      <td>10.0</td>\n",
       "      <td>0.0</td>\n",
       "      <td>1.0</td>\n",
       "      <td>-0.5</td>\n",
       "      <td>11.62</td>\n",
       "      <td>1</td>\n",
       "      <td>-5.810</td>\n",
       "    </tr>\n",
       "    <tr>\n",
       "      <th>1</th>\n",
       "      <td>10_HORNSEY_1001</td>\n",
       "      <td>1001.0</td>\n",
       "      <td>10.0</td>\n",
       "      <td>0.0</td>\n",
       "      <td>11.0</td>\n",
       "      <td>-5.5</td>\n",
       "      <td>4.28</td>\n",
       "      <td>1</td>\n",
       "      <td>-23.540</td>\n",
       "    </tr>\n",
       "    <tr>\n",
       "      <th>2</th>\n",
       "      <td>10_HORNSEY_1003</td>\n",
       "      <td>1003.0</td>\n",
       "      <td>10.0</td>\n",
       "      <td>73.0</td>\n",
       "      <td>0.0</td>\n",
       "      <td>36.5</td>\n",
       "      <td>16.66</td>\n",
       "      <td>1</td>\n",
       "      <td>608.090</td>\n",
       "    </tr>\n",
       "    <tr>\n",
       "      <th>3</th>\n",
       "      <td>10_HORNSEY_10030</td>\n",
       "      <td>10030.0</td>\n",
       "      <td>10.0</td>\n",
       "      <td>0.0</td>\n",
       "      <td>0.0</td>\n",
       "      <td>0.0</td>\n",
       "      <td>5.19</td>\n",
       "      <td>2</td>\n",
       "      <td>0.000</td>\n",
       "    </tr>\n",
       "    <tr>\n",
       "      <th>4</th>\n",
       "      <td>10_HORNSEY_1004</td>\n",
       "      <td>1004.0</td>\n",
       "      <td>10.0</td>\n",
       "      <td>0.0</td>\n",
       "      <td>0.0</td>\n",
       "      <td>0.0</td>\n",
       "      <td>10.65</td>\n",
       "      <td>1</td>\n",
       "      <td>0.000</td>\n",
       "    </tr>\n",
       "    <tr>\n",
       "      <th>...</th>\n",
       "      <td>...</td>\n",
       "      <td>...</td>\n",
       "      <td>...</td>\n",
       "      <td>...</td>\n",
       "      <td>...</td>\n",
       "      <td>...</td>\n",
       "      <td>...</td>\n",
       "      <td>...</td>\n",
       "      <td>...</td>\n",
       "    </tr>\n",
       "    <tr>\n",
       "      <th>276384</th>\n",
       "      <td>9_BLACKPOOL_9388</td>\n",
       "      <td>9388.0</td>\n",
       "      <td>9.0</td>\n",
       "      <td>4.0</td>\n",
       "      <td>7.0</td>\n",
       "      <td>-1.5</td>\n",
       "      <td>17.14</td>\n",
       "      <td>1</td>\n",
       "      <td>-25.710</td>\n",
       "    </tr>\n",
       "    <tr>\n",
       "      <th>276385</th>\n",
       "      <td>9_BLACKPOOL_942</td>\n",
       "      <td>942.0</td>\n",
       "      <td>9.0</td>\n",
       "      <td>2.0</td>\n",
       "      <td>0.0</td>\n",
       "      <td>1.0</td>\n",
       "      <td>45.45</td>\n",
       "      <td>1</td>\n",
       "      <td>45.450</td>\n",
       "    </tr>\n",
       "    <tr>\n",
       "      <th>276386</th>\n",
       "      <td>9_BLACKPOOL_966</td>\n",
       "      <td>966.0</td>\n",
       "      <td>9.0</td>\n",
       "      <td>9.0</td>\n",
       "      <td>8.0</td>\n",
       "      <td>0.5</td>\n",
       "      <td>16.15</td>\n",
       "      <td>1</td>\n",
       "      <td>8.075</td>\n",
       "    </tr>\n",
       "    <tr>\n",
       "      <th>276387</th>\n",
       "      <td>9_BLACKPOOL_984</td>\n",
       "      <td>984.0</td>\n",
       "      <td>9.0</td>\n",
       "      <td>5.0</td>\n",
       "      <td>23.0</td>\n",
       "      <td>-9.0</td>\n",
       "      <td>20.63</td>\n",
       "      <td>1</td>\n",
       "      <td>-185.670</td>\n",
       "    </tr>\n",
       "    <tr>\n",
       "      <th>276388</th>\n",
       "      <td>9_BLACKPOOL_999</td>\n",
       "      <td>999.0</td>\n",
       "      <td>9.0</td>\n",
       "      <td>0.0</td>\n",
       "      <td>0.0</td>\n",
       "      <td>0.0</td>\n",
       "      <td>89.84</td>\n",
       "      <td>1</td>\n",
       "      <td>0.000</td>\n",
       "    </tr>\n",
       "  </tbody>\n",
       "</table>\n",
       "<p>276389 rows × 9 columns</p>\n",
       "</div>"
      ],
      "text/plain": [
       "             InventoryId    Brand  Store  StockFinal  StockInicial  StockProm  \\\n",
       "0        10_HORNSEY_1000   1000.0   10.0         0.0           1.0       -0.5   \n",
       "1        10_HORNSEY_1001   1001.0   10.0         0.0          11.0       -5.5   \n",
       "2        10_HORNSEY_1003   1003.0   10.0        73.0           0.0       36.5   \n",
       "3       10_HORNSEY_10030  10030.0   10.0         0.0           0.0        0.0   \n",
       "4        10_HORNSEY_1004   1004.0   10.0         0.0           0.0        0.0   \n",
       "...                  ...      ...    ...         ...           ...        ...   \n",
       "276384  9_BLACKPOOL_9388   9388.0    9.0         4.0           7.0       -1.5   \n",
       "276385   9_BLACKPOOL_942    942.0    9.0         2.0           0.0        1.0   \n",
       "276386   9_BLACKPOOL_966    966.0    9.0         9.0           8.0        0.5   \n",
       "276387   9_BLACKPOOL_984    984.0    9.0         5.0          23.0       -9.0   \n",
       "276388   9_BLACKPOOL_999    999.0    9.0         0.0           0.0        0.0   \n",
       "\n",
       "        PurchasePrice  Classification  CostoStockProm  \n",
       "0               11.62               1          -5.810  \n",
       "1                4.28               1         -23.540  \n",
       "2               16.66               1         608.090  \n",
       "3                5.19               2           0.000  \n",
       "4               10.65               1           0.000  \n",
       "...               ...             ...             ...  \n",
       "276384          17.14               1         -25.710  \n",
       "276385          45.45               1          45.450  \n",
       "276386          16.15               1           8.075  \n",
       "276387          20.63               1        -185.670  \n",
       "276388          89.84               1           0.000  \n",
       "\n",
       "[276389 rows x 9 columns]"
      ]
     },
     "execution_count": 33,
     "metadata": {},
     "output_type": "execute_result"
    }
   ],
   "source": [
    "InventariosProm"
   ]
  },
  {
   "cell_type": "code",
   "execution_count": 34,
   "metadata": {},
   "outputs": [
    {
     "data": {
      "text/html": [
       "<div>\n",
       "<style scoped>\n",
       "    .dataframe tbody tr th:only-of-type {\n",
       "        vertical-align: middle;\n",
       "    }\n",
       "\n",
       "    .dataframe tbody tr th {\n",
       "        vertical-align: top;\n",
       "    }\n",
       "\n",
       "    .dataframe thead th {\n",
       "        text-align: right;\n",
       "    }\n",
       "</style>\n",
       "<table border=\"1\" class=\"dataframe\">\n",
       "  <thead>\n",
       "    <tr style=\"text-align: right;\">\n",
       "      <th></th>\n",
       "      <th>Brand</th>\n",
       "      <th>Dollars</th>\n",
       "      <th>InventoryId</th>\n",
       "      <th>PONumber</th>\n",
       "      <th>PurchasePrice</th>\n",
       "      <th>Quantity</th>\n",
       "      <th>ReceivingDate</th>\n",
       "      <th>Store</th>\n",
       "      <th>VendorNumber</th>\n",
       "    </tr>\n",
       "  </thead>\n",
       "  <tbody>\n",
       "    <tr>\n",
       "      <th>0</th>\n",
       "      <td>8412</td>\n",
       "      <td>214.26</td>\n",
       "      <td>69_MOUNTMEND_8412</td>\n",
       "      <td>8124</td>\n",
       "      <td>35.71</td>\n",
       "      <td>6</td>\n",
       "      <td>2016-01-02</td>\n",
       "      <td>69</td>\n",
       "      <td>105</td>\n",
       "    </tr>\n",
       "  </tbody>\n",
       "</table>\n",
       "</div>"
      ],
      "text/plain": [
       "   Brand  Dollars        InventoryId  PONumber  PurchasePrice  Quantity  \\\n",
       "0   8412   214.26  69_MOUNTMEND_8412      8124          35.71         6   \n",
       "\n",
       "  ReceivingDate  Store  VendorNumber  \n",
       "0    2016-01-02     69           105  "
      ]
     },
     "execution_count": 34,
     "metadata": {},
     "output_type": "execute_result"
    }
   ],
   "source": [
    "df_InvoicePurchasesDetails.head(1)"
   ]
  },
  {
   "cell_type": "code",
   "execution_count": 73,
   "metadata": {},
   "outputs": [
    {
     "data": {
      "text/plain": [
       "(2372474, 9)"
      ]
     },
     "execution_count": 73,
     "metadata": {},
     "output_type": "execute_result"
    }
   ],
   "source": [
    "df_InvoicePurchasesDetails.shape"
   ]
  },
  {
   "cell_type": "code",
   "execution_count": 78,
   "metadata": {},
   "outputs": [],
   "source": [
    "df_InvoicePurchasesDetails['ReceivingDate'] = pd.to_datetime(df_InvoicePurchasesDetails['ReceivingDate'])\n"
   ]
  },
  {
   "cell_type": "code",
   "execution_count": 79,
   "metadata": {},
   "outputs": [],
   "source": [
    "ComprasHasta31_12_16 = df_InvoicePurchasesDetails[df_InvoicePurchasesDetails['ReceivingDate']<'2017-01-01']"
   ]
  },
  {
   "cell_type": "code",
   "execution_count": 80,
   "metadata": {},
   "outputs": [
    {
     "data": {
      "text/plain": [
       "(2372474, 9)"
      ]
     },
     "execution_count": 80,
     "metadata": {},
     "output_type": "execute_result"
    }
   ],
   "source": [
    "ComprasHasta31_12_16.shape"
   ]
  },
  {
   "cell_type": "code",
   "execution_count": 83,
   "metadata": {},
   "outputs": [],
   "source": [
    "ComprasporInvID = ComprasHasta31_12_16.groupby('InventoryId').sum(numeric_only=True)['Quantity'].reset_index()"
   ]
  },
  {
   "cell_type": "code",
   "execution_count": 84,
   "metadata": {},
   "outputs": [
    {
     "data": {
      "text/html": [
       "<div>\n",
       "<style scoped>\n",
       "    .dataframe tbody tr th:only-of-type {\n",
       "        vertical-align: middle;\n",
       "    }\n",
       "\n",
       "    .dataframe tbody tr th {\n",
       "        vertical-align: top;\n",
       "    }\n",
       "\n",
       "    .dataframe thead th {\n",
       "        text-align: right;\n",
       "    }\n",
       "</style>\n",
       "<table border=\"1\" class=\"dataframe\">\n",
       "  <thead>\n",
       "    <tr style=\"text-align: right;\">\n",
       "      <th></th>\n",
       "      <th>InventoryId</th>\n",
       "      <th>Quantity</th>\n",
       "    </tr>\n",
       "  </thead>\n",
       "  <tbody>\n",
       "    <tr>\n",
       "      <th>0</th>\n",
       "      <td>10_HORNSEY_1001</td>\n",
       "      <td>120</td>\n",
       "    </tr>\n",
       "    <tr>\n",
       "      <th>1</th>\n",
       "      <td>10_HORNSEY_1003</td>\n",
       "      <td>227</td>\n",
       "    </tr>\n",
       "    <tr>\n",
       "      <th>2</th>\n",
       "      <td>10_HORNSEY_10030</td>\n",
       "      <td>13</td>\n",
       "    </tr>\n",
       "    <tr>\n",
       "      <th>3</th>\n",
       "      <td>10_HORNSEY_1004</td>\n",
       "      <td>12</td>\n",
       "    </tr>\n",
       "    <tr>\n",
       "      <th>4</th>\n",
       "      <td>10_HORNSEY_10057</td>\n",
       "      <td>12</td>\n",
       "    </tr>\n",
       "    <tr>\n",
       "      <th>...</th>\n",
       "      <td>...</td>\n",
       "      <td>...</td>\n",
       "    </tr>\n",
       "    <tr>\n",
       "      <th>245902</th>\n",
       "      <td>9_BLACKPOOL_9388</td>\n",
       "      <td>24</td>\n",
       "    </tr>\n",
       "    <tr>\n",
       "      <th>245903</th>\n",
       "      <td>9_BLACKPOOL_942</td>\n",
       "      <td>9</td>\n",
       "    </tr>\n",
       "    <tr>\n",
       "      <th>245904</th>\n",
       "      <td>9_BLACKPOOL_966</td>\n",
       "      <td>84</td>\n",
       "    </tr>\n",
       "    <tr>\n",
       "      <th>245905</th>\n",
       "      <td>9_BLACKPOOL_984</td>\n",
       "      <td>43</td>\n",
       "    </tr>\n",
       "    <tr>\n",
       "      <th>245906</th>\n",
       "      <td>9_BLACKPOOL_999</td>\n",
       "      <td>3</td>\n",
       "    </tr>\n",
       "  </tbody>\n",
       "</table>\n",
       "<p>245907 rows × 2 columns</p>\n",
       "</div>"
      ],
      "text/plain": [
       "             InventoryId  Quantity\n",
       "0        10_HORNSEY_1001       120\n",
       "1        10_HORNSEY_1003       227\n",
       "2       10_HORNSEY_10030        13\n",
       "3        10_HORNSEY_1004        12\n",
       "4       10_HORNSEY_10057        12\n",
       "...                  ...       ...\n",
       "245902  9_BLACKPOOL_9388        24\n",
       "245903   9_BLACKPOOL_942         9\n",
       "245904   9_BLACKPOOL_966        84\n",
       "245905   9_BLACKPOOL_984        43\n",
       "245906   9_BLACKPOOL_999         3\n",
       "\n",
       "[245907 rows x 2 columns]"
      ]
     },
     "execution_count": 84,
     "metadata": {},
     "output_type": "execute_result"
    }
   ],
   "source": [
    "ComprasporInvID"
   ]
  },
  {
   "cell_type": "code",
   "execution_count": 85,
   "metadata": {},
   "outputs": [],
   "source": [
    "## venta en unidades del mismo periodo que el stock\n",
    "\n",
    "VentasCalculadas = pd.merge(InventariosProm, ComprasporInvID[['InventoryId', 'Quantity']], on = 'InventoryId', how = 'left')"
   ]
  },
  {
   "cell_type": "code",
   "execution_count": 87,
   "metadata": {},
   "outputs": [],
   "source": [
    "VentasCalculadas = VentasCalculadas.fillna(0)"
   ]
  },
  {
   "cell_type": "code",
   "execution_count": 88,
   "metadata": {},
   "outputs": [
    {
     "data": {
      "text/plain": [
       "InventoryId       0\n",
       "Brand             0\n",
       "Store             0\n",
       "StockFinal        0\n",
       "StockInicial      0\n",
       "StockProm         0\n",
       "PurchasePrice     0\n",
       "Classification    0\n",
       "CostoStockProm    0\n",
       "Quantity          0\n",
       "dtype: int64"
      ]
     },
     "execution_count": 88,
     "metadata": {},
     "output_type": "execute_result"
    }
   ],
   "source": [
    "VentasCalculadas.isnull().sum()"
   ]
  },
  {
   "cell_type": "code",
   "execution_count": 89,
   "metadata": {},
   "outputs": [],
   "source": [
    "VentasCalculadas['VentasCalculadasUnidades'] = VentasCalculadas['StockInicial']+VentasCalculadas['Quantity']-VentasCalculadas['StockFinal']"
   ]
  },
  {
   "cell_type": "code",
   "execution_count": 90,
   "metadata": {},
   "outputs": [],
   "source": [
    "VentasCalculadasNegativas = VentasCalculadas[VentasCalculadas['VentasCalculadasUnidades']<0]"
   ]
  },
  {
   "cell_type": "code",
   "execution_count": 91,
   "metadata": {},
   "outputs": [
    {
     "data": {
      "text/html": [
       "<div>\n",
       "<style scoped>\n",
       "    .dataframe tbody tr th:only-of-type {\n",
       "        vertical-align: middle;\n",
       "    }\n",
       "\n",
       "    .dataframe tbody tr th {\n",
       "        vertical-align: top;\n",
       "    }\n",
       "\n",
       "    .dataframe thead th {\n",
       "        text-align: right;\n",
       "    }\n",
       "</style>\n",
       "<table border=\"1\" class=\"dataframe\">\n",
       "  <thead>\n",
       "    <tr style=\"text-align: right;\">\n",
       "      <th></th>\n",
       "      <th>InventoryId</th>\n",
       "      <th>Brand</th>\n",
       "      <th>Store</th>\n",
       "      <th>StockFinal</th>\n",
       "      <th>StockInicial</th>\n",
       "      <th>StockProm</th>\n",
       "      <th>PurchasePrice</th>\n",
       "      <th>Classification</th>\n",
       "      <th>CostoStockProm</th>\n",
       "      <th>Quantity</th>\n",
       "      <th>VentasCalculadasUnidades</th>\n",
       "    </tr>\n",
       "  </thead>\n",
       "  <tbody>\n",
       "  </tbody>\n",
       "</table>\n",
       "</div>"
      ],
      "text/plain": [
       "Empty DataFrame\n",
       "Columns: [InventoryId, Brand, Store, StockFinal, StockInicial, StockProm, PurchasePrice, Classification, CostoStockProm, Quantity, VentasCalculadasUnidades]\n",
       "Index: []"
      ]
     },
     "execution_count": 91,
     "metadata": {},
     "output_type": "execute_result"
    }
   ],
   "source": [
    "VentasCalculadasNegativas.head(5)"
   ]
  },
  {
   "cell_type": "code",
   "execution_count": 92,
   "metadata": {},
   "outputs": [
    {
     "data": {
      "text/html": [
       "<div>\n",
       "<style scoped>\n",
       "    .dataframe tbody tr th:only-of-type {\n",
       "        vertical-align: middle;\n",
       "    }\n",
       "\n",
       "    .dataframe tbody tr th {\n",
       "        vertical-align: top;\n",
       "    }\n",
       "\n",
       "    .dataframe thead th {\n",
       "        text-align: right;\n",
       "    }\n",
       "</style>\n",
       "<table border=\"1\" class=\"dataframe\">\n",
       "  <thead>\n",
       "    <tr style=\"text-align: right;\">\n",
       "      <th></th>\n",
       "      <th>InventoryId</th>\n",
       "      <th>Brand</th>\n",
       "      <th>Store</th>\n",
       "      <th>StockFinal</th>\n",
       "      <th>StockInicial</th>\n",
       "      <th>StockProm</th>\n",
       "      <th>PurchasePrice</th>\n",
       "      <th>Classification</th>\n",
       "      <th>CostoStockProm</th>\n",
       "      <th>Quantity</th>\n",
       "      <th>VentasCalculadasUnidades</th>\n",
       "    </tr>\n",
       "  </thead>\n",
       "  <tbody>\n",
       "    <tr>\n",
       "      <th>0</th>\n",
       "      <td>10_HORNSEY_1000</td>\n",
       "      <td>1000.0</td>\n",
       "      <td>10.0</td>\n",
       "      <td>0.0</td>\n",
       "      <td>1.0</td>\n",
       "      <td>-0.5</td>\n",
       "      <td>11.62</td>\n",
       "      <td>1</td>\n",
       "      <td>-5.81</td>\n",
       "      <td>0.0</td>\n",
       "      <td>1.0</td>\n",
       "    </tr>\n",
       "    <tr>\n",
       "      <th>1</th>\n",
       "      <td>10_HORNSEY_1001</td>\n",
       "      <td>1001.0</td>\n",
       "      <td>10.0</td>\n",
       "      <td>0.0</td>\n",
       "      <td>11.0</td>\n",
       "      <td>-5.5</td>\n",
       "      <td>4.28</td>\n",
       "      <td>1</td>\n",
       "      <td>-23.54</td>\n",
       "      <td>120.0</td>\n",
       "      <td>131.0</td>\n",
       "    </tr>\n",
       "    <tr>\n",
       "      <th>2</th>\n",
       "      <td>10_HORNSEY_1003</td>\n",
       "      <td>1003.0</td>\n",
       "      <td>10.0</td>\n",
       "      <td>73.0</td>\n",
       "      <td>0.0</td>\n",
       "      <td>36.5</td>\n",
       "      <td>16.66</td>\n",
       "      <td>1</td>\n",
       "      <td>608.09</td>\n",
       "      <td>227.0</td>\n",
       "      <td>154.0</td>\n",
       "    </tr>\n",
       "  </tbody>\n",
       "</table>\n",
       "</div>"
      ],
      "text/plain": [
       "       InventoryId   Brand  Store  StockFinal  StockInicial  StockProm  \\\n",
       "0  10_HORNSEY_1000  1000.0   10.0         0.0           1.0       -0.5   \n",
       "1  10_HORNSEY_1001  1001.0   10.0         0.0          11.0       -5.5   \n",
       "2  10_HORNSEY_1003  1003.0   10.0        73.0           0.0       36.5   \n",
       "\n",
       "   PurchasePrice  Classification  CostoStockProm  Quantity  \\\n",
       "0          11.62               1           -5.81       0.0   \n",
       "1           4.28               1          -23.54     120.0   \n",
       "2          16.66               1          608.09     227.0   \n",
       "\n",
       "   VentasCalculadasUnidades  \n",
       "0                       1.0  \n",
       "1                     131.0  \n",
       "2                     154.0  "
      ]
     },
     "execution_count": 92,
     "metadata": {},
     "output_type": "execute_result"
    }
   ],
   "source": [
    "VentasCalculadas.head(3)"
   ]
  },
  {
   "cell_type": "markdown",
   "metadata": {},
   "source": [
    "VentasCalculadasxStore = VentasCalculadas.groupby('Store').sum()[['StockInicial','StockFinal','VentasCalculadasUnidades']].reset_index()"
   ]
  },
  {
   "cell_type": "markdown",
   "metadata": {},
   "source": [
    "ventas_1001 = VentasCalculadas[VentasCalculadas['Brand']== 1001]\n",
    "ventas_1001 = ventas_1001.groupby('Brand').sum(numeric_only=True).reset_index()\n",
    "print(ventas_1001)"
   ]
  },
  {
   "cell_type": "code",
   "execution_count": 94,
   "metadata": {},
   "outputs": [
    {
     "name": "stdout",
     "output_type": "stream",
     "text": [
      "Empty DataFrame\n",
      "Columns: [Store, StockInicial, StockFinal, VentasCalculadasUnidades]\n",
      "Index: []\n"
     ]
    }
   ],
   "source": [
    "print(VentasCalculadasxStore[VentasCalculadasxStore['VentasCalculadasUnidades']<0])"
   ]
  },
  {
   "cell_type": "code",
   "execution_count": 97,
   "metadata": {},
   "outputs": [],
   "source": [
    "VentasInvxStoreTop_10 = VentasCalculadasxStore.sort_values(by='VentasCalculadasUnidades', ascending=False).head(10)\n"
   ]
  },
  {
   "cell_type": "code",
   "execution_count": 98,
   "metadata": {},
   "outputs": [
    {
     "data": {
      "image/png": "[encoded data removed]",
      "text/plain": [
       "<Figure size 640x480 with 1 Axes>"
      ]
     },
     "metadata": {},
     "output_type": "display_data"
    }
   ],
   "source": [
    "# Datos\n",
    "categorias = VentasInvxStoreTop_10['Store']\n",
    "grupo1 =VentasInvxStoreTop_10['StockInicial']\n",
    "grupo2 = VentasInvxStoreTop_10['StockFinal']\n",
    "grupo3 = VentasInvxStoreTop_10['VentasCalculadasUnidades']\n",
    "# Configuración de las posiciones de las barras\n",
    "bar_width = 0.35\n",
    "indice = np.arange(len(categorias))\n",
    "\n",
    "# Crear el gráfico de barras\n",
    "fig, ax  = plt.subplots()\n",
    "bar1 = ax.bar(indice, grupo1, bar_width, label='StockInicial')\n",
    "bar2 = ax.bar(indice + bar_width, grupo2, bar_width, label='StockFinal')\n",
    "bar3 = ax.bar(indice + bar_width + bar_width, grupo3, bar_width, label='Ventas')\n",
    "\n",
    "# Añadir etiquetas y leyenda\n",
    "ax.set_xlabel('Stock Final e Inicial')\n",
    "\n",
    "ax.set_ylabel('Unidades')\n",
    "\n",
    "\n",
    "ax.set_title('Estado del Stock en Unidades por Store')\n",
    "\n",
    "ax.set_xticks(indice + bar_width / 2)\n",
    "\n",
    "ax.set_xticklabels(categorias)\n",
    "\n",
    "ax.legend()\n",
    "\n",
    "\n",
    "# Mostrar el gráfico\n",
    "plt.show()"
   ]
  },
  {
   "cell_type": "code",
   "execution_count": 99,
   "metadata": {},
   "outputs": [],
   "source": [
    "VentasInvxStoreMin_10 = VentasCalculadasxStore.sort_values(by='VentasCalculadasUnidades', ascending=True).head(10)\n"
   ]
  },
  {
   "cell_type": "code",
   "execution_count": 103,
   "metadata": {},
   "outputs": [
    {
     "data": {
      "image/png": "[encoded data removed]",
      "text/plain": [
       "<Figure size 640x480 with 1 Axes>"
      ]
     },
     "metadata": {},
     "output_type": "display_data"
    }
   ],
   "source": [
    "# Datos\n",
    "categorias = VentasInvxStoreMin_10['Store']\n",
    "grupo1 =VentasInvxStoreMin_10['StockInicial']\n",
    "grupo2 = VentasInvxStoreMin_10['StockFinal']\n",
    "grupo3 = VentasInvxStoreMin_10['VentasCalculadasUnidades']\n",
    "# Configuración de las posiciones de las barras\n",
    "bar_width = 0.20\n",
    "indice = np.arange(len(categorias))\n",
    "\n",
    "# Crear el gráfico de barras\n",
    "fig, ax  = plt.subplots()\n",
    "bar1 = ax.bar(indice, grupo1, bar_width, label='StockInicial')\n",
    "bar2 = ax.bar(indice + bar_width, grupo2, bar_width, label='StockFinal')\n",
    "bar3 = ax.bar(indice + bar_width + bar_width, grupo3, bar_width, label='Ventas')\n",
    "\n",
    "# Añadir etiquetas y leyenda\n",
    "ax.set_xlabel('Stock Final e Inicial')\n",
    "\n",
    "ax.set_ylabel('Unidades')\n",
    "\n",
    "\n",
    "ax.set_title('Estado del Stock en Unidades por Store, Min')\n",
    "\n",
    "ax.set_xticks(indice + bar_width / 3)\n",
    "\n",
    "ax.set_xticklabels(categorias)\n",
    "\n",
    "ax.legend()\n",
    "\n",
    "\n",
    "# Mostrar el gráfico\n",
    "plt.show()"
   ]
  },
  {
   "cell_type": "code",
   "execution_count": 129,
   "metadata": {},
   "outputs": [
    {
     "data": {
      "text/plain": [
       "Index(['InventoryId', 'Brand', 'onHand', 'Store', 'Date'], dtype='object')"
      ]
     },
     "execution_count": 129,
     "metadata": {},
     "output_type": "execute_result"
    }
   ],
   "source": [
    "df_InventoriesFinal.columns"
   ]
  },
  {
   "cell_type": "code",
   "execution_count": 133,
   "metadata": {},
   "outputs": [
    {
     "data": {
      "text/plain": [
       "(43, 5)"
      ]
     },
     "execution_count": 133,
     "metadata": {},
     "output_type": "execute_result"
    }
   ],
   "source": [
    "If_1001 = df_InventoriesFinal[df_InventoriesFinal['Brand']== 1001]\n",
    "If_1001.shape"
   ]
  },
  {
   "cell_type": "code",
   "execution_count": 132,
   "metadata": {},
   "outputs": [
    {
     "name": "stdout",
     "output_type": "stream",
     "text": [
      "       onHand  Store\n",
      "Brand               \n",
      "1001      425   1800\n"
     ]
    }
   ],
   "source": [
    "If_1001 = df_InventoriesFinal[df_InventoriesFinal['Brand']== 1001].groupby('Brand').sum(numeric_only=True)\n",
    "print(If_1001)"
   ]
  },
  {
   "cell_type": "code",
   "execution_count": null,
   "metadata": {},
   "outputs": [],
   "source": [
    "#Analisis de un orden de Compra particular en las tablas de Compras y compras detail"
   ]
  },
  {
   "cell_type": "code",
   "execution_count": 7,
   "metadata": {},
   "outputs": [
    {
     "data": {
      "text/html": [
       "<div>\n",
       "<style scoped>\n",
       "    .dataframe tbody tr th:only-of-type {\n",
       "        vertical-align: middle;\n",
       "    }\n",
       "\n",
       "    .dataframe tbody tr th {\n",
       "        vertical-align: top;\n",
       "    }\n",
       "\n",
       "    .dataframe thead th {\n",
       "        text-align: right;\n",
       "    }\n",
       "</style>\n",
       "<table border=\"1\" class=\"dataframe\">\n",
       "  <thead>\n",
       "    <tr style=\"text-align: right;\">\n",
       "      <th></th>\n",
       "      <th>VendorNumber</th>\n",
       "      <th>InvoiceDate</th>\n",
       "      <th>PONumber</th>\n",
       "      <th>PODate</th>\n",
       "      <th>PayDate</th>\n",
       "      <th>Quantity</th>\n",
       "      <th>Dollars</th>\n",
       "      <th>Freight</th>\n",
       "      <th>Approval</th>\n",
       "    </tr>\n",
       "  </thead>\n",
       "  <tbody>\n",
       "    <tr>\n",
       "      <th>17</th>\n",
       "      <td>1590</td>\n",
       "      <td>2016-01-12</td>\n",
       "      <td>8109</td>\n",
       "      <td>2015-12-20</td>\n",
       "      <td>2016-02-11</td>\n",
       "      <td>2246</td>\n",
       "      <td>14298.09</td>\n",
       "      <td>408.72</td>\n",
       "      <td>NaN</td>\n",
       "    </tr>\n",
       "  </tbody>\n",
       "</table>\n",
       "</div>"
      ],
      "text/plain": [
       "    VendorNumber InvoiceDate  PONumber      PODate     PayDate  Quantity  \\\n",
       "17          1590  2016-01-12      8109  2015-12-20  2016-02-11      2246   \n",
       "\n",
       "     Dollars  Freight Approval  \n",
       "17  14298.09   408.72      NaN  "
      ]
     },
     "execution_count": 7,
     "metadata": {},
     "output_type": "execute_result"
    }
   ],
   "source": [
    "df_InvoicePurchases[df_InvoicePurchases['PONumber']==8109]"
   ]
  },
  {
   "cell_type": "code",
   "execution_count": 11,
   "metadata": {},
   "outputs": [
    {
     "data": {
      "text/plain": [
       "(67, 9)"
      ]
     },
     "execution_count": 11,
     "metadata": {},
     "output_type": "execute_result"
    }
   ],
   "source": [
    "df_InvoicePurchasesDetails[df_InvoicePurchasesDetails['PONumber']==8109].shape"
   ]
  },
  {
   "cell_type": "code",
   "execution_count": 10,
   "metadata": {},
   "outputs": [
    {
     "data": {
      "text/plain": [
       "Brand            1929430.00\n",
       "Dollars            14298.09\n",
       "PONumber          543303.00\n",
       "PurchasePrice        447.29\n",
       "Quantity            2246.00\n",
       "Store               2401.00\n",
       "VendorNumber      106530.00\n",
       "dtype: float64"
      ]
     },
     "execution_count": 10,
     "metadata": {},
     "output_type": "execute_result"
    }
   ],
   "source": [
    "df_InvoicePurchasesDetails[df_InvoicePurchasesDetails['PONumber']==8109].sum(numeric_only=True)"
   ]
  },
  {
   "cell_type": "code",
   "execution_count": 13,
   "metadata": {},
   "outputs": [],
   "source": [
    "pd.set_option('display.float_format', '{:,.0f}'.format)\n"
   ]
  },
  {
   "cell_type": "code",
   "execution_count": 14,
   "metadata": {},
   "outputs": [
    {
     "data": {
      "text/plain": [
       "VendorNumber   114,533,635\n",
       "PONumber        60,360,050\n",
       "Quantity        33,584,377\n",
       "Dollars        321,900,766\n",
       "Freight          1,640,475\n",
       "dtype: float64"
      ]
     },
     "execution_count": 14,
     "metadata": {},
     "output_type": "execute_result"
    }
   ],
   "source": [
    "df_InvoicePurchases.sum(numeric_only=True)"
   ]
  },
  {
   "cell_type": "code",
   "execution_count": 15,
   "metadata": {},
   "outputs": [
    {
     "data": {
      "text/plain": [
       "Brand           29,462,903,148\n",
       "Dollars            321,900,766\n",
       "PONumber        26,194,335,131\n",
       "PurchasePrice       28,588,431\n",
       "Quantity            33,584,377\n",
       "Store              105,934,114\n",
       "VendorNumber    16,337,889,255\n",
       "dtype: float64"
      ]
     },
     "execution_count": 15,
     "metadata": {},
     "output_type": "execute_result"
    }
   ],
   "source": [
    "df_InvoicePurchasesDetails.sum(numeric_only=True)"
   ]
  }
 ],
 "metadata": {
  "kernelspec": {
   "display_name": "Python 3",
   "language": "python",
   "name": "python3"
  },
  "language_info": {
   "codemirror_mode": {
    "name": "ipython",
    "version": 3
   },
   "file_extension": ".py",
   "mimetype": "text/x-python",
   "name": "python",
   "nbconvert_exporter": "python",
   "pygments_lexer": "ipython3",
   "version": "3.11.2"
  }
 },
 "nbformat": 4,
 "nbformat_minor": 2
}
