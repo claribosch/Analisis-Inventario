{
 "cells": [
  {
   "cell_type": "markdown",
   "metadata": {},
   "source": [
    "## Importacion desde Kaggle"
   ]
  },
  {
   "cell_type": "code",
   "execution_count": 1,
   "metadata": {},
   "outputs": [
    {
     "name": "stderr",
     "output_type": "stream",
     "text": [
      "c:\\Users\\PC\\AppData\\Local\\Programs\\Python\\Python311\\Lib\\site-packages\\tqdm\\auto.py:21: TqdmWarning: IProgress not found. Please update jupyter and ipywidgets. See https://ipywidgets.readthedocs.io/en/stable/user_install.html\n",
      "  from .autonotebook import tqdm as notebook_tqdm\n"
     ]
    },
    {
     "name": "stdout",
     "output_type": "stream",
     "text": [
      "Warning: Looks like you're using an outdated `kagglehub` version, please consider updating (latest version: 0.3.10)\n",
      "Path to dataset files: C:\\Users\\PC\\.cache\\kagglehub\\datasets\\bhanupratapbiswas\\inventory-analysis-case-study\\versions\\1\n"
     ]
    }
   ],
   "source": [
    "import kagglehub\n",
    "\n",
    "# Download latest version\n",
    "path = kagglehub.dataset_download(\"bhanupratapbiswas/inventory-analysis-case-study\")\n",
    "\n",
    "print(\"Path to dataset files:\", path)"
   ]
  },
  {
   "cell_type": "markdown",
   "metadata": {},
   "source": [
    "## Analisis de Bases "
   ]
  },
  {
   "cell_type": "code",
   "execution_count": 1,
   "metadata": {},
   "outputs": [],
   "source": [
    "import numpy as np"
   ]
  },
  {
   "cell_type": "code",
   "execution_count": 2,
   "metadata": {},
   "outputs": [],
   "source": [
    "import pandas as pd"
   ]
  },
  {
   "cell_type": "code",
   "execution_count": 3,
   "metadata": {},
   "outputs": [],
   "source": [
    "import matplotlib.pyplot as plt\n",
    "import seaborn as sns"
   ]
  },
  {
   "cell_type": "code",
   "execution_count": 4,
   "metadata": {},
   "outputs": [
    {
     "ename": "NameError",
     "evalue": "name 'df_PurchasePriceDesc' is not defined",
     "output_type": "error",
     "traceback": [
      "\u001b[1;31m---------------------------------------------------------------------------\u001b[0m",
      "\u001b[1;31mNameError\u001b[0m                                 Traceback (most recent call last)",
      "Cell \u001b[1;32mIn[4], line 1\u001b[0m\n\u001b[1;32m----> 1\u001b[0m Lista_campos \u001b[38;5;241m=\u001b[39m \u001b[38;5;28mlist\u001b[39m(\u001b[43mdf_PurchasePriceDesc\u001b[49m\u001b[38;5;241m.\u001b[39mcolumns)\n\u001b[0;32m      2\u001b[0m Lista_campos\u001b[38;5;241m.\u001b[39mappend(\u001b[38;5;28mlist\u001b[39m(df_BegInv\u001b[38;5;241m.\u001b[39mcolumns))\n\u001b[0;32m      3\u001b[0m Lista_campos\u001b[38;5;241m.\u001b[39mappend(\u001b[38;5;28mlist\u001b[39m(df_InvoicePurchases\u001b[38;5;241m.\u001b[39mcolumns))\n",
      "\u001b[1;31mNameError\u001b[0m: name 'df_PurchasePriceDesc' is not defined"
     ]
    }
   ],
   "source": [
    "Lista_campos = list(df_PurchasePriceDesc.columns)\n",
    "Lista_campos.append(list(df_BegInv.columns))\n",
    "Lista_campos.append(list(df_InvoicePurchases.columns))\n",
    "Lista_campos.append(list(df_PurchasesFINAL.columns))\n",
    "Lista_campos.append(list(df_SalesFINAL.columns))\n"
   ]
  },
  {
   "cell_type": "code",
   "execution_count": 50,
   "metadata": {},
   "outputs": [
    {
     "name": "stdout",
     "output_type": "stream",
     "text": [
      "('Brand', 'Description', 'Price', 'Size', 'Volume', 'Classification', 'PurchasePrice', 'VendorNumber', 'VendorName', ['InventoryId', 'Store', 'City', 'Brand', 'Description', 'Size', 'onHand', 'Price', 'startDate'], ['VendorNumber', 'VendorName', 'InvoiceDate', 'PONumber', 'PODate', 'PayDate', 'Quantity', 'Dollars', 'Freight', 'Approval'], ['InventoryId', 'Store', 'Brand', 'Description', 'Size', 'VendorNumber', 'VendorName', 'PONumber', 'PODate', 'ReceivingDate', 'InvoiceDate', 'PayDate', 'PurchasePrice', 'Quantity', 'Dollars', 'Classification'], ['InventoryId', 'Store', 'Brand', 'Description', 'Size', 'SalesQuantity', 'SalesDollars', 'SalesPrice', 'SalesDate', 'Volume', 'Classification', 'ExciseTax', 'VendorNo', 'VendorName'])\n"
     ]
    },
    {
     "data": {
      "text/plain": [
       "list"
      ]
     },
     "execution_count": 50,
     "metadata": {},
     "output_type": "execute_result"
    }
   ],
   "source": [
    "print((Lista_campos))\n",
    "type(Lista_campos)\n"
   ]
  },
  {
   "cell_type": "code",
   "execution_count": 58,
   "metadata": {},
   "outputs": [
    {
     "name": "stdout",
     "output_type": "stream",
     "text": [
      "[]\n"
     ]
    }
   ],
   "source": [
    "elementos_unicos = []\n",
    "print(elementos_unicos)"
   ]
  },
  {
   "cell_type": "code",
   "execution_count": 61,
   "metadata": {},
   "outputs": [],
   "source": [
    "def extraer_elementos(lista):\n",
    "        for elemento in lista:\n",
    "            if isinstance(elemento, list):\n",
    "                extraer_elementos(elemento)\n",
    "            else:\n",
    "                elementos_unicos.append(elemento)"
   ]
  },
  {
   "cell_type": "code",
   "execution_count": 62,
   "metadata": {},
   "outputs": [],
   "source": [
    "extraer_elementos(Lista_campos)"
   ]
  },
  {
   "cell_type": "code",
   "execution_count": 67,
   "metadata": {},
   "outputs": [
    {
     "name": "stdout",
     "output_type": "stream",
     "text": [
      "['SalesDate', 'Brand', 'Freight', 'SalesDollars', 'InvoiceDate', 'Classification', 'Quantity', 'Store', 'Description', 'Volume', 'onHand', 'SalesPrice', 'SalesQuantity', 'VendorNumber', 'PurchasePrice', 'startDate', 'VendorName', 'Price', 'ExciseTax', 'VendorNo', 'ReceivingDate', 'PayDate', 'InventoryId', 'Approval', 'Size', 'Dollars', 'PODate', 'City', 'PONumber']\n"
     ]
    }
   ],
   "source": [
    "elementos_unicos = list(set(elementos_unicos))\n",
    "print(elementos_unicos)"
   ]
  },
  {
   "cell_type": "markdown",
   "metadata": {},
   "source": [
    "CAMPOS UNICOS"
   ]
  },
  {
   "cell_type": "code",
   "execution_count": 68,
   "metadata": {},
   "outputs": [
    {
     "name": "stdout",
     "output_type": "stream",
     "text": [
      "SalesDate\n",
      "Brand\n",
      "Freight\n",
      "SalesDollars\n",
      "InvoiceDate\n",
      "Classification\n",
      "Quantity\n",
      "Store\n",
      "Description\n",
      "Volume\n",
      "onHand\n",
      "SalesPrice\n",
      "SalesQuantity\n",
      "VendorNumber\n",
      "PurchasePrice\n",
      "startDate\n",
      "VendorName\n",
      "Price\n",
      "ExciseTax\n",
      "VendorNo\n",
      "ReceivingDate\n",
      "PayDate\n",
      "InventoryId\n",
      "Approval\n",
      "Size\n",
      "Dollars\n",
      "PODate\n",
      "City\n",
      "PONumber\n"
     ]
    }
   ],
   "source": [
    "for e in elementos_unicos:\n",
    "    print(e)"
   ]
  },
  {
   "cell_type": "markdown",
   "metadata": {},
   "source": [
    "### PurchasePriceDesc\n"
   ]
  },
  {
   "cell_type": "markdown",
   "metadata": {},
   "source": [
    "tabla de productos"
   ]
  },
  {
   "cell_type": "markdown",
   "metadata": {},
   "source": [
    "Tareas = hay nulos en el indice 7915 , brand 4202. Verificar si tiene venta o no, si está discontinuado."
   ]
  },
  {
   "cell_type": "code",
   "execution_count": 5,
   "metadata": {},
   "outputs": [],
   "source": [
    "archivotemp =  r\"C:\\Data Anaytics\\Proyectos\\Inventario\\Base de datos\\2017PurchasePricesDec.csv\"\n",
    "\n",
    "df_PurchasePriceDesc= pd.read_csv(archivotemp)"
   ]
  },
  {
   "cell_type": "code",
   "execution_count": 6,
   "metadata": {},
   "outputs": [
    {
     "name": "stdout",
     "output_type": "stream",
     "text": [
      "   Brand                  Description  Price   Size Volume  Classification  \\\n",
      "0     58  Gekkeikan Black & Gold Sake  12.99  750mL    750               1   \n",
      "1     62     Herradura Silver Tequila  36.99  750mL    750               1   \n",
      "2     63   Herradura Reposado Tequila  38.99  750mL    750               1   \n",
      "3     72         No. 3 London Dry Gin  34.99  750mL    750               1   \n",
      "4     75    Three Olives Tomato Vodka  14.99  750mL    750               1   \n",
      "\n",
      "   PurchasePrice  VendorNumber                   VendorName  \n",
      "0           9.28          8320  SHAW ROSS INT L IMP LTD      \n",
      "1          28.67          1128  BROWN-FORMAN CORP            \n",
      "2          30.46          1128  BROWN-FORMAN CORP            \n",
      "3          26.11          9165  ULTRA BEVERAGE COMPANY LLP   \n",
      "4          10.94          7245  PROXIMO SPIRITS INC.         \n"
     ]
    }
   ],
   "source": [
    "print(df_PurchasePriceDesc.head())"
   ]
  },
  {
   "cell_type": "code",
   "execution_count": 7,
   "metadata": {},
   "outputs": [
    {
     "name": "stdout",
     "output_type": "stream",
     "text": [
      "<class 'pandas.core.frame.DataFrame'>\n",
      "RangeIndex: 12261 entries, 0 to 12260\n",
      "Data columns (total 9 columns):\n",
      " #   Column          Non-Null Count  Dtype  \n",
      "---  ------          --------------  -----  \n",
      " 0   Brand           12261 non-null  int64  \n",
      " 1   Description     12260 non-null  object \n",
      " 2   Price           12261 non-null  float64\n",
      " 3   Size            12260 non-null  object \n",
      " 4   Volume          12260 non-null  object \n",
      " 5   Classification  12261 non-null  int64  \n",
      " 6   PurchasePrice   12261 non-null  float64\n",
      " 7   VendorNumber    12261 non-null  int64  \n",
      " 8   VendorName      12261 non-null  object \n",
      "dtypes: float64(2), int64(3), object(4)\n",
      "memory usage: 862.2+ KB\n"
     ]
    }
   ],
   "source": [
    "df_PurchasePriceDesc.info()\n"
   ]
  },
  {
   "cell_type": "code",
   "execution_count": 8,
   "metadata": {},
   "outputs": [
    {
     "data": {
      "text/plain": [
       "Index(['Brand', 'Description', 'Price', 'Size', 'Volume', 'Classification',\n",
       "       'PurchasePrice', 'VendorNumber', 'VendorName'],\n",
       "      dtype='object')"
      ]
     },
     "execution_count": 8,
     "metadata": {},
     "output_type": "execute_result"
    }
   ],
   "source": [
    "df_PurchasePriceDesc.columns"
   ]
  },
  {
   "cell_type": "code",
   "execution_count": 12,
   "metadata": {},
   "outputs": [
    {
     "name": "stdout",
     "output_type": "stream",
     "text": [
      "<class 'pandas.core.indexes.base.Index'>\n"
     ]
    }
   ],
   "source": [
    "print(type(df_PurchasePriceDesc.columns))"
   ]
  },
  {
   "cell_type": "code",
   "execution_count": 17,
   "metadata": {},
   "outputs": [
    {
     "name": "stdout",
     "output_type": "stream",
     "text": [
      "Brand\n",
      "Description\n",
      "Price\n",
      "Size\n",
      "Volume\n",
      "Classification\n",
      "PurchasePrice\n",
      "VendorNumber\n",
      "VendorName\n"
     ]
    }
   ],
   "source": [
    "lista_columnas = list(df_PurchasePriceDesc.columns)\n",
    "\n",
    "for e in lista_columnas:\n",
    "    print (e)\n"
   ]
  },
  {
   "cell_type": "code",
   "execution_count": 18,
   "metadata": {},
   "outputs": [
    {
     "data": {
      "text/plain": [
       "(12261, 9)"
      ]
     },
     "execution_count": 18,
     "metadata": {},
     "output_type": "execute_result"
    }
   ],
   "source": [
    "df_PurchasePriceDesc.shape"
   ]
  },
  {
   "cell_type": "code",
   "execution_count": 19,
   "metadata": {},
   "outputs": [
    {
     "data": {
      "text/plain": [
       "Brand             12261\n",
       "Description       11114\n",
       "Price               380\n",
       "Size                 56\n",
       "Volume               33\n",
       "Classification        2\n",
       "PurchasePrice      2314\n",
       "VendorNumber        131\n",
       "VendorName          136\n",
       "dtype: int64"
      ]
     },
     "execution_count": 19,
     "metadata": {},
     "output_type": "execute_result"
    }
   ],
   "source": [
    "df_PurchasePriceDesc.nunique()"
   ]
  },
  {
   "cell_type": "markdown",
   "metadata": {},
   "source": [
    "Brand es el codigo de identificación único."
   ]
  },
  {
   "cell_type": "code",
   "execution_count": 20,
   "metadata": {},
   "outputs": [
    {
     "data": {
      "text/plain": [
       "Brand             0\n",
       "Description       1\n",
       "Price             0\n",
       "Size              1\n",
       "Volume            1\n",
       "Classification    0\n",
       "PurchasePrice     0\n",
       "VendorNumber      0\n",
       "VendorName        0\n",
       "dtype: int64"
      ]
     },
     "execution_count": 20,
     "metadata": {},
     "output_type": "execute_result"
    }
   ],
   "source": [
    "df_PurchasePriceDesc.isnull().sum()"
   ]
  },
  {
   "cell_type": "code",
   "execution_count": 21,
   "metadata": {},
   "outputs": [
    {
     "name": "stdout",
     "output_type": "stream",
     "text": [
      "      Brand Description  Price Size Volume  Classification  PurchasePrice  \\\n",
      "7915   4202         NaN    0.0  NaN    NaN               1          11.19   \n",
      "\n",
      "      VendorNumber                   VendorName  \n",
      "7915           480  BACARDI USA INC              \n",
      "[7915]\n"
     ]
    }
   ],
   "source": [
    "df_connulos = df_PurchasePriceDesc[df_PurchasePriceDesc.isnull().any(axis=1)]\n",
    "print(df_connulos)\n",
    "Filas_con_nulos = df_PurchasePriceDesc[df_PurchasePriceDesc.isnull().any(axis=1)].index.tolist() ## me trae los indices de las filas con nulos y me los convierte en una lista (esto último es opcional)\n",
    "print(Filas_con_nulos)"
   ]
  },
  {
   "cell_type": "markdown",
   "metadata": {},
   "source": [
    "### Inventario"
   ]
  },
  {
   "cell_type": "code",
   "execution_count": 28,
   "metadata": {},
   "outputs": [],
   "source": [
    "archivotemp2 =  r\"C:\\Data Anaytics\\Proyectos\\Inventario\\Base de datos\\BegInvFINAL12312016.csv\"\n",
    "\n",
    "df_BegInv= pd.read_csv(archivotemp2)"
   ]
  },
  {
   "cell_type": "code",
   "execution_count": 23,
   "metadata": {},
   "outputs": [
    {
     "data": {
      "text/plain": [
       "Index(['InventoryId', 'Store', 'City', 'Brand', 'Description', 'Size',\n",
       "       'onHand', 'Price', 'startDate'],\n",
       "      dtype='object')"
      ]
     },
     "execution_count": 23,
     "metadata": {},
     "output_type": "execute_result"
    }
   ],
   "source": [
    "df_BegInv.columns"
   ]
  },
  {
   "cell_type": "code",
   "execution_count": 27,
   "metadata": {},
   "outputs": [
    {
     "name": "stdout",
     "output_type": "stream",
     "text": [
      "['InventoryId', 'Store', 'City', 'Brand', 'Description', 'Size', 'onHand', 'Price', 'startDate']\n",
      "InventoryId\n",
      "Store\n",
      "City\n",
      "Brand\n",
      "Description\n",
      "Size\n",
      "onHand\n",
      "Price\n",
      "startDate\n"
     ]
    }
   ],
   "source": [
    "print(list(df_BegInv.columns))\n",
    "for e in list(df_BegInv.columns):\n",
    "    print(e)"
   ]
  },
  {
   "cell_type": "code",
   "execution_count": 24,
   "metadata": {},
   "outputs": [
    {
     "name": "stdout",
     "output_type": "stream",
     "text": [
      "         InventoryId  Store          City  Brand                  Description  \\\n",
      "0  1_HARDERSFIELD_58      1  HARDERSFIELD     58  Gekkeikan Black & Gold Sake   \n",
      "1  1_HARDERSFIELD_60      1  HARDERSFIELD     60       Canadian Club 1858 VAP   \n",
      "2  1_HARDERSFIELD_62      1  HARDERSFIELD     62     Herradura Silver Tequila   \n",
      "3  1_HARDERSFIELD_63      1  HARDERSFIELD     63   Herradura Reposado Tequila   \n",
      "4  1_HARDERSFIELD_72      1  HARDERSFIELD     72         No. 3 London Dry Gin   \n",
      "\n",
      "    Size  onHand  Price   startDate  \n",
      "0  750mL       8  12.99  2016-01-01  \n",
      "1  750mL       7  10.99  2016-01-01  \n",
      "2  750mL       6  36.99  2016-01-01  \n",
      "3  750mL       3  38.99  2016-01-01  \n",
      "4  750mL       6  34.99  2016-01-01  \n"
     ]
    }
   ],
   "source": [
    "print(df_BegInv.head())"
   ]
  },
  {
   "cell_type": "code",
   "execution_count": 37,
   "metadata": {},
   "outputs": [
    {
     "name": "stdout",
     "output_type": "stream",
     "text": [
      "<class 'pandas.core.frame.DataFrame'>\n",
      "RangeIndex: 206529 entries, 0 to 206528\n",
      "Data columns (total 9 columns):\n",
      " #   Column       Non-Null Count   Dtype  \n",
      "---  ------       --------------   -----  \n",
      " 0   InventoryId  206529 non-null  object \n",
      " 1   Store        206529 non-null  int64  \n",
      " 2   City         206529 non-null  object \n",
      " 3   Brand        206529 non-null  int64  \n",
      " 4   Description  206529 non-null  object \n",
      " 5   Size         206529 non-null  object \n",
      " 6   onHand       206529 non-null  int64  \n",
      " 7   Price        206529 non-null  float64\n",
      " 8   startDate    206529 non-null  object \n",
      "dtypes: float64(1), int64(3), object(5)\n",
      "memory usage: 14.2+ MB\n"
     ]
    }
   ],
   "source": [
    "df_BegInv.info()"
   ]
  },
  {
   "cell_type": "code",
   "execution_count": 71,
   "metadata": {},
   "outputs": [
    {
     "data": {
      "text/plain": [
       "(206529, 9)"
      ]
     },
     "execution_count": 71,
     "metadata": {},
     "output_type": "execute_result"
    }
   ],
   "source": [
    "df_BegInv.shape"
   ]
  },
  {
   "cell_type": "code",
   "execution_count": 69,
   "metadata": {},
   "outputs": [
    {
     "data": {
      "text/plain": [
       "InventoryId    206529\n",
       "Store              79\n",
       "City               67\n",
       "Brand            8094\n",
       "Description      7291\n",
       "Size               41\n",
       "onHand            474\n",
       "Price             329\n",
       "startDate           1\n",
       "dtype: int64"
      ]
     },
     "execution_count": 69,
     "metadata": {},
     "output_type": "execute_result"
    }
   ],
   "source": [
    "df_BegInv.nunique()"
   ]
  },
  {
   "cell_type": "code",
   "execution_count": 70,
   "metadata": {},
   "outputs": [
    {
     "data": {
      "text/plain": [
       "InventoryId    0\n",
       "Store          0\n",
       "City           0\n",
       "Brand          0\n",
       "Description    0\n",
       "Size           0\n",
       "onHand         0\n",
       "Price          0\n",
       "startDate      0\n",
       "dtype: int64"
      ]
     },
     "execution_count": 70,
     "metadata": {},
     "output_type": "execute_result"
    }
   ],
   "source": [
    "df_BegInv.isnull().sum()"
   ]
  },
  {
   "cell_type": "code",
   "execution_count": 72,
   "metadata": {},
   "outputs": [],
   "source": [
    "archivotemp3 =  r\"C:\\Data Anaytics\\Proyectos\\Inventario\\Base de datos\\EndInvFINAL12312016.csv\"\n",
    "\n",
    "df_EndInv= pd.read_csv(archivotemp3)"
   ]
  },
  {
   "cell_type": "code",
   "execution_count": 73,
   "metadata": {},
   "outputs": [
    {
     "data": {
      "text/plain": [
       "Index(['InventoryId', 'Store', 'City', 'Brand', 'Description', 'Size',\n",
       "       'onHand', 'Price', 'endDate'],\n",
       "      dtype='object')"
      ]
     },
     "execution_count": 73,
     "metadata": {},
     "output_type": "execute_result"
    }
   ],
   "source": [
    "df_EndInv.columns"
   ]
  },
  {
   "cell_type": "code",
   "execution_count": 42,
   "metadata": {},
   "outputs": [
    {
     "name": "stdout",
     "output_type": "stream",
     "text": [
      "         InventoryId  Store          City  Brand                  Description  \\\n",
      "0  1_HARDERSFIELD_58      1  HARDERSFIELD     58  Gekkeikan Black & Gold Sake   \n",
      "1  1_HARDERSFIELD_62      1  HARDERSFIELD     62     Herradura Silver Tequila   \n",
      "2  1_HARDERSFIELD_63      1  HARDERSFIELD     63   Herradura Reposado Tequila   \n",
      "3  1_HARDERSFIELD_72      1  HARDERSFIELD     72         No. 3 London Dry Gin   \n",
      "4  1_HARDERSFIELD_75      1  HARDERSFIELD     75    Three Olives Tomato Vodka   \n",
      "\n",
      "    Size  onHand  Price     endDate  \n",
      "0  750mL      11  12.99  2016-12-31  \n",
      "1  750mL       7  36.99  2016-12-31  \n",
      "2  750mL       7  38.99  2016-12-31  \n",
      "3  750mL       4  34.99  2016-12-31  \n",
      "4  750mL       7  14.99  2016-12-31  \n"
     ]
    }
   ],
   "source": [
    "print(df_EndInv.head())"
   ]
  },
  {
   "cell_type": "code",
   "execution_count": 43,
   "metadata": {},
   "outputs": [
    {
     "name": "stdout",
     "output_type": "stream",
     "text": [
      "<class 'pandas.core.frame.DataFrame'>\n",
      "RangeIndex: 224489 entries, 0 to 224488\n",
      "Data columns (total 9 columns):\n",
      " #   Column       Non-Null Count   Dtype  \n",
      "---  ------       --------------   -----  \n",
      " 0   InventoryId  224489 non-null  object \n",
      " 1   Store        224489 non-null  int64  \n",
      " 2   City         223205 non-null  object \n",
      " 3   Brand        224489 non-null  int64  \n",
      " 4   Description  224489 non-null  object \n",
      " 5   Size         224489 non-null  object \n",
      " 6   onHand       224489 non-null  int64  \n",
      " 7   Price        224489 non-null  float64\n",
      " 8   endDate      224489 non-null  object \n",
      "dtypes: float64(1), int64(3), object(5)\n",
      "memory usage: 15.4+ MB\n"
     ]
    }
   ],
   "source": [
    "df_EndInv.info()"
   ]
  },
  {
   "cell_type": "code",
   "execution_count": 44,
   "metadata": {},
   "outputs": [
    {
     "data": {
      "text/plain": [
       "InventoryId    224489\n",
       "Store              80\n",
       "City               67\n",
       "Brand            9653\n",
       "Description      8732\n",
       "Size               47\n",
       "onHand            548\n",
       "Price             354\n",
       "endDate             1\n",
       "dtype: int64"
      ]
     },
     "execution_count": 44,
     "metadata": {},
     "output_type": "execute_result"
    }
   ],
   "source": [
    "df_EndInv.nunique()"
   ]
  },
  {
   "cell_type": "code",
   "execution_count": 45,
   "metadata": {},
   "outputs": [
    {
     "data": {
      "text/plain": [
       "InventoryId       0\n",
       "Store             0\n",
       "City           1284\n",
       "Brand             0\n",
       "Description       0\n",
       "Size              0\n",
       "onHand            0\n",
       "Price             0\n",
       "endDate           0\n",
       "dtype: int64"
      ]
     },
     "execution_count": 45,
     "metadata": {},
     "output_type": "execute_result"
    }
   ],
   "source": [
    "df_EndInv.isnull().sum()"
   ]
  },
  {
   "cell_type": "markdown",
   "metadata": {},
   "source": [
    "### InvoicePurchaces"
   ]
  },
  {
   "cell_type": "code",
   "execution_count": 29,
   "metadata": {},
   "outputs": [],
   "source": [
    "archivotemp4 =  r\"C:\\Data Anaytics\\Proyectos\\Inventario\\Base de datos\\InvoicePurchases12312016.csv\"\n",
    "\n",
    "df_InvoicePurchases= pd.read_csv(archivotemp4)"
   ]
  },
  {
   "cell_type": "code",
   "execution_count": 74,
   "metadata": {},
   "outputs": [
    {
     "data": {
      "text/plain": [
       "Index(['VendorNumber', 'VendorName', 'InvoiceDate', 'PONumber', 'PODate',\n",
       "       'PayDate', 'Quantity', 'Dollars', 'Freight', 'Approval'],\n",
       "      dtype='object')"
      ]
     },
     "execution_count": 74,
     "metadata": {},
     "output_type": "execute_result"
    }
   ],
   "source": [
    "df_InvoicePurchases.columns"
   ]
  },
  {
   "cell_type": "code",
   "execution_count": 75,
   "metadata": {},
   "outputs": [
    {
     "name": "stdout",
     "output_type": "stream",
     "text": [
      "VendorNumber\n",
      "VendorName\n",
      "InvoiceDate\n",
      "PONumber\n",
      "PODate\n",
      "PayDate\n",
      "Quantity\n",
      "Dollars\n",
      "Freight\n",
      "Approval\n"
     ]
    }
   ],
   "source": [
    "for e in list(df_InvoicePurchases.columns):\n",
    "    print(e)"
   ]
  },
  {
   "cell_type": "code",
   "execution_count": 48,
   "metadata": {},
   "outputs": [
    {
     "name": "stdout",
     "output_type": "stream",
     "text": [
      "   VendorNumber                   VendorName InvoiceDate  PONumber  \\\n",
      "0           105  ALTAMAR BRANDS LLC           2016-01-04      8124   \n",
      "1          4466  AMERICAN VINTAGE BEVERAGE    2016-01-07      8137   \n",
      "2           388  ATLANTIC IMPORTING COMPANY   2016-01-09      8169   \n",
      "3           480  BACARDI USA INC              2016-01-12      8106   \n",
      "4           516  BANFI PRODUCTS CORP          2016-01-07      8170   \n",
      "\n",
      "       PODate     PayDate  Quantity    Dollars  Freight Approval  \n",
      "0  2015-12-21  2016-02-16         6     214.26     3.47      NaN  \n",
      "1  2015-12-22  2016-02-21        15     140.55     8.57      NaN  \n",
      "2  2015-12-24  2016-02-16         5     106.60     4.61      NaN  \n",
      "3  2015-12-20  2016-02-05     10100  137483.78  2935.20      NaN  \n",
      "4  2015-12-24  2016-02-12      1935   15527.25   429.20      NaN  \n"
     ]
    }
   ],
   "source": [
    "print(df_InvoicePurchases.head(5))"
   ]
  },
  {
   "cell_type": "code",
   "execution_count": 49,
   "metadata": {},
   "outputs": [
    {
     "name": "stdout",
     "output_type": "stream",
     "text": [
      "<class 'pandas.core.frame.DataFrame'>\n",
      "RangeIndex: 5543 entries, 0 to 5542\n",
      "Data columns (total 10 columns):\n",
      " #   Column        Non-Null Count  Dtype  \n",
      "---  ------        --------------  -----  \n",
      " 0   VendorNumber  5543 non-null   int64  \n",
      " 1   VendorName    5543 non-null   object \n",
      " 2   InvoiceDate   5543 non-null   object \n",
      " 3   PONumber      5543 non-null   int64  \n",
      " 4   PODate        5543 non-null   object \n",
      " 5   PayDate       5543 non-null   object \n",
      " 6   Quantity      5543 non-null   int64  \n",
      " 7   Dollars       5543 non-null   float64\n",
      " 8   Freight       5543 non-null   float64\n",
      " 9   Approval      374 non-null    object \n",
      "dtypes: float64(2), int64(3), object(5)\n",
      "memory usage: 433.2+ KB\n"
     ]
    }
   ],
   "source": [
    "df_InvoicePurchases.info()"
   ]
  },
  {
   "cell_type": "code",
   "execution_count": 50,
   "metadata": {},
   "outputs": [
    {
     "data": {
      "text/plain": [
       "(5543, 10)"
      ]
     },
     "execution_count": 50,
     "metadata": {},
     "output_type": "execute_result"
    }
   ],
   "source": [
    "df_InvoicePurchases.shape"
   ]
  },
  {
   "cell_type": "code",
   "execution_count": 51,
   "metadata": {},
   "outputs": [
    {
     "data": {
      "text/plain": [
       "VendorNumber     126\n",
       "VendorName       129\n",
       "InvoiceDate      373\n",
       "PONumber        5543\n",
       "PODate           319\n",
       "PayDate          382\n",
       "Quantity        2895\n",
       "Dollars         5226\n",
       "Freight         4052\n",
       "Approval           1\n",
       "dtype: int64"
      ]
     },
     "execution_count": 51,
     "metadata": {},
     "output_type": "execute_result"
    }
   ],
   "source": [
    "df_InvoicePurchases.nunique()"
   ]
  },
  {
   "cell_type": "code",
   "execution_count": 81,
   "metadata": {},
   "outputs": [
    {
     "name": "stdout",
     "output_type": "stream",
     "text": [
      "      VendorNumber                   VendorName InvoiceDate  PONumber  \\\n",
      "6             1128  BROWN-FORMAN CORP            2016-01-09      8150   \n",
      "97            1128  BROWN-FORMAN CORP            2016-01-15      8210   \n",
      "195           1128  BROWN-FORMAN CORP            2016-01-26      8358   \n",
      "289           1128  BROWN-FORMAN CORP            2016-02-02      8457   \n",
      "387           1128  BROWN-FORMAN CORP            2016-02-06      8517   \n",
      "493           1128  BROWN-FORMAN CORP            2016-02-15      8689   \n",
      "592           1128  BROWN-FORMAN CORP            2016-02-23      8742   \n",
      "697           1128  BROWN-FORMAN CORP            2016-02-23      8838   \n",
      "804           1128  BROWN-FORMAN CORP            2016-03-02      8945   \n",
      "903           1128  BROWN-FORMAN CORP            2016-03-07      9017   \n",
      "1002          1128  BROWN-FORMAN CORP            2016-03-17      9181   \n",
      "1103          1128  BROWN-FORMAN CORP            2016-03-25      9215   \n",
      "1205          1128  BROWN-FORMAN CORP            2016-04-03      9390   \n",
      "1304          1128  BROWN-FORMAN CORP            2016-04-05      9416   \n",
      "1407          1128  BROWN-FORMAN CORP            2016-04-15      9521   \n",
      "1507          1128  BROWN-FORMAN CORP            2016-04-18      9672   \n",
      "1607          1128  BROWN-FORMAN CORP            2016-05-03      9763   \n",
      "1706          1128  BROWN-FORMAN CORP            2016-05-04      9848   \n",
      "1807          1128  BROWN-FORMAN CORP            2016-05-10     10001   \n",
      "1910          1128  BROWN-FORMAN CORP            2016-05-22     10035   \n",
      "2005          1128  BROWN-FORMAN CORP            2016-05-24     10201   \n",
      "2113          1128  BROWN-FORMAN CORP            2016-06-05     10224   \n",
      "2215          1128  BROWN-FORMAN CORP            2016-06-11     10378   \n",
      "2317          1128  BROWN-FORMAN CORP            2016-06-18     10480   \n",
      "2423          1128  BROWN-FORMAN CORP            2016-06-26     10534   \n",
      "2521          1128  BROWN-FORMAN CORP            2016-07-04     10666   \n",
      "2622          1128  BROWN-FORMAN CORP            2016-07-12     10753   \n",
      "2720          1128  BROWN-FORMAN CORP            2016-07-11     10839   \n",
      "2809          1128  BROWN-FORMAN CORP            2016-07-11     10971   \n",
      "2912          1128  BROWN-FORMAN CORP            2016-07-22     11109   \n",
      "3012          1128  BROWN-FORMAN CORP            2016-08-02     11208   \n",
      "3116          1128  BROWN-FORMAN CORP            2016-08-01     11311   \n",
      "3215          1128  BROWN-FORMAN CORP            2016-08-08     11382   \n",
      "3313          1128  BROWN-FORMAN CORP            2016-08-21     11458   \n",
      "3415          1128  BROWN-FORMAN CORP            2016-08-26     11543   \n",
      "3522          1128  BROWN-FORMAN CORP            2016-09-04     11668   \n",
      "3618          1128  BROWN-FORMAN CORP            2016-09-09     11730   \n",
      "3725          1128  BROWN-FORMAN CORP            2016-09-15     11920   \n",
      "3826          1128  BROWN-FORMAN CORP            2016-09-27     11954   \n",
      "3929          1128  BROWN-FORMAN CORP            2016-09-29     12076   \n",
      "4032          1128  BROWN-FORMAN CORP            2016-10-10     12192   \n",
      "4137          1128  BROWN-FORMAN CORP            2016-10-08     12256   \n",
      "4200          1128  BROWN-FORMAN CORP            2016-10-13     12311   \n",
      "4301          1128  BROWN-FORMAN CORP            2016-10-17     12412   \n",
      "4404          1128  BROWN-FORMAN CORP            2016-10-25     12539   \n",
      "4508          1128  BROWN-FORMAN CORP            2016-11-07     12675   \n",
      "4614          1128  BROWN-FORMAN CORP            2016-11-09     12739   \n",
      "4716          1128  BROWN-FORMAN CORP            2016-11-15     12852   \n",
      "4817          1128  BROWN-FORMAN CORP            2016-11-25     12931   \n",
      "4918          1128  BROWN-FORMAN CORP            2016-12-03     13077   \n",
      "5024          1128  BROWN-FORMAN CORP            2016-12-08     13137   \n",
      "5127          1128  BROWN-FORMAN CORP            2016-12-18     13321   \n",
      "5227          1128  BROWN-FORMAN CORP            2016-12-25     13336   \n",
      "5336          1128  BROWN-FORMAN CORP            2016-12-31     13466   \n",
      "5443          1128  BROWN-FORMAN CORP            2017-01-03     13577   \n",
      "\n",
      "          PODate     PayDate  Quantity    Dollars  Freight        Approval  \n",
      "6     2015-12-23  2016-02-19      4684   65403.57  1808.77             NaN  \n",
      "97    2015-12-27  2016-02-25     23351  298902.89  1494.51  Frank Delahunt  \n",
      "195   2016-01-06  2016-02-18     11443  138035.44   690.18             NaN  \n",
      "289   2016-01-13  2016-02-29     12899  142492.97   755.21             NaN  \n",
      "387   2016-01-18  2016-03-15     23217  335055.84  1708.78  Frank Delahunt  \n",
      "493   2016-01-29  2016-03-24     18863  250689.87  1328.66  Frank Delahunt  \n",
      "592   2016-02-02  2016-03-17     11876  165219.61   743.49             NaN  \n",
      "697   2016-02-09  2016-03-25     17574  203550.59   956.69             NaN  \n",
      "804   2016-02-16  2016-04-11     27342  313177.52  1691.16  Frank Delahunt  \n",
      "903   2016-02-21  2016-04-21     15019  195521.15  1036.26             NaN  \n",
      "1002  2016-03-03  2016-04-18     14855  170276.77   902.47             NaN  \n",
      "1103  2016-03-06  2016-04-24     13010  164097.83   804.08             NaN  \n",
      "1205  2016-03-18  2016-05-02     13312  158392.02   712.76             NaN  \n",
      "1304  2016-03-20  2016-05-08     18422  257419.46  1390.07  Frank Delahunt  \n",
      "1407  2016-03-27  2016-05-23     17366  214028.06  1027.33             NaN  \n",
      "1507  2016-04-06  2016-06-01     14873  190511.13   857.30             NaN  \n",
      "1607  2016-04-13  2016-06-09     16090  199050.33  1035.06             NaN  \n",
      "1706  2016-04-19  2016-06-07     15193  220984.85  1127.02             NaN  \n",
      "1807  2016-04-29  2016-06-12     16679  227776.44  1138.88             NaN  \n",
      "1910  2016-05-02  2016-07-03     16039  181190.81   978.43             NaN  \n",
      "2005  2016-05-13  2016-07-08     14647  179195.54   985.58             NaN  \n",
      "2113  2016-05-15  2016-07-14     20007  283650.31  1560.08  Frank Delahunt  \n",
      "2215  2016-05-25  2016-07-23     20745  297968.12  1430.25  Frank Delahunt  \n",
      "2317  2016-06-01  2016-07-28     27324  481113.96  2357.46  Frank Delahunt  \n",
      "2423  2016-06-05  2016-07-24     20783  306451.12  1501.61  Frank Delahunt  \n",
      "2521  2016-06-14  2016-08-08     19012  265744.08  1222.42  Frank Delahunt  \n",
      "2622  2016-06-20  2016-08-08     15812  209653.20   964.40             NaN  \n",
      "2720  2016-06-25  2016-08-21      2524   38148.64   190.74             NaN  \n",
      "2809  2016-06-29  2016-08-11     24220  360832.00  1768.08  Frank Delahunt  \n",
      "2912  2016-07-08  2016-09-01     20354  320836.08  1540.01  Frank Delahunt  \n",
      "3012  2016-07-15  2016-09-09     21238  352950.75  1870.64  Frank Delahunt  \n",
      "3116  2016-07-22  2016-09-08     20014  305408.27  1527.04  Frank Delahunt  \n",
      "3215  2016-07-27  2016-09-23     17843  239908.07  1127.57             NaN  \n",
      "3313  2016-08-02  2016-09-28     17989  215610.62   991.81             NaN  \n",
      "3415  2016-08-08  2016-09-28     22195  320636.32  1571.12  Frank Delahunt  \n",
      "3522  2016-08-16  2016-09-29     19450  235097.07  1269.52             NaN  \n",
      "3618  2016-08-21  2016-10-09     17998  242967.77  1190.54             NaN  \n",
      "3725  2016-09-02  2016-10-21     18120  257530.21  1184.64  Frank Delahunt  \n",
      "3826  2016-09-05  2016-11-05     12998  158616.72   713.78             NaN  \n",
      "3929  2016-09-13  2016-11-10     14847  159874.59   783.39             NaN  \n",
      "4032  2016-09-21  2016-11-11     17432  226695.59  1065.47             NaN  \n",
      "4137  2016-09-23  2016-11-12       423    5009.04    25.05             NaN  \n",
      "4200  2016-09-25  2016-11-22     21757  286441.40  1288.99  Frank Delahunt  \n",
      "4301  2016-10-02  2016-12-02     19280  262711.21  1392.37  Frank Delahunt  \n",
      "4404  2016-10-10  2016-11-26     20615  280004.13  1316.02  Frank Delahunt  \n",
      "4508  2016-10-19  2016-12-09     21080  295495.96  1447.93  Frank Delahunt  \n",
      "4614  2016-10-24  2016-12-19     23824  338788.68  1795.58  Frank Delahunt  \n",
      "4716  2016-10-31  2016-12-29     23769  354155.84  1841.61  Frank Delahunt  \n",
      "4817  2016-11-06  2017-01-04     23501  356155.13  1638.31  Frank Delahunt  \n",
      "4918  2016-11-15  2017-01-04     16165  226877.57  1202.45             NaN  \n",
      "5024  2016-11-20  2017-01-21     20937  287164.72  1349.67  Frank Delahunt  \n",
      "5127  2016-12-02  2017-01-14     23409  290810.28  1337.73  Frank Delahunt  \n",
      "5227  2016-12-04  2017-01-28     25341  303869.01  1458.57  Frank Delahunt  \n",
      "5336  2016-12-12  2017-02-06     25337  301771.97  1478.68  Frank Delahunt  \n",
      "5443  2016-12-19  2017-02-13     33025  389511.96  2025.46  Frank Delahunt  \n"
     ]
    }
   ],
   "source": [
    "Proveedor_1128= df_InvoicePurchases[df_InvoicePurchases['VendorNumber']==1128]\n",
    "print(Proveedor_1128)"
   ]
  },
  {
   "cell_type": "code",
   "execution_count": 52,
   "metadata": {},
   "outputs": [
    {
     "data": {
      "text/plain": [
       "VendorNumber       0\n",
       "VendorName         0\n",
       "InvoiceDate        0\n",
       "PONumber           0\n",
       "PODate             0\n",
       "PayDate            0\n",
       "Quantity           0\n",
       "Dollars            0\n",
       "Freight            0\n",
       "Approval        5169\n",
       "dtype: int64"
      ]
     },
     "execution_count": 52,
     "metadata": {},
     "output_type": "execute_result"
    }
   ],
   "source": [
    "df_InvoicePurchases.isnull().sum()"
   ]
  },
  {
   "cell_type": "code",
   "execution_count": 53,
   "metadata": {},
   "outputs": [
    {
     "name": "stdout",
     "output_type": "stream",
     "text": [
      "      VendorNumber                   VendorName InvoiceDate  PONumber  \\\n",
      "93             480  BACARDI USA INC              2016-01-19      8288   \n",
      "97            1128  BROWN-FORMAN CORP            2016-01-15      8210   \n",
      "109           3960  DIAGEO NORTH AMERICA INC     2016-01-14      8271   \n",
      "126          12546  JIM BEAM BRANDS COMPANY      2016-01-16      8241   \n",
      "137           4425        MARTIGNETTI COMPANIES  2016-01-18      8276   \n",
      "...            ...                          ...         ...       ...   \n",
      "5487          4425        MARTIGNETTI COMPANIES  2017-01-03     13584   \n",
      "5490          8112  MOET HENNESSY USA INC        2017-01-03     13635   \n",
      "5497         17035  PERNOD RICARD USA            2017-01-03     13597   \n",
      "5507          8004  SAZERAC CO INC               2017-01-10     13567   \n",
      "5532          9165  ULTRA BEVERAGE COMPANY LLP   2017-01-10     13658   \n",
      "\n",
      "          PODate     PayDate  Quantity     Dollars  Freight        Approval  \n",
      "93    2016-01-01  2016-02-18     32463   396606.13  1864.05  Frank Delahunt  \n",
      "97    2015-12-27  2016-02-25     23351   298902.89  1494.51  Frank Delahunt  \n",
      "109   2015-12-31  2016-02-11    100183   954454.16  4581.38  Frank Delahunt  \n",
      "126   2015-12-29  2016-02-15     56213   559691.95  2910.40  Frank Delahunt  \n",
      "137   2015-12-31  2016-02-28     42400   458222.53  2336.93  Frank Delahunt  \n",
      "...          ...         ...       ...         ...      ...             ...  \n",
      "5487  2016-12-19  2017-02-17     92470  1010674.21  4952.30  Frank Delahunt  \n",
      "5490  2016-12-22  2017-02-12     15003   316863.94  1457.57  Frank Delahunt  \n",
      "5497  2016-12-20  2017-02-16     48425   663584.35  3649.71  Frank Delahunt  \n",
      "5507  2016-12-18  2017-02-19     43240   318075.65  1494.96  Frank Delahunt  \n",
      "5532  2016-12-23  2017-02-19     38896   502128.05  2761.70  Frank Delahunt  \n",
      "\n",
      "[374 rows x 10 columns]\n"
     ]
    }
   ],
   "source": [
    "df_no_nulos = df_InvoicePurchases[~df_InvoicePurchases.isnull().any(axis=1)]\n",
    "print(df_no_nulos)"
   ]
  },
  {
   "cell_type": "markdown",
   "metadata": {},
   "source": [
    "approval es la persona que aprobo la compra. está casi todo vacío. "
   ]
  },
  {
   "cell_type": "markdown",
   "metadata": {},
   "source": [
    "### PurchasesFinal"
   ]
  },
  {
   "cell_type": "code",
   "execution_count": 30,
   "metadata": {},
   "outputs": [],
   "source": [
    "archivotemp5 =  r\"C:\\Data Anaytics\\Proyectos\\Inventario\\Base de datos\\PurchasesFINAL12312016.csv\"\n",
    "\n",
    "df_PurchasesFINAL= pd.read_csv(archivotemp5)"
   ]
  },
  {
   "cell_type": "code",
   "execution_count": 76,
   "metadata": {},
   "outputs": [
    {
     "data": {
      "text/plain": [
       "Index(['InventoryId', 'Store', 'Brand', 'Description', 'Size', 'VendorNumber',\n",
       "       'VendorName', 'PONumber', 'PODate', 'ReceivingDate', 'InvoiceDate',\n",
       "       'PayDate', 'PurchasePrice', 'Quantity', 'Dollars', 'Classification'],\n",
       "      dtype='object')"
      ]
     },
     "execution_count": 76,
     "metadata": {},
     "output_type": "execute_result"
    }
   ],
   "source": [
    "df_PurchasesFINAL.columns"
   ]
  },
  {
   "cell_type": "code",
   "execution_count": 77,
   "metadata": {},
   "outputs": [
    {
     "name": "stdout",
     "output_type": "stream",
     "text": [
      "InventoryId\n",
      "Store\n",
      "Brand\n",
      "Description\n",
      "Size\n",
      "VendorNumber\n",
      "VendorName\n",
      "PONumber\n",
      "PODate\n",
      "ReceivingDate\n",
      "InvoiceDate\n",
      "PayDate\n",
      "PurchasePrice\n",
      "Quantity\n",
      "Dollars\n",
      "Classification\n"
     ]
    }
   ],
   "source": [
    "for e in list(df_PurchasesFINAL.columns):\n",
    "    print(e)"
   ]
  },
  {
   "cell_type": "code",
   "execution_count": 56,
   "metadata": {},
   "outputs": [
    {
     "name": "stdout",
     "output_type": "stream",
     "text": [
      "           InventoryId  Store  Brand                   Description   Size  \\\n",
      "0    69_MOUNTMEND_8412     69   8412     Tequila Ocho Plata Fresno  750mL   \n",
      "1     30_CULCHETH_5255     30   5255  TGI Fridays Ultimte Mudslide  1.75L   \n",
      "2    34_PITMERDEN_5215     34   5215  TGI Fridays Long Island Iced  1.75L   \n",
      "3  1_HARDERSFIELD_5255      1   5255  TGI Fridays Ultimte Mudslide  1.75L   \n",
      "4    76_DONCASTER_2034     76   2034     Glendalough Double Barrel  750mL   \n",
      "\n",
      "   VendorNumber                   VendorName  PONumber      PODate  \\\n",
      "0           105  ALTAMAR BRANDS LLC               8124  2015-12-21   \n",
      "1          4466  AMERICAN VINTAGE BEVERAGE        8137  2015-12-22   \n",
      "2          4466  AMERICAN VINTAGE BEVERAGE        8137  2015-12-22   \n",
      "3          4466  AMERICAN VINTAGE BEVERAGE        8137  2015-12-22   \n",
      "4           388  ATLANTIC IMPORTING COMPANY       8169  2015-12-24   \n",
      "\n",
      "  ReceivingDate InvoiceDate     PayDate  PurchasePrice  Quantity  Dollars  \\\n",
      "0    2016-01-02  2016-01-04  2016-02-16          35.71         6   214.26   \n",
      "1    2016-01-01  2016-01-07  2016-02-21           9.35         4    37.40   \n",
      "2    2016-01-02  2016-01-07  2016-02-21           9.41         5    47.05   \n",
      "3    2016-01-01  2016-01-07  2016-02-21           9.35         6    56.10   \n",
      "4    2016-01-02  2016-01-09  2016-02-16          21.32         5   106.60   \n",
      "\n",
      "   Classification  \n",
      "0               1  \n",
      "1               1  \n",
      "2               1  \n",
      "3               1  \n",
      "4               1  \n"
     ]
    }
   ],
   "source": [
    "print(df_PurchasesFINAL.head(5))"
   ]
  },
  {
   "cell_type": "code",
   "execution_count": 57,
   "metadata": {},
   "outputs": [
    {
     "name": "stdout",
     "output_type": "stream",
     "text": [
      "<class 'pandas.core.frame.DataFrame'>\n",
      "RangeIndex: 2372474 entries, 0 to 2372473\n",
      "Data columns (total 16 columns):\n",
      " #   Column          Dtype  \n",
      "---  ------          -----  \n",
      " 0   InventoryId     object \n",
      " 1   Store           int64  \n",
      " 2   Brand           int64  \n",
      " 3   Description     object \n",
      " 4   Size            object \n",
      " 5   VendorNumber    int64  \n",
      " 6   VendorName      object \n",
      " 7   PONumber        int64  \n",
      " 8   PODate          object \n",
      " 9   ReceivingDate   object \n",
      " 10  InvoiceDate     object \n",
      " 11  PayDate         object \n",
      " 12  PurchasePrice   float64\n",
      " 13  Quantity        int64  \n",
      " 14  Dollars         float64\n",
      " 15  Classification  int64  \n",
      "dtypes: float64(2), int64(6), object(8)\n",
      "memory usage: 289.6+ MB\n"
     ]
    }
   ],
   "source": [
    "df_PurchasesFINAL.info()\n"
   ]
  },
  {
   "cell_type": "code",
   "execution_count": 58,
   "metadata": {},
   "outputs": [
    {
     "data": {
      "text/plain": [
       "(2372474, 16)"
      ]
     },
     "execution_count": 58,
     "metadata": {},
     "output_type": "execute_result"
    }
   ],
   "source": [
    "df_PurchasesFINAL.shape"
   ]
  },
  {
   "cell_type": "code",
   "execution_count": 59,
   "metadata": {},
   "outputs": [
    {
     "data": {
      "text/plain": [
       "InventoryId       245907\n",
       "Store                 80\n",
       "Brand              10664\n",
       "Description         9652\n",
       "Size                  51\n",
       "VendorNumber         126\n",
       "VendorName           129\n",
       "PONumber            5543\n",
       "PODate               319\n",
       "ReceivingDate        364\n",
       "InvoiceDate          373\n",
       "PayDate              382\n",
       "PurchasePrice       2151\n",
       "Quantity             686\n",
       "Dollars            33567\n",
       "Classification         2\n",
       "dtype: int64"
      ]
     },
     "execution_count": 59,
     "metadata": {},
     "output_type": "execute_result"
    }
   ],
   "source": [
    "df_PurchasesFINAL.nunique()"
   ]
  },
  {
   "cell_type": "markdown",
   "metadata": {},
   "source": [
    "no tiene clave única. Generarla"
   ]
  },
  {
   "cell_type": "markdown",
   "metadata": {},
   "source": [
    "### Sales"
   ]
  },
  {
   "cell_type": "code",
   "execution_count": 31,
   "metadata": {},
   "outputs": [],
   "source": [
    "archivotemp6 =  r\"C:\\Data Anaytics\\Proyectos\\Inventario\\Base de datos\\SalesFINAL12312016.csv\"\n",
    "\n",
    "df_SalesFINAL= pd.read_csv(archivotemp6)"
   ]
  },
  {
   "cell_type": "code",
   "execution_count": 78,
   "metadata": {},
   "outputs": [
    {
     "data": {
      "text/plain": [
       "Index(['InventoryId', 'Store', 'Brand', 'Description', 'Size', 'SalesQuantity',\n",
       "       'SalesDollars', 'SalesPrice', 'SalesDate', 'Volume', 'Classification',\n",
       "       'ExciseTax', 'VendorNo', 'VendorName'],\n",
       "      dtype='object')"
      ]
     },
     "execution_count": 78,
     "metadata": {},
     "output_type": "execute_result"
    }
   ],
   "source": [
    "df_SalesFINAL.columns"
   ]
  },
  {
   "cell_type": "code",
   "execution_count": 79,
   "metadata": {},
   "outputs": [
    {
     "name": "stdout",
     "output_type": "stream",
     "text": [
      "InventoryId\n",
      "Store\n",
      "Brand\n",
      "Description\n",
      "Size\n",
      "SalesQuantity\n",
      "SalesDollars\n",
      "SalesPrice\n",
      "SalesDate\n",
      "Volume\n",
      "Classification\n",
      "ExciseTax\n",
      "VendorNo\n",
      "VendorName\n"
     ]
    }
   ],
   "source": [
    "for e in list(df_SalesFINAL.columns):\n",
    "    print (e)"
   ]
  },
  {
   "cell_type": "code",
   "execution_count": 62,
   "metadata": {},
   "outputs": [
    {
     "name": "stdout",
     "output_type": "stream",
     "text": [
      "           InventoryId  Store  Brand                 Description        Size  \\\n",
      "0  1_HARDERSFIELD_1004      1   1004  Jim Beam w/2 Rocks Glasses       750mL   \n",
      "1  1_HARDERSFIELD_1004      1   1004  Jim Beam w/2 Rocks Glasses       750mL   \n",
      "2  1_HARDERSFIELD_1004      1   1004  Jim Beam w/2 Rocks Glasses       750mL   \n",
      "3  1_HARDERSFIELD_1004      1   1004  Jim Beam w/2 Rocks Glasses       750mL   \n",
      "4  1_HARDERSFIELD_1005      1   1005     Maker's Mark Combo Pack  375mL 2 Pk   \n",
      "\n",
      "   SalesQuantity  SalesDollars  SalesPrice SalesDate  Volume  Classification  \\\n",
      "0              1         16.49       16.49  1/1/2016     750               1   \n",
      "1              2         32.98       16.49  1/2/2016     750               1   \n",
      "2              1         16.49       16.49  1/3/2016     750               1   \n",
      "3              1         14.49       14.49  1/8/2016     750               1   \n",
      "4              2         69.98       34.99  1/9/2016     375               1   \n",
      "\n",
      "   ExciseTax  VendorNo                   VendorName  \n",
      "0       0.79     12546  JIM BEAM BRANDS COMPANY      \n",
      "1       1.57     12546  JIM BEAM BRANDS COMPANY      \n",
      "2       0.79     12546  JIM BEAM BRANDS COMPANY      \n",
      "3       0.79     12546  JIM BEAM BRANDS COMPANY      \n",
      "4       0.79     12546  JIM BEAM BRANDS COMPANY      \n"
     ]
    }
   ],
   "source": [
    "print(df_SalesFINAL.head(5))"
   ]
  },
  {
   "cell_type": "code",
   "execution_count": 82,
   "metadata": {},
   "outputs": [
    {
     "name": "stdout",
     "output_type": "stream",
     "text": [
      "                 InventoryId  Store  Brand                   Description  \\\n",
      "158      1_HARDERSFIELD_1051      1   1051      Woodford Reserve MC 1838   \n",
      "159      1_HARDERSFIELD_1051      1   1051      Woodford Reserve MC 1838   \n",
      "166      1_HARDERSFIELD_1060      1   1060  Jack Daniels Bruins Glass Pk   \n",
      "167      1_HARDERSFIELD_1060      1   1060  Jack Daniels Bruins Glass Pk   \n",
      "168      1_HARDERSFIELD_1060      1   1060  Jack Daniels Bruins Glass Pk   \n",
      "...                      ...    ...    ...                           ...   \n",
      "1046322   19_WINTERVALE_2760     19   2760  Jack Daniels Tennessee Honey   \n",
      "1046323   19_WINTERVALE_2760     19   2760  Jack Daniels Tennessee Honey   \n",
      "1046324   19_WINTERVALE_2760     19   2760  Jack Daniels Tennessee Honey   \n",
      "1047754   19_WINTERVALE_3614     19   3614               Finlandia Vodka   \n",
      "1047755   19_WINTERVALE_3614     19   3614               Finlandia Vodka   \n",
      "\n",
      "          Size  SalesQuantity  SalesDollars  SalesPrice  SalesDate  Volume  \\\n",
      "158      750mL              1         99.99       99.99   1/4/2016     750   \n",
      "159      750mL              1         99.99       99.99  1/23/2016     750   \n",
      "166      Liter              2         55.98       27.99   1/1/2016    1000   \n",
      "167      Liter              1         27.99       27.99   1/2/2016    1000   \n",
      "168      Liter              1         31.99       31.99  1/11/2016    1000   \n",
      "...        ...            ...           ...         ...        ...     ...   \n",
      "1046322  1.75L              1         38.99       38.99  2/19/2016    1750   \n",
      "1046323  1.75L              1         38.99       38.99  2/23/2016    1750   \n",
      "1046324  1.75L              3        116.97       38.99  2/26/2016    1750   \n",
      "1047754  1.75L              1         22.99       22.99  2/10/2016    1750   \n",
      "1047755  1.75L              1         22.99       22.99  2/25/2016    1750   \n",
      "\n",
      "         Classification  ExciseTax  VendorNo                   VendorName  \n",
      "158                   1       0.79      1128  BROWN-FORMAN CORP            \n",
      "159                   1       0.79      1128  BROWN-FORMAN CORP            \n",
      "166                   1       2.10      1128  BROWN-FORMAN CORP            \n",
      "167                   1       1.05      1128  BROWN-FORMAN CORP            \n",
      "168                   1       1.05      1128  BROWN-FORMAN CORP            \n",
      "...                 ...        ...       ...                          ...  \n",
      "1046322               1       1.84      1128  BROWN-FORMAN CORP            \n",
      "1046323               1       1.84      1128  BROWN-FORMAN CORP            \n",
      "1046324               1       5.51      1128  BROWN-FORMAN CORP            \n",
      "1047754               1       1.84      1128  BROWN-FORMAN CORP            \n",
      "1047755               1       1.84      1128  BROWN-FORMAN CORP            \n",
      "\n",
      "[31171 rows x 14 columns]\n"
     ]
    }
   ],
   "source": [
    "sales_1128 = df_SalesFINAL[df_SalesFINAL['VendorNo']==1128]\n",
    "print(sales_1128)"
   ]
  },
  {
   "cell_type": "code",
   "execution_count": 5,
   "metadata": {},
   "outputs": [
    {
     "name": "stdout",
     "output_type": "stream",
     "text": [
      "<class 'pandas.core.frame.DataFrame'>\n",
      "RangeIndex: 1048575 entries, 0 to 1048574\n",
      "Data columns (total 14 columns):\n",
      " #   Column          Non-Null Count    Dtype  \n",
      "---  ------          --------------    -----  \n",
      " 0   InventoryId     1048575 non-null  object \n",
      " 1   Store           1048575 non-null  int64  \n",
      " 2   Brand           1048575 non-null  int64  \n",
      " 3   Description     1048575 non-null  object \n",
      " 4   Size            1048575 non-null  object \n",
      " 5   SalesQuantity   1048575 non-null  int64  \n",
      " 6   SalesDollars    1048575 non-null  float64\n",
      " 7   SalesPrice      1048575 non-null  float64\n",
      " 8   SalesDate       1048575 non-null  object \n",
      " 9   Volume          1048575 non-null  int64  \n",
      " 10  Classification  1048575 non-null  int64  \n",
      " 11  ExciseTax       1048575 non-null  float64\n",
      " 12  VendorNo        1048575 non-null  int64  \n",
      " 13  VendorName      1048575 non-null  object \n",
      "dtypes: float64(3), int64(6), object(5)\n",
      "memory usage: 112.0+ MB\n"
     ]
    }
   ],
   "source": [
    "df_SalesFINAL.info()"
   ]
  },
  {
   "cell_type": "markdown",
   "metadata": {},
   "source": [
    "Verificar que columna es única"
   ]
  },
  {
   "cell_type": "code",
   "execution_count": 71,
   "metadata": {},
   "outputs": [
    {
     "name": "stdout",
     "output_type": "stream",
     "text": [
      "no hay identificador único\n"
     ]
    }
   ],
   "source": [
    "unico = 0\n",
    "for columna in df_SalesFINAL.columns:\n",
    "    if df_SalesFINAL[columna].nunique() == df_SalesFINAL.shape[0]:\n",
    "        print (f'{columna} es unica' )\n",
    "        unico = 1\n",
    "if unico == 0 :\n",
    "    print ('no hay identificador único')"
   ]
  },
  {
   "cell_type": "code",
   "execution_count": 64,
   "metadata": {},
   "outputs": [
    {
     "name": "stdout",
     "output_type": "stream",
     "text": [
      "1048575\n"
     ]
    }
   ],
   "source": [
    "Cantidad_filas = df_SalesFINAL.shape[0]\n",
    "print(Cantidad_filas)\n"
   ]
  },
  {
   "cell_type": "code",
   "execution_count": 65,
   "metadata": {},
   "outputs": [
    {
     "name": "stdout",
     "output_type": "stream",
     "text": [
      "InventoryId       170131\n",
      "Store                 79\n",
      "Brand               7658\n",
      "Description         6890\n",
      "Size                  40\n",
      "SalesQuantity        141\n",
      "SalesDollars        3426\n",
      "SalesPrice           273\n",
      "SalesDate             60\n",
      "Volume                22\n",
      "Classification         2\n",
      "ExciseTax            468\n",
      "VendorNo             116\n",
      "VendorName           117\n",
      "dtype: int64\n"
     ]
    }
   ],
   "source": [
    "DF_unicos = df_SalesFINAL.nunique()\n",
    "print(DF_unicos)\n",
    "\n",
    "\n",
    "\n"
   ]
  },
  {
   "cell_type": "code",
   "execution_count": 66,
   "metadata": {},
   "outputs": [
    {
     "name": "stdout",
     "output_type": "stream",
     "text": [
      "             index       0\n",
      "0      InventoryId  170131\n",
      "1            Store      79\n",
      "2            Brand    7658\n",
      "3      Description    6890\n",
      "4             Size      40\n",
      "5    SalesQuantity     141\n",
      "6     SalesDollars    3426\n",
      "7       SalesPrice     273\n",
      "8        SalesDate      60\n",
      "9           Volume      22\n",
      "10  Classification       2\n",
      "11       ExciseTax     468\n",
      "12        VendorNo     116\n",
      "13      VendorName     117\n"
     ]
    }
   ],
   "source": [
    "DF_unicos = DF_unicos.reset_index()\n",
    "print(DF_unicos)"
   ]
  },
  {
   "cell_type": "code",
   "execution_count": 67,
   "metadata": {},
   "outputs": [
    {
     "name": "stdout",
     "output_type": "stream",
     "text": [
      "           columna  cantidad de unicos\n",
      "0      InventoryId              170131\n",
      "1            Store                  79\n",
      "2            Brand                7658\n",
      "3      Description                6890\n",
      "4             Size                  40\n",
      "5    SalesQuantity                 141\n",
      "6     SalesDollars                3426\n",
      "7       SalesPrice                 273\n",
      "8        SalesDate                  60\n",
      "9           Volume                  22\n",
      "10  Classification                   2\n",
      "11       ExciseTax                 468\n",
      "12        VendorNo                 116\n",
      "13      VendorName                 117\n"
     ]
    }
   ],
   "source": [
    "DF_unicos.columns=['columna','cantidad de unicos']\n",
    "print(DF_unicos)"
   ]
  },
  {
   "cell_type": "code",
   "execution_count": 68,
   "metadata": {},
   "outputs": [
    {
     "name": "stdout",
     "output_type": "stream",
     "text": [
      "Empty DataFrame\n",
      "Columns: [columna, cantidad de unicos]\n",
      "Index: []\n"
     ]
    }
   ],
   "source": [
    "columna_id= DF_unicos[DF_unicos['cantidad de unicos']==Cantidad_filas]\n",
    "print(columna_id)"
   ]
  },
  {
   "cell_type": "markdown",
   "metadata": {},
   "source": [
    "NO hay clave de identificación única. Crear SalesID"
   ]
  },
  {
   "cell_type": "markdown",
   "metadata": {},
   "source": [
    "Verificar si esta el producto que tiene valores nulos"
   ]
  },
  {
   "cell_type": "code",
   "execution_count": 26,
   "metadata": {},
   "outputs": [
    {
     "name": "stdout",
     "output_type": "stream",
     "text": [
      "no se encontró Brand 4202, se puede eliminar\n"
     ]
    }
   ],
   "source": [
    "if df_SalesFINAL[df_SalesFINAL['Brand'] == 4202].empty & df_PurchasesFINAL[df_PurchasesFINAL['Brand'] == 4202].empty & df_BegInv[df_BegInv['Brand'] == 4202].empty & df_EndInv[df_EndInv['Brand'] == 4202].empty:\n",
    "    print('no se encontró Brand 4202, se puede eliminar')\n",
    "else:\n",
    "    print('Brand 4202 no se puede eliminar')\n",
    "\n"
   ]
  }
 ],
 "metadata": {
  "kernelspec": {
   "display_name": "Python 3",
   "language": "python",
   "name": "python3"
  },
  "language_info": {
   "codemirror_mode": {
    "name": "ipython",
    "version": 3
   },
   "file_extension": ".py",
   "mimetype": "text/x-python",
   "name": "python",
   "nbconvert_exporter": "python",
   "pygments_lexer": "ipython3",
   "version": "3.11.2"
  }
 },
 "nbformat": 4,
 "nbformat_minor": 2
}
