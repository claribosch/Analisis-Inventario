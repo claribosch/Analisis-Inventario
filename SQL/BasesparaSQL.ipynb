{
 "cells": [
  {
   "cell_type": "code",
   "execution_count": 2,
   "metadata": {},
   "outputs": [],
   "source": [
    "import numpy as np"
   ]
  },
  {
   "cell_type": "code",
   "execution_count": 3,
   "metadata": {},
   "outputs": [],
   "source": [
    "import pandas as pd"
   ]
  },
  {
   "cell_type": "code",
   "execution_count": 17,
   "metadata": {},
   "outputs": [],
   "source": [
    "archivotemp =  r\"C:\\Data Anaytics\\Proyectos\\Inventario\\Base de datos\\2017PurchasePricesDec.csv\"\n",
    "\n",
    "df_PurchasePriceDesc= pd.read_csv(archivotemp)"
   ]
  },
  {
   "cell_type": "code",
   "execution_count": 18,
   "metadata": {},
   "outputs": [],
   "source": [
    "archivotemp4 =  r\"C:\\Data Anaytics\\Proyectos\\Inventario\\Base de datos\\InvoicePurchases12312016.csv\"\n",
    "\n",
    "df_InvoicePurchases= pd.read_csv(archivotemp4)"
   ]
  },
  {
   "cell_type": "code",
   "execution_count": 19,
   "metadata": {},
   "outputs": [],
   "source": [
    "archivotemp5 =  r\"C:\\Data Anaytics\\Proyectos\\Inventario\\Base de datos\\PurchasesFINAL12312016.csv\"\n",
    "\n",
    "df_PurchasesFINAL= pd.read_csv(archivotemp5)"
   ]
  },
  {
   "cell_type": "code",
   "execution_count": 301,
   "metadata": {},
   "outputs": [],
   "source": [
    "archivotemp6 =  r\"C:\\Data Anaytics\\Proyectos\\Inventario\\Base de datos\\SalesFINAL12312016.csv\"\n",
    "\n",
    "df_SalesFINAL= pd.read_csv(archivotemp6)"
   ]
  },
  {
   "cell_type": "code",
   "execution_count": 21,
   "metadata": {},
   "outputs": [],
   "source": [
    "archivotemp2 =  r\"C:\\Data Anaytics\\Proyectos\\Inventario\\Base de datos\\BegInvFINAL12312016.csv\"\n",
    "\n",
    "df_BegInv= pd.read_csv(archivotemp2)"
   ]
  },
  {
   "cell_type": "code",
   "execution_count": 22,
   "metadata": {},
   "outputs": [],
   "source": [
    "archivotemp3 =  r\"C:\\Data Anaytics\\Proyectos\\Inventario\\Base de datos\\EndInvFINAL12312016.csv\"\n",
    "\n",
    "df_EndInv= pd.read_csv(archivotemp3)"
   ]
  },
  {
   "cell_type": "markdown",
   "metadata": {},
   "source": [
    "###  Creacion Tabla de Proveedores \"Vendors\""
   ]
  },
  {
   "cell_type": "code",
   "execution_count": 9,
   "metadata": {},
   "outputs": [],
   "source": [
    "df_SalesFINALVendors = df_SalesFINAL[['VendorNo','VendorName']]\n",
    "df_InvoicePurchasesVendors = df_InvoicePurchases[['VendorNumber','VendorName']] ## tiene vendor no\n",
    "df_PurchasePriceDescVendors = df_PurchasePriceDesc[['VendorNumber','VendorName']] ## tiene vendor number\n",
    "df_PurchasesFINALVendors = df_PurchasesFINAL[['VendorNumber','VendorName']] ## tiene vendor number"
   ]
  },
  {
   "cell_type": "code",
   "execution_count": 12,
   "metadata": {},
   "outputs": [
    {
     "name": "stdout",
     "output_type": "stream",
     "text": [
      "   VendorNumber                   VendorName\n",
      "0         12546  JIM BEAM BRANDS COMPANY    \n",
      "1         12546  JIM BEAM BRANDS COMPANY    \n",
      "2         12546  JIM BEAM BRANDS COMPANY    \n",
      "3         12546  JIM BEAM BRANDS COMPANY    \n",
      "4         12546  JIM BEAM BRANDS COMPANY    \n"
     ]
    },
    {
     "name": "stderr",
     "output_type": "stream",
     "text": [
      "C:\\Users\\PC\\AppData\\Local\\Temp\\ipykernel_14000\\1608614556.py:1: SettingWithCopyWarning: \n",
      "A value is trying to be set on a copy of a slice from a DataFrame\n",
      "\n",
      "See the caveats in the documentation: https://pandas.pydata.org/pandas-docs/stable/user_guide/indexing.html#returning-a-view-versus-a-copy\n",
      "  df_SalesFINALVendors.rename (columns={'VendorNo': 'VendorNumber'}, inplace=True)\n"
     ]
    }
   ],
   "source": [
    "df_SalesFINALVendors.rename (columns={'VendorNo': 'VendorNumber'}, inplace=True)\n",
    "print(df_SalesFINALVendors.head(5))\n"
   ]
  },
  {
   "cell_type": "code",
   "execution_count": 24,
   "metadata": {},
   "outputs": [
    {
     "name": "stdout",
     "output_type": "stream",
     "text": [
      "       VendorNumber                   VendorName\n",
      "0             12546  JIM BEAM BRANDS COMPANY    \n",
      "1             12546  JIM BEAM BRANDS COMPANY    \n",
      "2             12546  JIM BEAM BRANDS COMPANY    \n",
      "3             12546  JIM BEAM BRANDS COMPANY    \n",
      "4             12546  JIM BEAM BRANDS COMPANY    \n",
      "...             ...                          ...\n",
      "12256         90024  VINILANDIA USA             \n",
      "12257          4425        MARTIGNETTI COMPANIES\n",
      "12258         10754  PERFECTA WINES             \n",
      "12259          9744  FREDERICK WILDMAN & SONS   \n",
      "12260         10754  PERFECTA WINES             \n",
      "\n",
      "[3438853 rows x 2 columns]\n"
     ]
    }
   ],
   "source": [
    "Vendors = pd.concat([df_SalesFINALVendors, df_InvoicePurchasesVendors,df_PurchasesFINALVendors,df_PurchasePriceDescVendors])\n",
    "print(Vendors)\n"
   ]
  },
  {
   "cell_type": "code",
   "execution_count": 30,
   "metadata": {},
   "outputs": [
    {
     "name": "stdout",
     "output_type": "stream",
     "text": [
      "       VendorNumber                   VendorName\n",
      "1             12546  JIM BEAM BRANDS COMPANY    \n",
      "2             12546  JIM BEAM BRANDS COMPANY    \n",
      "3             12546  JIM BEAM BRANDS COMPANY    \n",
      "4             12546  JIM BEAM BRANDS COMPANY    \n",
      "5             12546  JIM BEAM BRANDS COMPANY    \n",
      "...             ...                          ...\n",
      "12256         90024  VINILANDIA USA             \n",
      "12257          4425        MARTIGNETTI COMPANIES\n",
      "12258         10754  PERFECTA WINES             \n",
      "12259          9744  FREDERICK WILDMAN & SONS   \n",
      "12260         10754  PERFECTA WINES             \n",
      "\n",
      "[3438716 rows x 2 columns]\n"
     ]
    },
    {
     "data": {
      "text/plain": [
       "(3438716, 2)"
      ]
     },
     "execution_count": 30,
     "metadata": {},
     "output_type": "execute_result"
    }
   ],
   "source": [
    "duplicados = Vendors[Vendors.duplicated()]\n",
    "print(duplicados)\n",
    "duplicados.shape"
   ]
  },
  {
   "cell_type": "code",
   "execution_count": 27,
   "metadata": {},
   "outputs": [
    {
     "data": {
      "text/plain": [
       "np.int64(3438853)"
      ]
     },
     "execution_count": 27,
     "metadata": {},
     "output_type": "execute_result"
    }
   ],
   "source": [
    "Vendors.duplicated().count()"
   ]
  },
  {
   "cell_type": "code",
   "execution_count": 32,
   "metadata": {},
   "outputs": [
    {
     "name": "stdout",
     "output_type": "stream",
     "text": [
      "Conteo de duplicados:\n",
      "VendorNumber  VendorName                         \n",
      "3960          DIAGEO NORTH AMERICA INC               369699\n",
      "12546         JIM BEAM BRANDS COMPANY                284359\n",
      "1392          CONSTELLATION BRANDS INC               256902\n",
      "4425          MARTIGNETTI COMPANIES                  254424\n",
      "3252          E & J GALLO WINERY                     228389\n",
      "                                                      ...  \n",
      "2973          FLEMISH LION LLC                            1\n",
      "5895          Mizkan Americas, Inc.                       1\n",
      "3670          HALO DISTILLERY                             1\n",
      "1703          ALISA CARR BEVERAGES                        1\n",
      "90034         EXCLUSIVE WINES & SPIRITS                   1\n",
      "Name: count, Length: 137, dtype: int64\n"
     ]
    }
   ],
   "source": [
    "conteo = Vendors.value_counts()\n",
    "print(\"Conteo de duplicados:\")\n",
    "print(conteo)\n"
   ]
  },
  {
   "cell_type": "code",
   "execution_count": 41,
   "metadata": {},
   "outputs": [
    {
     "name": "stdout",
     "output_type": "stream",
     "text": [
      "      VendorNumber                   VendorName\n",
      "0            12546  JIM BEAM BRANDS COMPANY    \n",
      "8             2000  SOUTHERN WINE & SPIRITS NE \n",
      "18           10754  PERFECTA WINES             \n",
      "31            8352  LUXCO INC                  \n",
      "33           17035  PERNOD RICARD USA          \n",
      "...            ...                          ...\n",
      "5015            54  AAPER ALCOHOL & CHEMICAL CO\n",
      "542           5895  Mizkan Americas, Inc.      \n",
      "5018          3670  HALO DISTILLERY            \n",
      "7630          2973  FLEMISH LION LLC           \n",
      "7640         90034  EXCLUSIVE WINES & SPIRITS  \n",
      "\n",
      "[132 rows x 2 columns]\n"
     ]
    }
   ],
   "source": [
    "Vendors = Vendors.drop_duplicates(subset='VendorNumber')\n",
    "print(Vendors)"
   ]
  },
  {
   "cell_type": "code",
   "execution_count": 42,
   "metadata": {},
   "outputs": [
    {
     "data": {
      "text/plain": [
       "VendorNumber  VendorName                             \n",
       "2             IRA GOLDMAN AND WILLIAMS, LLP              1\n",
       "54            AAPER ALCOHOL & CHEMICAL CO                1\n",
       "60            ADAMBA IMPORTS INTL INC                    1\n",
       "105           ALTAMAR BRANDS LLC                         1\n",
       "200           AMERICAN SPIRITS EXCHANGE                  1\n",
       "                                                        ..\n",
       "98450         Serralles Usa LLC                          1\n",
       "99166         STARK BREWING COMPANY                      1\n",
       "172662        SWEETWATER FARM                            1\n",
       "173357        TAMWORTH DISTILLING                        1\n",
       "201359        FLAVOR ESSENCE INC                         1\n",
       "Name: count, Length: 132, dtype: int64"
      ]
     },
     "execution_count": 42,
     "metadata": {},
     "output_type": "execute_result"
    }
   ],
   "source": [
    "Vendors.value_counts()"
   ]
  },
  {
   "cell_type": "code",
   "execution_count": 43,
   "metadata": {},
   "outputs": [],
   "source": [
    "for vendor, count in Vendors.value_counts().items():  # Iterar sobre el conteo de valores\n",
    "    if count > 1:  # Verificar si el conteo es mayor a 1\n",
    "        print(vendor) "
   ]
  },
  {
   "cell_type": "code",
   "execution_count": 44,
   "metadata": {},
   "outputs": [
    {
     "data": {
      "text/plain": [
       "VendorNumber    0\n",
       "VendorName      0\n",
       "dtype: int64"
      ]
     },
     "execution_count": 44,
     "metadata": {},
     "output_type": "execute_result"
    }
   ],
   "source": [
    "Vendors.isnull().sum()"
   ]
  },
  {
   "cell_type": "code",
   "execution_count": 45,
   "metadata": {},
   "outputs": [
    {
     "name": "stdout",
     "output_type": "stream",
     "text": [
      "Empty DataFrame\n",
      "Columns: [VendorNumber, VendorName]\n",
      "Index: []\n"
     ]
    },
    {
     "data": {
      "text/plain": [
       "(0, 2)"
      ]
     },
     "execution_count": 45,
     "metadata": {},
     "output_type": "execute_result"
    }
   ],
   "source": [
    "Vendorsnull = Vendors[Vendors.isnull().any(axis=1)]\n",
    "print(Vendorsnull)\n",
    "Vendorsnull.shape\n",
    "\n",
    "\n",
    "\n",
    "\n"
   ]
  },
  {
   "cell_type": "code",
   "execution_count": 46,
   "metadata": {},
   "outputs": [
    {
     "data": {
      "text/html": [
       "<div>\n",
       "<style scoped>\n",
       "    .dataframe tbody tr th:only-of-type {\n",
       "        vertical-align: middle;\n",
       "    }\n",
       "\n",
       "    .dataframe tbody tr th {\n",
       "        vertical-align: top;\n",
       "    }\n",
       "\n",
       "    .dataframe thead th {\n",
       "        text-align: right;\n",
       "    }\n",
       "</style>\n",
       "<table border=\"1\" class=\"dataframe\">\n",
       "  <thead>\n",
       "    <tr style=\"text-align: right;\">\n",
       "      <th></th>\n",
       "      <th>VendorNumber</th>\n",
       "      <th>VendorName</th>\n",
       "    </tr>\n",
       "  </thead>\n",
       "  <tbody>\n",
       "    <tr>\n",
       "      <th>1009</th>\n",
       "      <td>1587</td>\n",
       "      <td>VINEYARD BRANDS INC</td>\n",
       "    </tr>\n",
       "  </tbody>\n",
       "</table>\n",
       "</div>"
      ],
      "text/plain": [
       "      VendorNumber                   VendorName\n",
       "1009          1587  VINEYARD BRANDS INC        "
      ]
     },
     "execution_count": 46,
     "metadata": {},
     "output_type": "execute_result"
    }
   ],
   "source": [
    "Vendors[Vendors['VendorNumber'] == 1587]"
   ]
  },
  {
   "cell_type": "code",
   "execution_count": 19,
   "metadata": {},
   "outputs": [],
   "source": [
    "type_mapping = {\n",
    "    'int64': 'INT',\n",
    "    'float64': 'FLOAT',\n",
    "    'object': 'NVARCHAR(250)',\n",
    "    'datetime64[ns]': 'DATETIME',\n",
    "    'bool': 'BIT'\n",
    "}\n"
   ]
  },
  {
   "cell_type": "code",
   "execution_count": 20,
   "metadata": {},
   "outputs": [
    {
     "name": "stdout",
     "output_type": "stream",
     "text": [
      "INT\n",
      "NVARCHAR(250)\n"
     ]
    }
   ],
   "source": [
    "for col in Vendors.columns:\n",
    "    sql_type = type_mapping[str(Vendors[col].dtype)]\n",
    "    print(sql_type)"
   ]
  },
  {
   "cell_type": "code",
   "execution_count": 21,
   "metadata": {},
   "outputs": [
    {
     "name": "stdout",
     "output_type": "stream",
     "text": [
      "CREATE TABLE Vendors (\n",
      "    VendorNumber INT,\n",
      "    VendorName NVARCHAR(250)\n",
      ");\n"
     ]
    }
   ],
   "source": [
    "\n",
    "# Crear la instrucción CREATE TABLE\n",
    "table_name = \"Vendors\"\n",
    "create_table_sql = f\"CREATE TABLE {table_name} (\\n\"\n",
    "\n",
    "for col in Vendors.columns:\n",
    "    sql_type = type_mapping[str(Vendors[col].dtype)]\n",
    "    create_table_sql += f\"    {col} {sql_type},\\n\"\n",
    "\n",
    "create_table_sql = create_table_sql.rstrip(\",\\n\") + \"\\n);\"\n",
    "\n",
    "# Mostrar el script SQL\n",
    "print(create_table_sql)\n"
   ]
  },
  {
   "cell_type": "code",
   "execution_count": 47,
   "metadata": {},
   "outputs": [],
   "source": [
    "Vendors.to_csv('Vendor.csv', index=False)"
   ]
  },
  {
   "cell_type": "markdown",
   "metadata": {},
   "source": [
    "### Creacióm Tabla de Brands"
   ]
  },
  {
   "cell_type": "code",
   "execution_count": 48,
   "metadata": {},
   "outputs": [
    {
     "data": {
      "text/html": [
       "<div>\n",
       "<style scoped>\n",
       "    .dataframe tbody tr th:only-of-type {\n",
       "        vertical-align: middle;\n",
       "    }\n",
       "\n",
       "    .dataframe tbody tr th {\n",
       "        vertical-align: top;\n",
       "    }\n",
       "\n",
       "    .dataframe thead th {\n",
       "        text-align: right;\n",
       "    }\n",
       "</style>\n",
       "<table border=\"1\" class=\"dataframe\">\n",
       "  <thead>\n",
       "    <tr style=\"text-align: right;\">\n",
       "      <th></th>\n",
       "      <th>Brand</th>\n",
       "      <th>Description</th>\n",
       "      <th>Price</th>\n",
       "      <th>Size</th>\n",
       "      <th>Volume</th>\n",
       "      <th>Classification</th>\n",
       "      <th>PurchasePrice</th>\n",
       "      <th>VendorNumber</th>\n",
       "      <th>VendorName</th>\n",
       "    </tr>\n",
       "  </thead>\n",
       "  <tbody>\n",
       "    <tr>\n",
       "      <th>0</th>\n",
       "      <td>58</td>\n",
       "      <td>Gekkeikan Black &amp; Gold Sake</td>\n",
       "      <td>12.99</td>\n",
       "      <td>750mL</td>\n",
       "      <td>750</td>\n",
       "      <td>1</td>\n",
       "      <td>9.28</td>\n",
       "      <td>8320</td>\n",
       "      <td>SHAW ROSS INT L IMP LTD</td>\n",
       "    </tr>\n",
       "    <tr>\n",
       "      <th>1</th>\n",
       "      <td>62</td>\n",
       "      <td>Herradura Silver Tequila</td>\n",
       "      <td>36.99</td>\n",
       "      <td>750mL</td>\n",
       "      <td>750</td>\n",
       "      <td>1</td>\n",
       "      <td>28.67</td>\n",
       "      <td>1128</td>\n",
       "      <td>BROWN-FORMAN CORP</td>\n",
       "    </tr>\n",
       "    <tr>\n",
       "      <th>2</th>\n",
       "      <td>63</td>\n",
       "      <td>Herradura Reposado Tequila</td>\n",
       "      <td>38.99</td>\n",
       "      <td>750mL</td>\n",
       "      <td>750</td>\n",
       "      <td>1</td>\n",
       "      <td>30.46</td>\n",
       "      <td>1128</td>\n",
       "      <td>BROWN-FORMAN CORP</td>\n",
       "    </tr>\n",
       "    <tr>\n",
       "      <th>3</th>\n",
       "      <td>72</td>\n",
       "      <td>No. 3 London Dry Gin</td>\n",
       "      <td>34.99</td>\n",
       "      <td>750mL</td>\n",
       "      <td>750</td>\n",
       "      <td>1</td>\n",
       "      <td>26.11</td>\n",
       "      <td>9165</td>\n",
       "      <td>ULTRA BEVERAGE COMPANY LLP</td>\n",
       "    </tr>\n",
       "    <tr>\n",
       "      <th>4</th>\n",
       "      <td>75</td>\n",
       "      <td>Three Olives Tomato Vodka</td>\n",
       "      <td>14.99</td>\n",
       "      <td>750mL</td>\n",
       "      <td>750</td>\n",
       "      <td>1</td>\n",
       "      <td>10.94</td>\n",
       "      <td>7245</td>\n",
       "      <td>PROXIMO SPIRITS INC.</td>\n",
       "    </tr>\n",
       "    <tr>\n",
       "      <th>...</th>\n",
       "      <td>...</td>\n",
       "      <td>...</td>\n",
       "      <td>...</td>\n",
       "      <td>...</td>\n",
       "      <td>...</td>\n",
       "      <td>...</td>\n",
       "      <td>...</td>\n",
       "      <td>...</td>\n",
       "      <td>...</td>\n",
       "    </tr>\n",
       "    <tr>\n",
       "      <th>12256</th>\n",
       "      <td>44917</td>\n",
       "      <td>Ferreira 10-Yr Tawny Port</td>\n",
       "      <td>24.99</td>\n",
       "      <td>750mL</td>\n",
       "      <td>750</td>\n",
       "      <td>2</td>\n",
       "      <td>16.55</td>\n",
       "      <td>90024</td>\n",
       "      <td>VINILANDIA USA</td>\n",
       "    </tr>\n",
       "    <tr>\n",
       "      <th>12257</th>\n",
       "      <td>44944</td>\n",
       "      <td>Sanford Santa Rita Pnt Nr</td>\n",
       "      <td>22.99</td>\n",
       "      <td>750mL</td>\n",
       "      <td>750</td>\n",
       "      <td>2</td>\n",
       "      <td>14.93</td>\n",
       "      <td>4425</td>\n",
       "      <td>MARTIGNETTI COMPANIES</td>\n",
       "    </tr>\n",
       "    <tr>\n",
       "      <th>12258</th>\n",
       "      <td>45016</td>\n",
       "      <td>Neal One Lane Bridg Cab Svgn</td>\n",
       "      <td>93.99</td>\n",
       "      <td>750mL</td>\n",
       "      <td>750</td>\n",
       "      <td>2</td>\n",
       "      <td>61.43</td>\n",
       "      <td>10754</td>\n",
       "      <td>PERFECTA WINES</td>\n",
       "    </tr>\n",
       "    <tr>\n",
       "      <th>12259</th>\n",
       "      <td>46011</td>\n",
       "      <td>Folonari Pnt Nr Venezie</td>\n",
       "      <td>12.99</td>\n",
       "      <td>1500ml</td>\n",
       "      <td>1500</td>\n",
       "      <td>2</td>\n",
       "      <td>8.90</td>\n",
       "      <td>9744</td>\n",
       "      <td>FREDERICK WILDMAN &amp; SONS</td>\n",
       "    </tr>\n",
       "    <tr>\n",
       "      <th>12260</th>\n",
       "      <td>46964</td>\n",
       "      <td>Calera Viognier Mt Harlan</td>\n",
       "      <td>35.99</td>\n",
       "      <td>750mL</td>\n",
       "      <td>750</td>\n",
       "      <td>2</td>\n",
       "      <td>24.32</td>\n",
       "      <td>10754</td>\n",
       "      <td>PERFECTA WINES</td>\n",
       "    </tr>\n",
       "  </tbody>\n",
       "</table>\n",
       "<p>12261 rows × 9 columns</p>\n",
       "</div>"
      ],
      "text/plain": [
       "       Brand                   Description  Price    Size Volume  \\\n",
       "0         58   Gekkeikan Black & Gold Sake  12.99   750mL    750   \n",
       "1         62      Herradura Silver Tequila  36.99   750mL    750   \n",
       "2         63    Herradura Reposado Tequila  38.99   750mL    750   \n",
       "3         72          No. 3 London Dry Gin  34.99   750mL    750   \n",
       "4         75     Three Olives Tomato Vodka  14.99   750mL    750   \n",
       "...      ...                           ...    ...     ...    ...   \n",
       "12256  44917     Ferreira 10-Yr Tawny Port  24.99   750mL    750   \n",
       "12257  44944     Sanford Santa Rita Pnt Nr  22.99   750mL    750   \n",
       "12258  45016  Neal One Lane Bridg Cab Svgn  93.99   750mL    750   \n",
       "12259  46011       Folonari Pnt Nr Venezie  12.99  1500ml   1500   \n",
       "12260  46964     Calera Viognier Mt Harlan  35.99   750mL    750   \n",
       "\n",
       "       Classification  PurchasePrice  VendorNumber  \\\n",
       "0                   1           9.28          8320   \n",
       "1                   1          28.67          1128   \n",
       "2                   1          30.46          1128   \n",
       "3                   1          26.11          9165   \n",
       "4                   1          10.94          7245   \n",
       "...               ...            ...           ...   \n",
       "12256               2          16.55         90024   \n",
       "12257               2          14.93          4425   \n",
       "12258               2          61.43         10754   \n",
       "12259               2           8.90          9744   \n",
       "12260               2          24.32         10754   \n",
       "\n",
       "                        VendorName  \n",
       "0      SHAW ROSS INT L IMP LTD      \n",
       "1      BROWN-FORMAN CORP            \n",
       "2      BROWN-FORMAN CORP            \n",
       "3      ULTRA BEVERAGE COMPANY LLP   \n",
       "4      PROXIMO SPIRITS INC.         \n",
       "...                            ...  \n",
       "12256  VINILANDIA USA               \n",
       "12257        MARTIGNETTI COMPANIES  \n",
       "12258  PERFECTA WINES               \n",
       "12259  FREDERICK WILDMAN & SONS     \n",
       "12260  PERFECTA WINES               \n",
       "\n",
       "[12261 rows x 9 columns]"
      ]
     },
     "execution_count": 48,
     "metadata": {},
     "output_type": "execute_result"
    }
   ],
   "source": [
    "df_PurchasePriceDesc"
   ]
  },
  {
   "cell_type": "code",
   "execution_count": 49,
   "metadata": {},
   "outputs": [
    {
     "data": {
      "text/plain": [
       "Brand               int64\n",
       "Description        object\n",
       "Price             float64\n",
       "Size               object\n",
       "Volume             object\n",
       "Classification      int64\n",
       "PurchasePrice     float64\n",
       "VendorNumber        int64\n",
       "VendorName         object\n",
       "dtype: object"
      ]
     },
     "execution_count": 49,
     "metadata": {},
     "output_type": "execute_result"
    }
   ],
   "source": [
    "df_PurchasePriceDesc.dtypes"
   ]
  },
  {
   "cell_type": "code",
   "execution_count": 51,
   "metadata": {},
   "outputs": [
    {
     "name": "stdout",
     "output_type": "stream",
     "text": [
      "Brand :INT\n",
      "Description :NVARCHAR(250)\n",
      "Price :FLOAT\n",
      "Size :NVARCHAR(250)\n",
      "Volume :NVARCHAR(250)\n",
      "Classification :INT\n",
      "PurchasePrice :FLOAT\n",
      "VendorNumber :INT\n",
      "VendorName :NVARCHAR(250)\n"
     ]
    }
   ],
   "source": [
    "for col in df_PurchasePriceDesc.columns:\n",
    "    sql_type = type_mapping[str(df_PurchasePriceDesc[col].dtype)]\n",
    "    print(f'{col} :{sql_type}')"
   ]
  },
  {
   "cell_type": "code",
   "execution_count": 138,
   "metadata": {},
   "outputs": [],
   "source": [
    "Brands = df_PurchasePriceDesc[['Brand', 'Description', 'Price', 'Size', 'Volume', 'Classification',\n",
    "       'PurchasePrice', 'VendorNumber']]"
   ]
  },
  {
   "cell_type": "code",
   "execution_count": 139,
   "metadata": {},
   "outputs": [
    {
     "data": {
      "text/html": [
       "<div>\n",
       "<style scoped>\n",
       "    .dataframe tbody tr th:only-of-type {\n",
       "        vertical-align: middle;\n",
       "    }\n",
       "\n",
       "    .dataframe tbody tr th {\n",
       "        vertical-align: top;\n",
       "    }\n",
       "\n",
       "    .dataframe thead th {\n",
       "        text-align: right;\n",
       "    }\n",
       "</style>\n",
       "<table border=\"1\" class=\"dataframe\">\n",
       "  <thead>\n",
       "    <tr style=\"text-align: right;\">\n",
       "      <th></th>\n",
       "      <th>Brand</th>\n",
       "      <th>Description</th>\n",
       "      <th>Price</th>\n",
       "      <th>Size</th>\n",
       "      <th>Volume</th>\n",
       "      <th>Classification</th>\n",
       "      <th>PurchasePrice</th>\n",
       "      <th>VendorNumber</th>\n",
       "    </tr>\n",
       "  </thead>\n",
       "  <tbody>\n",
       "    <tr>\n",
       "      <th>0</th>\n",
       "      <td>58</td>\n",
       "      <td>Gekkeikan Black &amp; Gold Sake</td>\n",
       "      <td>12.99</td>\n",
       "      <td>750mL</td>\n",
       "      <td>750</td>\n",
       "      <td>1</td>\n",
       "      <td>9.28</td>\n",
       "      <td>8320</td>\n",
       "    </tr>\n",
       "    <tr>\n",
       "      <th>1</th>\n",
       "      <td>62</td>\n",
       "      <td>Herradura Silver Tequila</td>\n",
       "      <td>36.99</td>\n",
       "      <td>750mL</td>\n",
       "      <td>750</td>\n",
       "      <td>1</td>\n",
       "      <td>28.67</td>\n",
       "      <td>1128</td>\n",
       "    </tr>\n",
       "    <tr>\n",
       "      <th>2</th>\n",
       "      <td>63</td>\n",
       "      <td>Herradura Reposado Tequila</td>\n",
       "      <td>38.99</td>\n",
       "      <td>750mL</td>\n",
       "      <td>750</td>\n",
       "      <td>1</td>\n",
       "      <td>30.46</td>\n",
       "      <td>1128</td>\n",
       "    </tr>\n",
       "    <tr>\n",
       "      <th>3</th>\n",
       "      <td>72</td>\n",
       "      <td>No. 3 London Dry Gin</td>\n",
       "      <td>34.99</td>\n",
       "      <td>750mL</td>\n",
       "      <td>750</td>\n",
       "      <td>1</td>\n",
       "      <td>26.11</td>\n",
       "      <td>9165</td>\n",
       "    </tr>\n",
       "    <tr>\n",
       "      <th>4</th>\n",
       "      <td>75</td>\n",
       "      <td>Three Olives Tomato Vodka</td>\n",
       "      <td>14.99</td>\n",
       "      <td>750mL</td>\n",
       "      <td>750</td>\n",
       "      <td>1</td>\n",
       "      <td>10.94</td>\n",
       "      <td>7245</td>\n",
       "    </tr>\n",
       "  </tbody>\n",
       "</table>\n",
       "</div>"
      ],
      "text/plain": [
       "   Brand                  Description  Price   Size Volume  Classification  \\\n",
       "0     58  Gekkeikan Black & Gold Sake  12.99  750mL    750               1   \n",
       "1     62     Herradura Silver Tequila  36.99  750mL    750               1   \n",
       "2     63   Herradura Reposado Tequila  38.99  750mL    750               1   \n",
       "3     72         No. 3 London Dry Gin  34.99  750mL    750               1   \n",
       "4     75    Three Olives Tomato Vodka  14.99  750mL    750               1   \n",
       "\n",
       "   PurchasePrice  VendorNumber  \n",
       "0           9.28          8320  \n",
       "1          28.67          1128  \n",
       "2          30.46          1128  \n",
       "3          26.11          9165  \n",
       "4          10.94          7245  "
      ]
     },
     "execution_count": 139,
     "metadata": {},
     "output_type": "execute_result"
    }
   ],
   "source": [
    "Brands.head(5)"
   ]
  },
  {
   "cell_type": "code",
   "execution_count": 140,
   "metadata": {},
   "outputs": [
    {
     "data": {
      "text/html": [
       "<div>\n",
       "<style scoped>\n",
       "    .dataframe tbody tr th:only-of-type {\n",
       "        vertical-align: middle;\n",
       "    }\n",
       "\n",
       "    .dataframe tbody tr th {\n",
       "        vertical-align: top;\n",
       "    }\n",
       "\n",
       "    .dataframe thead th {\n",
       "        text-align: right;\n",
       "    }\n",
       "</style>\n",
       "<table border=\"1\" class=\"dataframe\">\n",
       "  <thead>\n",
       "    <tr style=\"text-align: right;\">\n",
       "      <th></th>\n",
       "      <th>Brand</th>\n",
       "      <th>Description</th>\n",
       "      <th>Price</th>\n",
       "      <th>Size</th>\n",
       "      <th>Volume</th>\n",
       "      <th>Classification</th>\n",
       "      <th>PurchasePrice</th>\n",
       "      <th>VendorNumber</th>\n",
       "    </tr>\n",
       "  </thead>\n",
       "  <tbody>\n",
       "    <tr>\n",
       "      <th>7915</th>\n",
       "      <td>4202</td>\n",
       "      <td>NaN</td>\n",
       "      <td>0.0</td>\n",
       "      <td>NaN</td>\n",
       "      <td>NaN</td>\n",
       "      <td>1</td>\n",
       "      <td>11.19</td>\n",
       "      <td>480</td>\n",
       "    </tr>\n",
       "  </tbody>\n",
       "</table>\n",
       "</div>"
      ],
      "text/plain": [
       "      Brand Description  Price Size Volume  Classification  PurchasePrice  \\\n",
       "7915   4202         NaN    0.0  NaN    NaN               1          11.19   \n",
       "\n",
       "      VendorNumber  \n",
       "7915           480  "
      ]
     },
     "execution_count": 140,
     "metadata": {},
     "output_type": "execute_result"
    }
   ],
   "source": [
    "Brands[Brands.isnull().any(axis =1)]"
   ]
  },
  {
   "cell_type": "code",
   "execution_count": 141,
   "metadata": {},
   "outputs": [
    {
     "data": {
      "text/html": [
       "<div>\n",
       "<style scoped>\n",
       "    .dataframe tbody tr th:only-of-type {\n",
       "        vertical-align: middle;\n",
       "    }\n",
       "\n",
       "    .dataframe tbody tr th {\n",
       "        vertical-align: top;\n",
       "    }\n",
       "\n",
       "    .dataframe thead th {\n",
       "        text-align: right;\n",
       "    }\n",
       "</style>\n",
       "<table border=\"1\" class=\"dataframe\">\n",
       "  <thead>\n",
       "    <tr style=\"text-align: right;\">\n",
       "      <th></th>\n",
       "      <th>InventoryId</th>\n",
       "      <th>Store</th>\n",
       "      <th>Brand</th>\n",
       "      <th>Description</th>\n",
       "      <th>Size</th>\n",
       "      <th>SalesQuantity</th>\n",
       "      <th>SalesDollars</th>\n",
       "      <th>SalesPrice</th>\n",
       "      <th>SalesDate</th>\n",
       "      <th>Volume</th>\n",
       "      <th>Classification</th>\n",
       "      <th>ExciseTax</th>\n",
       "      <th>VendorNo</th>\n",
       "      <th>VendorName</th>\n",
       "    </tr>\n",
       "  </thead>\n",
       "  <tbody>\n",
       "  </tbody>\n",
       "</table>\n",
       "</div>"
      ],
      "text/plain": [
       "Empty DataFrame\n",
       "Columns: [InventoryId, Store, Brand, Description, Size, SalesQuantity, SalesDollars, SalesPrice, SalesDate, Volume, Classification, ExciseTax, VendorNo, VendorName]\n",
       "Index: []"
      ]
     },
     "execution_count": 141,
     "metadata": {},
     "output_type": "execute_result"
    }
   ],
   "source": [
    "df_SalesFINAL[df_SalesFINAL['Brand']== 4202]"
   ]
  },
  {
   "cell_type": "code",
   "execution_count": 104,
   "metadata": {},
   "outputs": [
    {
     "data": {
      "text/html": [
       "<div>\n",
       "<style scoped>\n",
       "    .dataframe tbody tr th:only-of-type {\n",
       "        vertical-align: middle;\n",
       "    }\n",
       "\n",
       "    .dataframe tbody tr th {\n",
       "        vertical-align: top;\n",
       "    }\n",
       "\n",
       "    .dataframe thead th {\n",
       "        text-align: right;\n",
       "    }\n",
       "</style>\n",
       "<table border=\"1\" class=\"dataframe\">\n",
       "  <thead>\n",
       "    <tr style=\"text-align: right;\">\n",
       "      <th></th>\n",
       "      <th>InventoryId</th>\n",
       "      <th>Store</th>\n",
       "      <th>Brand</th>\n",
       "      <th>Description</th>\n",
       "      <th>Size</th>\n",
       "      <th>VendorNumber</th>\n",
       "      <th>VendorName</th>\n",
       "      <th>PONumber</th>\n",
       "      <th>PODate</th>\n",
       "      <th>ReceivingDate</th>\n",
       "      <th>InvoiceDate</th>\n",
       "      <th>PayDate</th>\n",
       "      <th>PurchasePrice</th>\n",
       "      <th>Quantity</th>\n",
       "      <th>Dollars</th>\n",
       "      <th>Classification</th>\n",
       "    </tr>\n",
       "  </thead>\n",
       "  <tbody>\n",
       "  </tbody>\n",
       "</table>\n",
       "</div>"
      ],
      "text/plain": [
       "Empty DataFrame\n",
       "Columns: [InventoryId, Store, Brand, Description, Size, VendorNumber, VendorName, PONumber, PODate, ReceivingDate, InvoiceDate, PayDate, PurchasePrice, Quantity, Dollars, Classification]\n",
       "Index: []"
      ]
     },
     "execution_count": 104,
     "metadata": {},
     "output_type": "execute_result"
    }
   ],
   "source": [
    "df_PurchasesFINAL[df_PurchasesFINAL['Brand']== 4202]"
   ]
  },
  {
   "cell_type": "code",
   "execution_count": 142,
   "metadata": {},
   "outputs": [],
   "source": [
    "Brands = Brands[Brands['Brand'] != 4202]\n"
   ]
  },
  {
   "cell_type": "code",
   "execution_count": 152,
   "metadata": {},
   "outputs": [
    {
     "data": {
      "text/html": [
       "<div>\n",
       "<style scoped>\n",
       "    .dataframe tbody tr th:only-of-type {\n",
       "        vertical-align: middle;\n",
       "    }\n",
       "\n",
       "    .dataframe tbody tr th {\n",
       "        vertical-align: top;\n",
       "    }\n",
       "\n",
       "    .dataframe thead th {\n",
       "        text-align: right;\n",
       "    }\n",
       "</style>\n",
       "<table border=\"1\" class=\"dataframe\">\n",
       "  <thead>\n",
       "    <tr style=\"text-align: right;\">\n",
       "      <th></th>\n",
       "      <th>Brand</th>\n",
       "      <th>Description</th>\n",
       "      <th>Price</th>\n",
       "      <th>Size</th>\n",
       "      <th>Volume</th>\n",
       "      <th>Classification</th>\n",
       "      <th>PurchasePrice</th>\n",
       "      <th>VendorNumber</th>\n",
       "    </tr>\n",
       "  </thead>\n",
       "  <tbody>\n",
       "  </tbody>\n",
       "</table>\n",
       "</div>"
      ],
      "text/plain": [
       "Empty DataFrame\n",
       "Columns: [Brand, Description, Price, Size, Volume, Classification, PurchasePrice, VendorNumber]\n",
       "Index: []"
      ]
     },
     "execution_count": 152,
     "metadata": {},
     "output_type": "execute_result"
    }
   ],
   "source": [
    "Brands[Brands.isnull().any(axis =1)]"
   ]
  },
  {
   "cell_type": "code",
   "execution_count": 153,
   "metadata": {},
   "outputs": [
    {
     "data": {
      "text/plain": [
       "(12260, 8)"
      ]
     },
     "execution_count": 153,
     "metadata": {},
     "output_type": "execute_result"
    }
   ],
   "source": [
    "Brands.shape"
   ]
  },
  {
   "cell_type": "code",
   "execution_count": 120,
   "metadata": {},
   "outputs": [
    {
     "data": {
      "text/plain": [
       "Brand               int64\n",
       "Description        object\n",
       "Price             float64\n",
       "Size               object\n",
       "Volume             object\n",
       "Classification      int64\n",
       "PurchasePrice     float64\n",
       "VendorNumber        int64\n",
       "dtype: object"
      ]
     },
     "execution_count": 120,
     "metadata": {},
     "output_type": "execute_result"
    }
   ],
   "source": [
    "Brands.dtypes"
   ]
  },
  {
   "cell_type": "markdown",
   "metadata": {},
   "source": [
    "Hay 5 registros que figuran en Size y Volume como Unknown. Corregirlos con la descripción. NO fueron cargados en el SQL.\n",
    "2993\t\n",
    "9908\n",
    "8992\n",
    "90590"
   ]
  },
  {
   "cell_type": "code",
   "execution_count": 151,
   "metadata": {},
   "outputs": [
    {
     "data": {
      "text/html": [
       "<div>\n",
       "<style scoped>\n",
       "    .dataframe tbody tr th:only-of-type {\n",
       "        vertical-align: middle;\n",
       "    }\n",
       "\n",
       "    .dataframe tbody tr th {\n",
       "        vertical-align: top;\n",
       "    }\n",
       "\n",
       "    .dataframe thead th {\n",
       "        text-align: right;\n",
       "    }\n",
       "</style>\n",
       "<table border=\"1\" class=\"dataframe\">\n",
       "  <thead>\n",
       "    <tr style=\"text-align: right;\">\n",
       "      <th></th>\n",
       "      <th>Brand</th>\n",
       "      <th>Description</th>\n",
       "      <th>Price</th>\n",
       "      <th>Size</th>\n",
       "      <th>Volume</th>\n",
       "      <th>Classification</th>\n",
       "      <th>PurchasePrice</th>\n",
       "      <th>VendorNumber</th>\n",
       "    </tr>\n",
       "  </thead>\n",
       "  <tbody>\n",
       "    <tr>\n",
       "      <th>542</th>\n",
       "      <td>2993</td>\n",
       "      <td>Angostura Bitters</td>\n",
       "      <td>7.49</td>\n",
       "      <td>0</td>\n",
       "      <td>0</td>\n",
       "      <td>1</td>\n",
       "      <td>5.39</td>\n",
       "      <td>5895</td>\n",
       "    </tr>\n",
       "  </tbody>\n",
       "</table>\n",
       "</div>"
      ],
      "text/plain": [
       "     Brand        Description  Price Size Volume  Classification  \\\n",
       "542   2993  Angostura Bitters   7.49    0      0               1   \n",
       "\n",
       "     PurchasePrice  VendorNumber  \n",
       "542           5.39          5895  "
      ]
     },
     "execution_count": 151,
     "metadata": {},
     "output_type": "execute_result"
    }
   ],
   "source": [
    "Brands[Brands['Brand']== 2993]"
   ]
  },
  {
   "cell_type": "code",
   "execution_count": 149,
   "metadata": {},
   "outputs": [
    {
     "data": {
      "text/html": [
       "<div>\n",
       "<style scoped>\n",
       "    .dataframe tbody tr th:only-of-type {\n",
       "        vertical-align: middle;\n",
       "    }\n",
       "\n",
       "    .dataframe tbody tr th {\n",
       "        vertical-align: top;\n",
       "    }\n",
       "\n",
       "    .dataframe thead th {\n",
       "        text-align: right;\n",
       "    }\n",
       "</style>\n",
       "<table border=\"1\" class=\"dataframe\">\n",
       "  <thead>\n",
       "    <tr style=\"text-align: right;\">\n",
       "      <th></th>\n",
       "      <th>Brand</th>\n",
       "      <th>Description</th>\n",
       "      <th>Price</th>\n",
       "      <th>Size</th>\n",
       "      <th>Volume</th>\n",
       "      <th>Classification</th>\n",
       "      <th>PurchasePrice</th>\n",
       "      <th>VendorNumber</th>\n",
       "    </tr>\n",
       "  </thead>\n",
       "  <tbody>\n",
       "    <tr>\n",
       "      <th>542</th>\n",
       "      <td>2993</td>\n",
       "      <td>Angostura Bitters</td>\n",
       "      <td>7.49</td>\n",
       "      <td>Unknown</td>\n",
       "      <td>0</td>\n",
       "      <td>1</td>\n",
       "      <td>5.39</td>\n",
       "      <td>5895</td>\n",
       "    </tr>\n",
       "    <tr>\n",
       "      <th>5921</th>\n",
       "      <td>9908</td>\n",
       "      <td>Tito's Copper Mug 2 Pack</td>\n",
       "      <td>21.01</td>\n",
       "      <td>Unknown</td>\n",
       "      <td>0</td>\n",
       "      <td>1</td>\n",
       "      <td>16.15</td>\n",
       "      <td>4425</td>\n",
       "    </tr>\n",
       "    <tr>\n",
       "      <th>8795</th>\n",
       "      <td>8992</td>\n",
       "      <td>Group 92</td>\n",
       "      <td>1.99</td>\n",
       "      <td>Unknown</td>\n",
       "      <td>0</td>\n",
       "      <td>1</td>\n",
       "      <td>1.43</td>\n",
       "      <td>1703</td>\n",
       "    </tr>\n",
       "    <tr>\n",
       "      <th>10009</th>\n",
       "      <td>90590</td>\n",
       "      <td>Overture Champagne 2Glass Pk</td>\n",
       "      <td>19.95</td>\n",
       "      <td>Unknown</td>\n",
       "      <td>0</td>\n",
       "      <td>2</td>\n",
       "      <td>13.12</td>\n",
       "      <td>4425</td>\n",
       "    </tr>\n",
       "  </tbody>\n",
       "</table>\n",
       "</div>"
      ],
      "text/plain": [
       "       Brand                   Description  Price     Size Volume  \\\n",
       "542     2993             Angostura Bitters   7.49  Unknown      0   \n",
       "5921    9908      Tito's Copper Mug 2 Pack  21.01  Unknown      0   \n",
       "8795    8992                      Group 92   1.99  Unknown      0   \n",
       "10009  90590  Overture Champagne 2Glass Pk  19.95  Unknown      0   \n",
       "\n",
       "       Classification  PurchasePrice  VendorNumber  \n",
       "542                 1           5.39          5895  \n",
       "5921                1          16.15          4425  \n",
       "8795                1           1.43          1703  \n",
       "10009               2          13.12          4425  "
      ]
     },
     "execution_count": 149,
     "metadata": {},
     "output_type": "execute_result"
    }
   ],
   "source": [
    "Brands[Brands['Size']=='Unknown']"
   ]
  },
  {
   "cell_type": "code",
   "execution_count": 147,
   "metadata": {},
   "outputs": [],
   "source": [
    "Brands.loc[Brands['Volume']=='Unknown', 'Volume'] = 0"
   ]
  },
  {
   "cell_type": "code",
   "execution_count": 150,
   "metadata": {},
   "outputs": [],
   "source": [
    "Brands.loc[Brands['Size']=='Unknown', 'Size'] = 0"
   ]
  },
  {
   "cell_type": "code",
   "execution_count": 130,
   "metadata": {},
   "outputs": [
    {
     "data": {
      "text/html": [
       "<div>\n",
       "<style scoped>\n",
       "    .dataframe tbody tr th:only-of-type {\n",
       "        vertical-align: middle;\n",
       "    }\n",
       "\n",
       "    .dataframe tbody tr th {\n",
       "        vertical-align: top;\n",
       "    }\n",
       "\n",
       "    .dataframe thead th {\n",
       "        text-align: right;\n",
       "    }\n",
       "</style>\n",
       "<table border=\"1\" class=\"dataframe\">\n",
       "  <thead>\n",
       "    <tr style=\"text-align: right;\">\n",
       "      <th></th>\n",
       "      <th>Brand</th>\n",
       "      <th>Description</th>\n",
       "      <th>Price</th>\n",
       "      <th>Size</th>\n",
       "      <th>Volume</th>\n",
       "      <th>Classification</th>\n",
       "      <th>PurchasePrice</th>\n",
       "      <th>VendorNumber</th>\n",
       "    </tr>\n",
       "  </thead>\n",
       "  <tbody>\n",
       "    <tr>\n",
       "      <th>0</th>\n",
       "      <td>58</td>\n",
       "      <td>Gekkeikan Black &amp; Gold Sake</td>\n",
       "      <td>12.99</td>\n",
       "      <td>750mL</td>\n",
       "      <td>750</td>\n",
       "      <td>1</td>\n",
       "      <td>9.28</td>\n",
       "      <td>8320</td>\n",
       "    </tr>\n",
       "    <tr>\n",
       "      <th>1</th>\n",
       "      <td>62</td>\n",
       "      <td>Herradura Silver Tequila</td>\n",
       "      <td>36.99</td>\n",
       "      <td>750mL</td>\n",
       "      <td>750</td>\n",
       "      <td>1</td>\n",
       "      <td>28.67</td>\n",
       "      <td>1128</td>\n",
       "    </tr>\n",
       "    <tr>\n",
       "      <th>2</th>\n",
       "      <td>63</td>\n",
       "      <td>Herradura Reposado Tequila</td>\n",
       "      <td>38.99</td>\n",
       "      <td>750mL</td>\n",
       "      <td>750</td>\n",
       "      <td>1</td>\n",
       "      <td>30.46</td>\n",
       "      <td>1128</td>\n",
       "    </tr>\n",
       "    <tr>\n",
       "      <th>3</th>\n",
       "      <td>72</td>\n",
       "      <td>No. 3 London Dry Gin</td>\n",
       "      <td>34.99</td>\n",
       "      <td>750mL</td>\n",
       "      <td>750</td>\n",
       "      <td>1</td>\n",
       "      <td>26.11</td>\n",
       "      <td>9165</td>\n",
       "    </tr>\n",
       "    <tr>\n",
       "      <th>4</th>\n",
       "      <td>75</td>\n",
       "      <td>Three Olives Tomato Vodka</td>\n",
       "      <td>14.99</td>\n",
       "      <td>750mL</td>\n",
       "      <td>750</td>\n",
       "      <td>1</td>\n",
       "      <td>10.94</td>\n",
       "      <td>7245</td>\n",
       "    </tr>\n",
       "  </tbody>\n",
       "</table>\n",
       "</div>"
      ],
      "text/plain": [
       "   Brand                  Description  Price   Size Volume  Classification  \\\n",
       "0     58  Gekkeikan Black & Gold Sake  12.99  750mL    750               1   \n",
       "1     62     Herradura Silver Tequila  36.99  750mL    750               1   \n",
       "2     63   Herradura Reposado Tequila  38.99  750mL    750               1   \n",
       "3     72         No. 3 London Dry Gin  34.99  750mL    750               1   \n",
       "4     75    Three Olives Tomato Vodka  14.99  750mL    750               1   \n",
       "\n",
       "   PurchasePrice  VendorNumber  \n",
       "0           9.28          8320  \n",
       "1          28.67          1128  \n",
       "2          30.46          1128  \n",
       "3          26.11          9165  \n",
       "4          10.94          7245  "
      ]
     },
     "execution_count": 130,
     "metadata": {},
     "output_type": "execute_result"
    }
   ],
   "source": [
    "Brands.head(5)"
   ]
  },
  {
   "cell_type": "code",
   "execution_count": 155,
   "metadata": {},
   "outputs": [],
   "source": [
    "Brands.to_csv('Brands.csv', index=False)"
   ]
  },
  {
   "cell_type": "markdown",
   "metadata": {},
   "source": [
    "### Creacion Tabla de Inventario"
   ]
  },
  {
   "cell_type": "code",
   "execution_count": 176,
   "metadata": {},
   "outputs": [
    {
     "name": "stdout",
     "output_type": "stream",
     "text": [
      "InventoryId :NVARCHAR(250)\n",
      "Store :INT\n",
      "City :NVARCHAR(250)\n",
      "Brand :INT\n",
      "Description :NVARCHAR(250)\n",
      "Size :NVARCHAR(250)\n",
      "onHand :INT\n",
      "Price :FLOAT\n",
      "Date :NVARCHAR(250)\n"
     ]
    }
   ],
   "source": [
    "for col in df_BegInv.columns:\n",
    "    sql_type = type_mapping[str(df_BegInv[col].dtype)]\n",
    "    print(f'{col} :{sql_type}')"
   ]
  },
  {
   "cell_type": "code",
   "execution_count": 175,
   "metadata": {},
   "outputs": [
    {
     "data": {
      "text/html": [
       "<div>\n",
       "<style scoped>\n",
       "    .dataframe tbody tr th:only-of-type {\n",
       "        vertical-align: middle;\n",
       "    }\n",
       "\n",
       "    .dataframe tbody tr th {\n",
       "        vertical-align: top;\n",
       "    }\n",
       "\n",
       "    .dataframe thead th {\n",
       "        text-align: right;\n",
       "    }\n",
       "</style>\n",
       "<table border=\"1\" class=\"dataframe\">\n",
       "  <thead>\n",
       "    <tr style=\"text-align: right;\">\n",
       "      <th></th>\n",
       "      <th>InventoryId</th>\n",
       "      <th>Store</th>\n",
       "      <th>City</th>\n",
       "      <th>Brand</th>\n",
       "      <th>Description</th>\n",
       "      <th>Size</th>\n",
       "      <th>onHand</th>\n",
       "      <th>Price</th>\n",
       "      <th>Date</th>\n",
       "    </tr>\n",
       "  </thead>\n",
       "  <tbody>\n",
       "  </tbody>\n",
       "</table>\n",
       "</div>"
      ],
      "text/plain": [
       "Empty DataFrame\n",
       "Columns: [InventoryId, Store, City, Brand, Description, Size, onHand, Price, Date]\n",
       "Index: []"
      ]
     },
     "execution_count": 175,
     "metadata": {},
     "output_type": "execute_result"
    }
   ],
   "source": [
    "df_EndInv[df_EndInv.isnull().any(axis=1)]"
   ]
  },
  {
   "cell_type": "code",
   "execution_count": 174,
   "metadata": {},
   "outputs": [
    {
     "data": {
      "text/html": [
       "<div>\n",
       "<style scoped>\n",
       "    .dataframe tbody tr th:only-of-type {\n",
       "        vertical-align: middle;\n",
       "    }\n",
       "\n",
       "    .dataframe tbody tr th {\n",
       "        vertical-align: top;\n",
       "    }\n",
       "\n",
       "    .dataframe thead th {\n",
       "        text-align: right;\n",
       "    }\n",
       "</style>\n",
       "<table border=\"1\" class=\"dataframe\">\n",
       "  <thead>\n",
       "    <tr style=\"text-align: right;\">\n",
       "      <th></th>\n",
       "      <th>InventoryId</th>\n",
       "      <th>Store</th>\n",
       "      <th>City</th>\n",
       "      <th>Brand</th>\n",
       "      <th>Description</th>\n",
       "      <th>Size</th>\n",
       "      <th>onHand</th>\n",
       "      <th>Price</th>\n",
       "      <th>Date</th>\n",
       "    </tr>\n",
       "  </thead>\n",
       "  <tbody>\n",
       "  </tbody>\n",
       "</table>\n",
       "</div>"
      ],
      "text/plain": [
       "Empty DataFrame\n",
       "Columns: [InventoryId, Store, City, Brand, Description, Size, onHand, Price, Date]\n",
       "Index: []"
      ]
     },
     "execution_count": 174,
     "metadata": {},
     "output_type": "execute_result"
    }
   ],
   "source": [
    "df_BegInv[df_BegInv.isnull().any(axis=1)]"
   ]
  },
  {
   "cell_type": "code",
   "execution_count": 170,
   "metadata": {},
   "outputs": [
    {
     "data": {
      "text/html": [
       "<div>\n",
       "<style scoped>\n",
       "    .dataframe tbody tr th:only-of-type {\n",
       "        vertical-align: middle;\n",
       "    }\n",
       "\n",
       "    .dataframe tbody tr th {\n",
       "        vertical-align: top;\n",
       "    }\n",
       "\n",
       "    .dataframe thead th {\n",
       "        text-align: right;\n",
       "    }\n",
       "</style>\n",
       "<table border=\"1\" class=\"dataframe\">\n",
       "  <thead>\n",
       "    <tr style=\"text-align: right;\">\n",
       "      <th></th>\n",
       "      <th>InventoryId</th>\n",
       "      <th>Store</th>\n",
       "      <th>City</th>\n",
       "      <th>Brand</th>\n",
       "      <th>Description</th>\n",
       "      <th>Size</th>\n",
       "      <th>onHand</th>\n",
       "      <th>Price</th>\n",
       "      <th>Date</th>\n",
       "    </tr>\n",
       "  </thead>\n",
       "  <tbody>\n",
       "    <tr>\n",
       "      <th>113895</th>\n",
       "      <td>46__58</td>\n",
       "      <td>46</td>\n",
       "      <td>TYWARDREATH</td>\n",
       "      <td>58</td>\n",
       "      <td>Gekkeikan Black &amp; Gold Sake</td>\n",
       "      <td>750mL</td>\n",
       "      <td>0</td>\n",
       "      <td>12.99</td>\n",
       "      <td>2016-12-31</td>\n",
       "    </tr>\n",
       "    <tr>\n",
       "      <th>113896</th>\n",
       "      <td>46__62</td>\n",
       "      <td>46</td>\n",
       "      <td>TYWARDREATH</td>\n",
       "      <td>62</td>\n",
       "      <td>Herradura Silver Tequila</td>\n",
       "      <td>750mL</td>\n",
       "      <td>0</td>\n",
       "      <td>36.99</td>\n",
       "      <td>2016-12-31</td>\n",
       "    </tr>\n",
       "    <tr>\n",
       "      <th>113897</th>\n",
       "      <td>46__63</td>\n",
       "      <td>46</td>\n",
       "      <td>TYWARDREATH</td>\n",
       "      <td>63</td>\n",
       "      <td>Herradura Reposado Tequila</td>\n",
       "      <td>750mL</td>\n",
       "      <td>0</td>\n",
       "      <td>38.99</td>\n",
       "      <td>2016-12-31</td>\n",
       "    </tr>\n",
       "    <tr>\n",
       "      <th>113898</th>\n",
       "      <td>46__77</td>\n",
       "      <td>46</td>\n",
       "      <td>TYWARDREATH</td>\n",
       "      <td>77</td>\n",
       "      <td>Three Olives Espresso Vodka</td>\n",
       "      <td>750mL</td>\n",
       "      <td>0</td>\n",
       "      <td>14.99</td>\n",
       "      <td>2016-12-31</td>\n",
       "    </tr>\n",
       "    <tr>\n",
       "      <th>113899</th>\n",
       "      <td>46__106</td>\n",
       "      <td>46</td>\n",
       "      <td>TYWARDREATH</td>\n",
       "      <td>106</td>\n",
       "      <td>Mr Boston Peach Schnapps</td>\n",
       "      <td>Liter</td>\n",
       "      <td>0</td>\n",
       "      <td>4.49</td>\n",
       "      <td>2016-12-31</td>\n",
       "    </tr>\n",
       "    <tr>\n",
       "      <th>...</th>\n",
       "      <td>...</td>\n",
       "      <td>...</td>\n",
       "      <td>...</td>\n",
       "      <td>...</td>\n",
       "      <td>...</td>\n",
       "      <td>...</td>\n",
       "      <td>...</td>\n",
       "      <td>...</td>\n",
       "      <td>...</td>\n",
       "    </tr>\n",
       "    <tr>\n",
       "      <th>115174</th>\n",
       "      <td>46__46447</td>\n",
       "      <td>46</td>\n",
       "      <td>TYWARDREATH</td>\n",
       "      <td>46447</td>\n",
       "      <td>Gascon Malbec Mendoza</td>\n",
       "      <td>750mL</td>\n",
       "      <td>0</td>\n",
       "      <td>10.99</td>\n",
       "      <td>2016-12-31</td>\n",
       "    </tr>\n",
       "    <tr>\n",
       "      <th>115175</th>\n",
       "      <td>46__46458</td>\n",
       "      <td>46</td>\n",
       "      <td>TYWARDREATH</td>\n",
       "      <td>46458</td>\n",
       "      <td>Layer Cake Barosa Shiraz</td>\n",
       "      <td>750mL</td>\n",
       "      <td>0</td>\n",
       "      <td>15.99</td>\n",
       "      <td>2016-12-31</td>\n",
       "    </tr>\n",
       "    <tr>\n",
       "      <th>115176</th>\n",
       "      <td>46__46476</td>\n",
       "      <td>46</td>\n",
       "      <td>TYWARDREATH</td>\n",
       "      <td>46476</td>\n",
       "      <td>Tilia Malbec Mendoza</td>\n",
       "      <td>750mL</td>\n",
       "      <td>0</td>\n",
       "      <td>9.99</td>\n",
       "      <td>2016-12-31</td>\n",
       "    </tr>\n",
       "    <tr>\n",
       "      <th>115177</th>\n",
       "      <td>46__46764</td>\n",
       "      <td>46</td>\n",
       "      <td>TYWARDREATH</td>\n",
       "      <td>46764</td>\n",
       "      <td>Clayhouse Adobe Red Paso Rbl</td>\n",
       "      <td>750mL</td>\n",
       "      <td>0</td>\n",
       "      <td>11.99</td>\n",
       "      <td>2016-12-31</td>\n",
       "    </tr>\n",
       "    <tr>\n",
       "      <th>115178</th>\n",
       "      <td>46__46830</td>\n",
       "      <td>46</td>\n",
       "      <td>TYWARDREATH</td>\n",
       "      <td>46830</td>\n",
       "      <td>Pacific Rim Sweet Rsl</td>\n",
       "      <td>750mL</td>\n",
       "      <td>0</td>\n",
       "      <td>8.99</td>\n",
       "      <td>2016-12-31</td>\n",
       "    </tr>\n",
       "  </tbody>\n",
       "</table>\n",
       "<p>1284 rows × 9 columns</p>\n",
       "</div>"
      ],
      "text/plain": [
       "       InventoryId  Store         City  Brand                   Description  \\\n",
       "113895      46__58     46  TYWARDREATH     58   Gekkeikan Black & Gold Sake   \n",
       "113896      46__62     46  TYWARDREATH     62      Herradura Silver Tequila   \n",
       "113897      46__63     46  TYWARDREATH     63    Herradura Reposado Tequila   \n",
       "113898      46__77     46  TYWARDREATH     77   Three Olives Espresso Vodka   \n",
       "113899     46__106     46  TYWARDREATH    106      Mr Boston Peach Schnapps   \n",
       "...            ...    ...          ...    ...                           ...   \n",
       "115174   46__46447     46  TYWARDREATH  46447         Gascon Malbec Mendoza   \n",
       "115175   46__46458     46  TYWARDREATH  46458      Layer Cake Barosa Shiraz   \n",
       "115176   46__46476     46  TYWARDREATH  46476          Tilia Malbec Mendoza   \n",
       "115177   46__46764     46  TYWARDREATH  46764  Clayhouse Adobe Red Paso Rbl   \n",
       "115178   46__46830     46  TYWARDREATH  46830         Pacific Rim Sweet Rsl   \n",
       "\n",
       "         Size  onHand  Price        Date  \n",
       "113895  750mL       0  12.99  2016-12-31  \n",
       "113896  750mL       0  36.99  2016-12-31  \n",
       "113897  750mL       0  38.99  2016-12-31  \n",
       "113898  750mL       0  14.99  2016-12-31  \n",
       "113899  Liter       0   4.49  2016-12-31  \n",
       "...       ...     ...    ...         ...  \n",
       "115174  750mL       0  10.99  2016-12-31  \n",
       "115175  750mL       0  15.99  2016-12-31  \n",
       "115176  750mL       0   9.99  2016-12-31  \n",
       "115177  750mL       0  11.99  2016-12-31  \n",
       "115178  750mL       0   8.99  2016-12-31  \n",
       "\n",
       "[1284 rows x 9 columns]"
      ]
     },
     "execution_count": 170,
     "metadata": {},
     "output_type": "execute_result"
    }
   ],
   "source": [
    "df_EndInv.loc[df_EndInv['Store'] == 46]"
   ]
  },
  {
   "cell_type": "code",
   "execution_count": 162,
   "metadata": {},
   "outputs": [],
   "source": [
    "df_EndInv.loc[df_EndInv['Store'] == 46, 'City'] = 'TYWARDREATH'\n"
   ]
  },
  {
   "cell_type": "code",
   "execution_count": 165,
   "metadata": {},
   "outputs": [],
   "source": [
    "df_BegInv.loc[df_BegInv['Store'] == 46, 'City'] = 'TYWARDREATH'\n"
   ]
  },
  {
   "cell_type": "markdown",
   "metadata": {},
   "source": [
    "Cambio el nombre de la columnas de date para luego unir las bases"
   ]
  },
  {
   "cell_type": "code",
   "execution_count": 167,
   "metadata": {},
   "outputs": [],
   "source": [
    "df_EndInv = df_EndInv.rename(columns={'endDate': 'Date'})\n"
   ]
  },
  {
   "cell_type": "code",
   "execution_count": 173,
   "metadata": {},
   "outputs": [],
   "source": [
    "df_BegInv = df_BegInv.rename(columns={'startDate': 'Date'})\n"
   ]
  },
  {
   "cell_type": "markdown",
   "metadata": {},
   "source": [
    "Cambio el tipo de dato a datetime"
   ]
  },
  {
   "cell_type": "code",
   "execution_count": 177,
   "metadata": {},
   "outputs": [],
   "source": [
    "df_BegInv['Date'] = pd.to_datetime(df_BegInv['Date'], errors='coerce')\n"
   ]
  },
  {
   "cell_type": "code",
   "execution_count": 182,
   "metadata": {},
   "outputs": [],
   "source": [
    "df_EndInv['Date'] = pd.to_datetime(df_EndInv['Date'], errors='coerce')\n"
   ]
  },
  {
   "cell_type": "code",
   "execution_count": 181,
   "metadata": {},
   "outputs": [
    {
     "name": "stdout",
     "output_type": "stream",
     "text": [
      "datetime64[ns]\n"
     ]
    }
   ],
   "source": [
    "print(df_BegInv['Date'].dtype)"
   ]
  },
  {
   "cell_type": "markdown",
   "metadata": {},
   "source": [
    "voy a unir las tablas de Sales, Purchases e Inventories para tener todos los InventarioID, ya que hay iD en sales que no estan en una o la otra, y no se pueden crear las claves foragneas"
   ]
  },
  {
   "cell_type": "code",
   "execution_count": 298,
   "metadata": {},
   "outputs": [],
   "source": [
    "InventoriesIDs = df_EndInv['InventoryId']"
   ]
  },
  {
   "cell_type": "code",
   "execution_count": 299,
   "metadata": {},
   "outputs": [],
   "source": [
    "InventoriesIDs = pd.concat([InventoriesIDs,df_BegInv['InventoryId']],ignore_index= True)"
   ]
  },
  {
   "cell_type": "code",
   "execution_count": 302,
   "metadata": {},
   "outputs": [],
   "source": [
    "InventoriesIDs = pd.concat([InventoriesIDs,df_SalesFINAL['InventoryId']],ignore_index= True)"
   ]
  },
  {
   "cell_type": "code",
   "execution_count": 303,
   "metadata": {},
   "outputs": [],
   "source": [
    "InventoriesIDs = pd.concat([InventoriesIDs,df_PurchasesFINAL['InventoryId']],ignore_index= True)"
   ]
  },
  {
   "cell_type": "code",
   "execution_count": 304,
   "metadata": {},
   "outputs": [
    {
     "data": {
      "text/plain": [
       "0    1_HARDERSFIELD_58\n",
       "1    1_HARDERSFIELD_62\n",
       "2    1_HARDERSFIELD_63\n",
       "3    1_HARDERSFIELD_72\n",
       "4    1_HARDERSFIELD_75\n",
       "Name: InventoryId, dtype: object"
      ]
     },
     "execution_count": 304,
     "metadata": {},
     "output_type": "execute_result"
    }
   ],
   "source": [
    "InventoriesIDs.head(5)"
   ]
  },
  {
   "cell_type": "code",
   "execution_count": 305,
   "metadata": {},
   "outputs": [
    {
     "data": {
      "text/plain": [
       "0             1_HARDERSFIELD_58\n",
       "1             1_HARDERSFIELD_62\n",
       "2             1_HARDERSFIELD_63\n",
       "3             1_HARDERSFIELD_72\n",
       "4             1_HARDERSFIELD_75\n",
       "                   ...         \n",
       "3846941          3_HORNSEY_5962\n",
       "3848205      13_TARMSWORTH_2901\n",
       "3848844    47_PELLA'S WISH_5836\n",
       "3850555      55_DRY GULCH_11150\n",
       "3851483      55_DRY GULCH_13725\n",
       "Name: InventoryId, Length: 276389, dtype: object"
      ]
     },
     "execution_count": 305,
     "metadata": {},
     "output_type": "execute_result"
    }
   ],
   "source": [
    "InventoriesIDs.drop_duplicates()"
   ]
  },
  {
   "cell_type": "code",
   "execution_count": 306,
   "metadata": {},
   "outputs": [],
   "source": [
    "InventoriesInitial = df_BegInv[['InventoryId', 'Brand','onHand', 'Store', 'Date']]"
   ]
  },
  {
   "cell_type": "code",
   "execution_count": 307,
   "metadata": {},
   "outputs": [],
   "source": [
    "InventoriesFinal = df_EndInv[['InventoryId', 'Brand','onHand', 'Store', 'Date']]"
   ]
  },
  {
   "cell_type": "code",
   "execution_count": 308,
   "metadata": {},
   "outputs": [],
   "source": [
    "InventoriesTotal = pd.merge(InventoriesIDs,InventoriesInitial, how= 'left', on = 'InventoryId')"
   ]
  },
  {
   "cell_type": "code",
   "execution_count": 309,
   "metadata": {},
   "outputs": [
    {
     "data": {
      "text/html": [
       "<div>\n",
       "<style scoped>\n",
       "    .dataframe tbody tr th:only-of-type {\n",
       "        vertical-align: middle;\n",
       "    }\n",
       "\n",
       "    .dataframe tbody tr th {\n",
       "        vertical-align: top;\n",
       "    }\n",
       "\n",
       "    .dataframe thead th {\n",
       "        text-align: right;\n",
       "    }\n",
       "</style>\n",
       "<table border=\"1\" class=\"dataframe\">\n",
       "  <thead>\n",
       "    <tr style=\"text-align: right;\">\n",
       "      <th></th>\n",
       "      <th>InventoryId</th>\n",
       "      <th>Brand</th>\n",
       "      <th>onHand</th>\n",
       "      <th>Store</th>\n",
       "      <th>Date</th>\n",
       "    </tr>\n",
       "  </thead>\n",
       "  <tbody>\n",
       "    <tr>\n",
       "      <th>0</th>\n",
       "      <td>1_HARDERSFIELD_58</td>\n",
       "      <td>58.0</td>\n",
       "      <td>8.0</td>\n",
       "      <td>1.0</td>\n",
       "      <td>2016-01-01</td>\n",
       "    </tr>\n",
       "    <tr>\n",
       "      <th>1</th>\n",
       "      <td>1_HARDERSFIELD_62</td>\n",
       "      <td>62.0</td>\n",
       "      <td>6.0</td>\n",
       "      <td>1.0</td>\n",
       "      <td>2016-01-01</td>\n",
       "    </tr>\n",
       "    <tr>\n",
       "      <th>2</th>\n",
       "      <td>1_HARDERSFIELD_63</td>\n",
       "      <td>63.0</td>\n",
       "      <td>3.0</td>\n",
       "      <td>1.0</td>\n",
       "      <td>2016-01-01</td>\n",
       "    </tr>\n",
       "    <tr>\n",
       "      <th>3</th>\n",
       "      <td>1_HARDERSFIELD_72</td>\n",
       "      <td>72.0</td>\n",
       "      <td>6.0</td>\n",
       "      <td>1.0</td>\n",
       "      <td>2016-01-01</td>\n",
       "    </tr>\n",
       "    <tr>\n",
       "      <th>4</th>\n",
       "      <td>1_HARDERSFIELD_75</td>\n",
       "      <td>75.0</td>\n",
       "      <td>18.0</td>\n",
       "      <td>1.0</td>\n",
       "      <td>2016-01-01</td>\n",
       "    </tr>\n",
       "  </tbody>\n",
       "</table>\n",
       "</div>"
      ],
      "text/plain": [
       "         InventoryId  Brand  onHand  Store       Date\n",
       "0  1_HARDERSFIELD_58   58.0     8.0    1.0 2016-01-01\n",
       "1  1_HARDERSFIELD_62   62.0     6.0    1.0 2016-01-01\n",
       "2  1_HARDERSFIELD_63   63.0     3.0    1.0 2016-01-01\n",
       "3  1_HARDERSFIELD_72   72.0     6.0    1.0 2016-01-01\n",
       "4  1_HARDERSFIELD_75   75.0    18.0    1.0 2016-01-01"
      ]
     },
     "execution_count": 309,
     "metadata": {},
     "output_type": "execute_result"
    }
   ],
   "source": [
    "InventoriesTotal.head(5)"
   ]
  },
  {
   "cell_type": "code",
   "execution_count": 331,
   "metadata": {},
   "outputs": [],
   "source": [
    "InventoriesTotal = InventoriesTotal[['InventoryId','Brand','Store']]"
   ]
  },
  {
   "cell_type": "code",
   "execution_count": 311,
   "metadata": {},
   "outputs": [
    {
     "data": {
      "text/plain": [
       "(3852067, 3)"
      ]
     },
     "execution_count": 311,
     "metadata": {},
     "output_type": "execute_result"
    }
   ],
   "source": [
    "InventoriesTotal.shape"
   ]
  },
  {
   "cell_type": "code",
   "execution_count": 338,
   "metadata": {},
   "outputs": [
    {
     "data": {
      "text/plain": [
       "InventoryId    0\n",
       "Brand          0\n",
       "Store          0\n",
       "dtype: int64"
      ]
     },
     "execution_count": 338,
     "metadata": {},
     "output_type": "execute_result"
    }
   ],
   "source": [
    "InventoriesTotal.isnull().sum()"
   ]
  },
  {
   "cell_type": "code",
   "execution_count": 281,
   "metadata": {},
   "outputs": [
    {
     "data": {
      "text/plain": [
       "InventoryId    0\n",
       "Brand          0\n",
       "onHand         0\n",
       "Store          0\n",
       "Date           0\n",
       "dtype: int64"
      ]
     },
     "execution_count": 281,
     "metadata": {},
     "output_type": "execute_result"
    }
   ],
   "source": [
    "InventoriesInitial.isnull().sum()"
   ]
  },
  {
   "cell_type": "code",
   "execution_count": 282,
   "metadata": {},
   "outputs": [
    {
     "data": {
      "text/plain": [
       "InventoryId    0\n",
       "Brand          0\n",
       "onHand         0\n",
       "Store          0\n",
       "Date           0\n",
       "dtype: int64"
      ]
     },
     "execution_count": 282,
     "metadata": {},
     "output_type": "execute_result"
    }
   ],
   "source": [
    "InventoriesFinal.isnull().sum()"
   ]
  },
  {
   "cell_type": "code",
   "execution_count": 339,
   "metadata": {},
   "outputs": [
    {
     "name": "stdout",
     "output_type": "stream",
     "text": [
      "Empty DataFrame\n",
      "Columns: [InventoryId, Brand, Store]\n",
      "Index: []\n"
     ]
    }
   ],
   "source": [
    "Nulos = InventoriesTotal[InventoriesTotal.isnull().any(axis=1)]\n",
    "print(Nulos)"
   ]
  },
  {
   "cell_type": "markdown",
   "metadata": {},
   "source": [
    "quiero rellenar los nulos con los valores que encuentre en InventoriesFinal"
   ]
  },
  {
   "cell_type": "code",
   "execution_count": 314,
   "metadata": {},
   "outputs": [],
   "source": [
    "# Primero, establece 'InventoryID' como el índice en ambos DataFrames\n",
    "InventoriesTotal.set_index('InventoryId', inplace=True)\n",
    "InventoriesFinal.set_index('InventoryId', inplace=True)\n",
    "\n",
    "# Utiliza el método combine_first para rellenar los valores nulos\n",
    "InventoriesTotal = InventoriesTotal.combine_first(InventoriesFinal).reset_index()\n",
    "\n"
   ]
  },
  {
   "cell_type": "markdown",
   "metadata": {},
   "source": [
    "aun quedan nulos, ver de que tablas salieron que no estan ni en inventario Inicial, ni en Inevntario Final"
   ]
  },
  {
   "cell_type": "code",
   "execution_count": 315,
   "metadata": {},
   "outputs": [
    {
     "name": "stdout",
     "output_type": "stream",
     "text": [
      "                InventoryId  Brand_x  Store_x  Store_y  Brand_y  \\\n",
      "0        1_HARDERSFIELD_159      NaN      NaN      NaN      NaN   \n",
      "1        1_HARDERSFIELD_200      NaN      NaN      1.0    200.0   \n",
      "2        1_HARDERSFIELD_200      NaN      NaN      1.0    200.0   \n",
      "3        1_HARDERSFIELD_271      NaN      NaN      NaN      NaN   \n",
      "4        1_HARDERSFIELD_288      NaN      NaN      NaN      NaN   \n",
      "...                     ...      ...      ...      ...      ...   \n",
      "390601  62_KILMARNOCK_24303      NaN      NaN      NaN      NaN   \n",
      "390602    41_LARNWICK_18010      NaN      NaN      NaN      NaN   \n",
      "390603  62_KILMARNOCK_24953      NaN      NaN      NaN      NaN   \n",
      "390604    81_PEMBROKE_19557      NaN      NaN      NaN      NaN   \n",
      "390605   50_MOUNTMEND_25126      NaN      NaN      NaN      NaN   \n",
      "\n",
      "                       Description   Size  SalesQuantity  SalesDollars  \\\n",
      "0                              NaN    NaN            NaN           NaN   \n",
      "1       Luxardo Maraschino Liqueur  750mL            1.0         29.99   \n",
      "2       Luxardo Maraschino Liqueur  750mL            1.0         29.99   \n",
      "3                              NaN    NaN            NaN           NaN   \n",
      "4                              NaN    NaN            NaN           NaN   \n",
      "...                            ...    ...            ...           ...   \n",
      "390601                         NaN    NaN            NaN           NaN   \n",
      "390602                         NaN    NaN            NaN           NaN   \n",
      "390603                         NaN    NaN            NaN           NaN   \n",
      "390604                         NaN    NaN            NaN           NaN   \n",
      "390605                         NaN    NaN            NaN           NaN   \n",
      "\n",
      "        SalesPrice  SalesDate  Volume  Classification  ExciseTax  VendorNo  \\\n",
      "0              NaN        NaN     NaN             NaN        NaN       NaN   \n",
      "1            29.99  1/13/2016   750.0             1.0       0.79    9165.0   \n",
      "2            29.99  2/23/2016   750.0             1.0       0.79    9165.0   \n",
      "3              NaN        NaN     NaN             NaN        NaN       NaN   \n",
      "4              NaN        NaN     NaN             NaN        NaN       NaN   \n",
      "...            ...        ...     ...             ...        ...       ...   \n",
      "390601         NaN        NaN     NaN             NaN        NaN       NaN   \n",
      "390602         NaN        NaN     NaN             NaN        NaN       NaN   \n",
      "390603         NaN        NaN     NaN             NaN        NaN       NaN   \n",
      "390604         NaN        NaN     NaN             NaN        NaN       NaN   \n",
      "390605         NaN        NaN     NaN             NaN        NaN       NaN   \n",
      "\n",
      "                         VendorName  \n",
      "0                               NaN  \n",
      "1       ULTRA BEVERAGE COMPANY LLP   \n",
      "2       ULTRA BEVERAGE COMPANY LLP   \n",
      "3                               NaN  \n",
      "4                               NaN  \n",
      "...                             ...  \n",
      "390601                          NaN  \n",
      "390602                          NaN  \n",
      "390603                          NaN  \n",
      "390604                          NaN  \n",
      "390605                          NaN  \n",
      "\n",
      "[390606 rows x 16 columns]\n"
     ]
    }
   ],
   "source": [
    "Nulos = pd.merge(Nulos,df_SalesFINAL,on='InventoryId', how= 'left')\n",
    "print(Nulos)"
   ]
  },
  {
   "cell_type": "code",
   "execution_count": 325,
   "metadata": {},
   "outputs": [],
   "source": [
    "InventoriesTotal.set_index('InventoryId', inplace=True)\n"
   ]
  },
  {
   "cell_type": "code",
   "execution_count": 326,
   "metadata": {},
   "outputs": [],
   "source": [
    "Sales_inv = df_SalesFINAL[['Brand','InventoryId','Store']].drop_duplicates()\n"
   ]
  },
  {
   "cell_type": "code",
   "execution_count": 327,
   "metadata": {},
   "outputs": [],
   "source": [
    "Sales_inv.set_index('InventoryId', inplace=True)\n"
   ]
  },
  {
   "cell_type": "code",
   "execution_count": 328,
   "metadata": {},
   "outputs": [],
   "source": [
    "\n",
    "# Utiliza el método combine_first para rellenar los valores nulos\n",
    "InventoriesTotal = InventoriesTotal.combine_first(Sales_inv)\n"
   ]
  },
  {
   "cell_type": "code",
   "execution_count": 330,
   "metadata": {},
   "outputs": [],
   "source": [
    "InventoriesTotal.reset_index(inplace=True)\n",
    "Sales_inv.reset_index(inplace=True)\n"
   ]
  },
  {
   "cell_type": "markdown",
   "metadata": {},
   "source": [
    "Hacer lo mismo con purchases. deberian desaparecer lso nulos"
   ]
  },
  {
   "cell_type": "code",
   "execution_count": 333,
   "metadata": {},
   "outputs": [],
   "source": [
    "InventoriesTotal.set_index('InventoryId', inplace=True)\n"
   ]
  },
  {
   "cell_type": "code",
   "execution_count": 334,
   "metadata": {},
   "outputs": [],
   "source": [
    "Purchases_inv = df_PurchasesFINAL[['Brand','InventoryId','Store']].drop_duplicates()\n"
   ]
  },
  {
   "cell_type": "code",
   "execution_count": 335,
   "metadata": {},
   "outputs": [],
   "source": [
    "Purchases_inv.set_index('InventoryId', inplace=True)\n"
   ]
  },
  {
   "cell_type": "code",
   "execution_count": 336,
   "metadata": {},
   "outputs": [],
   "source": [
    "InventoriesTotal = InventoriesTotal.combine_first(Purchases_inv)\n"
   ]
  },
  {
   "cell_type": "code",
   "execution_count": 337,
   "metadata": {},
   "outputs": [],
   "source": [
    "InventoriesTotal.reset_index(inplace=True)\n",
    "Purchases_inv.reset_index(inplace=True)\n"
   ]
  },
  {
   "cell_type": "code",
   "execution_count": 343,
   "metadata": {},
   "outputs": [
    {
     "data": {
      "text/plain": [
       "InventoryId     object\n",
       "Brand          float64\n",
       "Store          float64\n",
       "dtype: object"
      ]
     },
     "execution_count": 343,
     "metadata": {},
     "output_type": "execute_result"
    }
   ],
   "source": [
    "InventoriesTotal.dtypes"
   ]
  },
  {
   "cell_type": "code",
   "execution_count": 354,
   "metadata": {},
   "outputs": [
    {
     "data": {
      "text/plain": [
       "276389"
      ]
     },
     "execution_count": 354,
     "metadata": {},
     "output_type": "execute_result"
    }
   ],
   "source": [
    "InventoriesTotal.shape[0]"
   ]
  },
  {
   "cell_type": "code",
   "execution_count": 355,
   "metadata": {},
   "outputs": [
    {
     "data": {
      "text/plain": [
       "InventoryId    276389\n",
       "Brand           11503\n",
       "Store              80\n",
       "dtype: int64"
      ]
     },
     "execution_count": 355,
     "metadata": {},
     "output_type": "execute_result"
    }
   ],
   "source": [
    "InventoriesTotal.nunique()"
   ]
  },
  {
   "cell_type": "code",
   "execution_count": 350,
   "metadata": {},
   "outputs": [
    {
     "data": {
      "text/html": [
       "<div>\n",
       "<style scoped>\n",
       "    .dataframe tbody tr th:only-of-type {\n",
       "        vertical-align: middle;\n",
       "    }\n",
       "\n",
       "    .dataframe tbody tr th {\n",
       "        vertical-align: top;\n",
       "    }\n",
       "\n",
       "    .dataframe thead th {\n",
       "        text-align: right;\n",
       "    }\n",
       "</style>\n",
       "<table border=\"1\" class=\"dataframe\">\n",
       "  <thead>\n",
       "    <tr style=\"text-align: right;\">\n",
       "      <th></th>\n",
       "      <th>InventoryId</th>\n",
       "      <th>Brand</th>\n",
       "      <th>Store</th>\n",
       "    </tr>\n",
       "  </thead>\n",
       "  <tbody>\n",
       "    <tr>\n",
       "      <th>1</th>\n",
       "      <td>10_HORNSEY_1000</td>\n",
       "      <td>1000.0</td>\n",
       "      <td>10.0</td>\n",
       "    </tr>\n",
       "    <tr>\n",
       "      <th>3</th>\n",
       "      <td>10_HORNSEY_1001</td>\n",
       "      <td>1001.0</td>\n",
       "      <td>10.0</td>\n",
       "    </tr>\n",
       "    <tr>\n",
       "      <th>4</th>\n",
       "      <td>10_HORNSEY_1001</td>\n",
       "      <td>1001.0</td>\n",
       "      <td>10.0</td>\n",
       "    </tr>\n",
       "    <tr>\n",
       "      <th>5</th>\n",
       "      <td>10_HORNSEY_1001</td>\n",
       "      <td>1001.0</td>\n",
       "      <td>10.0</td>\n",
       "    </tr>\n",
       "    <tr>\n",
       "      <th>6</th>\n",
       "      <td>10_HORNSEY_1001</td>\n",
       "      <td>1001.0</td>\n",
       "      <td>10.0</td>\n",
       "    </tr>\n",
       "    <tr>\n",
       "      <th>...</th>\n",
       "      <td>...</td>\n",
       "      <td>...</td>\n",
       "      <td>...</td>\n",
       "    </tr>\n",
       "    <tr>\n",
       "      <th>3852061</th>\n",
       "      <td>9_BLACKPOOL_984</td>\n",
       "      <td>984.0</td>\n",
       "      <td>9.0</td>\n",
       "    </tr>\n",
       "    <tr>\n",
       "      <th>3852062</th>\n",
       "      <td>9_BLACKPOOL_984</td>\n",
       "      <td>984.0</td>\n",
       "      <td>9.0</td>\n",
       "    </tr>\n",
       "    <tr>\n",
       "      <th>3852063</th>\n",
       "      <td>9_BLACKPOOL_984</td>\n",
       "      <td>984.0</td>\n",
       "      <td>9.0</td>\n",
       "    </tr>\n",
       "    <tr>\n",
       "      <th>3852064</th>\n",
       "      <td>9_BLACKPOOL_984</td>\n",
       "      <td>984.0</td>\n",
       "      <td>9.0</td>\n",
       "    </tr>\n",
       "    <tr>\n",
       "      <th>3852066</th>\n",
       "      <td>9_BLACKPOOL_999</td>\n",
       "      <td>999.0</td>\n",
       "      <td>9.0</td>\n",
       "    </tr>\n",
       "  </tbody>\n",
       "</table>\n",
       "<p>3575678 rows × 3 columns</p>\n",
       "</div>"
      ],
      "text/plain": [
       "             InventoryId   Brand  Store\n",
       "1        10_HORNSEY_1000  1000.0   10.0\n",
       "3        10_HORNSEY_1001  1001.0   10.0\n",
       "4        10_HORNSEY_1001  1001.0   10.0\n",
       "5        10_HORNSEY_1001  1001.0   10.0\n",
       "6        10_HORNSEY_1001  1001.0   10.0\n",
       "...                  ...     ...    ...\n",
       "3852061  9_BLACKPOOL_984   984.0    9.0\n",
       "3852062  9_BLACKPOOL_984   984.0    9.0\n",
       "3852063  9_BLACKPOOL_984   984.0    9.0\n",
       "3852064  9_BLACKPOOL_984   984.0    9.0\n",
       "3852066  9_BLACKPOOL_999   999.0    9.0\n",
       "\n",
       "[3575678 rows x 3 columns]"
      ]
     },
     "execution_count": 350,
     "metadata": {},
     "output_type": "execute_result"
    }
   ],
   "source": [
    "InventoriesTotal[InventoriesTotal.duplicated()]"
   ]
  },
  {
   "cell_type": "code",
   "execution_count": 353,
   "metadata": {},
   "outputs": [],
   "source": [
    "InventoriesTotal = InventoriesTotal.drop_duplicates()"
   ]
  },
  {
   "cell_type": "code",
   "execution_count": 348,
   "metadata": {},
   "outputs": [
    {
     "name": "stdout",
     "output_type": "stream",
     "text": [
      "                InventoryId   Brand  Store\n",
      "484352  1_HARDERSFIELD_1001  1001.0    1.0\n",
      "484353  1_HARDERSFIELD_1001  1001.0    1.0\n",
      "484354  1_HARDERSFIELD_1001  1001.0    1.0\n",
      "484355  1_HARDERSFIELD_1001  1001.0    1.0\n"
     ]
    }
   ],
   "source": [
    "repe =InventoriesTotal[InventoriesTotal['InventoryId']=='1_HARDERSFIELD_1001']\n",
    "print (repe)\n",
    "\n"
   ]
  },
  {
   "cell_type": "markdown",
   "metadata": {},
   "source": [
    "Llevar archivos a .csv"
   ]
  },
  {
   "cell_type": "code",
   "execution_count": 345,
   "metadata": {},
   "outputs": [],
   "source": [
    "InventoriesTotal.to_csv('InventoriesTotal.csv', index = False)"
   ]
  },
  {
   "cell_type": "code",
   "execution_count": null,
   "metadata": {},
   "outputs": [],
   "source": [
    "InventoriesInitial.to_csv('InventoriesInitial.csv', index= False)"
   ]
  },
  {
   "cell_type": "code",
   "execution_count": 200,
   "metadata": {},
   "outputs": [],
   "source": [
    "InventoriesFinal.to_csv('InventoriesFinal.csv', index= False)"
   ]
  },
  {
   "cell_type": "code",
   "execution_count": 183,
   "metadata": {},
   "outputs": [],
   "source": [
    "Inventories = pd.concat([df_EndInv, df_BegInv], ignore_index=True)\n"
   ]
  },
  {
   "cell_type": "code",
   "execution_count": 185,
   "metadata": {},
   "outputs": [
    {
     "name": "stdout",
     "output_type": "stream",
     "text": [
      "(206529, 9)\n"
     ]
    }
   ],
   "source": [
    "print(df_BegInv.shape)"
   ]
  },
  {
   "cell_type": "code",
   "execution_count": 187,
   "metadata": {},
   "outputs": [
    {
     "name": "stdout",
     "output_type": "stream",
     "text": [
      "(224489, 9)\n"
     ]
    }
   ],
   "source": [
    "print(df_EndInv.shape)"
   ]
  },
  {
   "cell_type": "code",
   "execution_count": 184,
   "metadata": {},
   "outputs": [
    {
     "name": "stdout",
     "output_type": "stream",
     "text": [
      "(431018, 9)\n"
     ]
    }
   ],
   "source": [
    "print(Inventories.shape)"
   ]
  },
  {
   "cell_type": "code",
   "execution_count": 189,
   "metadata": {},
   "outputs": [
    {
     "data": {
      "text/plain": [
       "Index(['InventoryId', 'Store', 'City', 'Brand', 'Description', 'Size',\n",
       "       'onHand', 'Price', 'Date'],\n",
       "      dtype='object')"
      ]
     },
     "execution_count": 189,
     "metadata": {},
     "output_type": "execute_result"
    }
   ],
   "source": [
    "Inventories.columns"
   ]
  },
  {
   "cell_type": "code",
   "execution_count": 191,
   "metadata": {},
   "outputs": [],
   "source": [
    "Inventories = Inventories[['InventoryId', 'Brand','onHand', 'Store', 'Date']]"
   ]
  },
  {
   "cell_type": "code",
   "execution_count": 192,
   "metadata": {},
   "outputs": [],
   "source": [
    "Inventories.to_csv('Inventories.csv', index= False)"
   ]
  },
  {
   "cell_type": "code",
   "execution_count": 193,
   "metadata": {},
   "outputs": [
    {
     "name": "stdout",
     "output_type": "stream",
     "text": [
      "Empty DataFrame\n",
      "Columns: [InventoryId, Brand, onHand, Store, Date]\n",
      "Index: []\n"
     ]
    },
    {
     "data": {
      "text/plain": [
       "(0, 5)"
      ]
     },
     "execution_count": 193,
     "metadata": {},
     "output_type": "execute_result"
    }
   ],
   "source": [
    "duplicadosInv = Inventories[Inventories.duplicated()]\n",
    "print(duplicadosInv)\n",
    "duplicadosInv.shape"
   ]
  },
  {
   "cell_type": "code",
   "execution_count": 194,
   "metadata": {},
   "outputs": [
    {
     "name": "stdout",
     "output_type": "stream",
     "text": [
      "                InventoryId  Brand  onHand  Store       Date\n",
      "113     1_HARDERSFIELD_1001   1001       0      1 2016-12-31\n",
      "224605  1_HARDERSFIELD_1001   1001       0      1 2016-01-01\n"
     ]
    }
   ],
   "source": [
    "print(Inventories[Inventories['InventoryId']== '1_HARDERSFIELD_1001'])"
   ]
  },
  {
   "cell_type": "markdown",
   "metadata": {},
   "source": [
    "### Creacion Tabla PurchaseInvoices"
   ]
  },
  {
   "cell_type": "code",
   "execution_count": 9,
   "metadata": {},
   "outputs": [],
   "source": [
    "type_mapping = {\n",
    "    'int64': 'INT',\n",
    "    'float64': 'FLOAT',\n",
    "    'object': 'NVARCHAR(250)',\n",
    "    'datetime64[ns]': 'DATETIME',\n",
    "    'bool': 'BIT'\n",
    "}\n"
   ]
  },
  {
   "cell_type": "code",
   "execution_count": 12,
   "metadata": {},
   "outputs": [
    {
     "name": "stdout",
     "output_type": "stream",
     "text": [
      "VendorNumber:INT\n",
      "VendorName:NVARCHAR(250)\n",
      "InvoiceDate:NVARCHAR(250)\n",
      "PONumber:INT\n",
      "PODate:NVARCHAR(250)\n",
      "PayDate:NVARCHAR(250)\n",
      "Quantity:INT\n",
      "Dollars:FLOAT\n",
      "Freight:FLOAT\n",
      "Approval:NVARCHAR(250)\n"
     ]
    }
   ],
   "source": [
    "for col in df_InvoicePurchases.columns:\n",
    "    sql_type = type_mapping[str(df_InvoicePurchases[col].dtype)]\n",
    "    print(f'{col}:{sql_type}')"
   ]
  },
  {
   "cell_type": "markdown",
   "metadata": {},
   "source": [
    "transformar las 'dates' a formato DATETIME"
   ]
  },
  {
   "cell_type": "code",
   "execution_count": 202,
   "metadata": {},
   "outputs": [],
   "source": [
    "\n",
    "df_InvoicePurchases['InvoiceDate'] = pd.to_datetime(df_InvoicePurchases['InvoiceDate'], errors='coerce')\n",
    "df_InvoicePurchases['PODate'] = pd.to_datetime(df_InvoicePurchases['PODate'])\n",
    "df_InvoicePurchases['PayDate'] = pd.to_datetime(df_InvoicePurchases['PayDate'])"
   ]
  },
  {
   "cell_type": "code",
   "execution_count": 203,
   "metadata": {},
   "outputs": [
    {
     "data": {
      "text/plain": [
       "Index(['VendorNumber', 'VendorName', 'InvoiceDate', 'PONumber', 'PODate',\n",
       "       'PayDate', 'Quantity', 'Dollars', 'Freight', 'Approval'],\n",
       "      dtype='object')"
      ]
     },
     "execution_count": 203,
     "metadata": {},
     "output_type": "execute_result"
    }
   ],
   "source": [
    "df_InvoicePurchases.columns"
   ]
  },
  {
   "cell_type": "code",
   "execution_count": 204,
   "metadata": {},
   "outputs": [],
   "source": [
    "df_InvoicePurchases = df_InvoicePurchases[['VendorNumber', 'InvoiceDate', 'PONumber', 'PODate',\n",
    "       'PayDate', 'Quantity', 'Dollars', 'Freight', 'Approval']]"
   ]
  },
  {
   "cell_type": "code",
   "execution_count": 205,
   "metadata": {},
   "outputs": [],
   "source": [
    "df_InvoicePurchases.to_csv('InvoicePurchases.csv', index= False)"
   ]
  },
  {
   "cell_type": "markdown",
   "metadata": {},
   "source": [
    "### Creacion Tabla InvoicePurchasesDetails"
   ]
  },
  {
   "cell_type": "code",
   "execution_count": 13,
   "metadata": {},
   "outputs": [],
   "source": [
    "archivotemp5 =  r\"C:\\Data Anaytics\\Proyectos\\Inventario\\Base de datos\\PurchasesFINAL12312016.csv\"\n",
    "\n",
    "df_PurchasesFINAL= pd.read_csv(archivotemp5)"
   ]
  },
  {
   "cell_type": "code",
   "execution_count": 14,
   "metadata": {},
   "outputs": [
    {
     "name": "stdout",
     "output_type": "stream",
     "text": [
      "InventoryId:NVARCHAR(250)\n",
      "Store:INT\n",
      "Brand:INT\n",
      "Description:NVARCHAR(250)\n",
      "Size:NVARCHAR(250)\n",
      "VendorNumber:INT\n",
      "VendorName:NVARCHAR(250)\n",
      "PONumber:INT\n",
      "PODate:NVARCHAR(250)\n",
      "ReceivingDate:NVARCHAR(250)\n",
      "InvoiceDate:NVARCHAR(250)\n",
      "PayDate:NVARCHAR(250)\n",
      "PurchasePrice:FLOAT\n",
      "Quantity:INT\n",
      "Dollars:FLOAT\n",
      "Classification:INT\n"
     ]
    }
   ],
   "source": [
    "for col in df_PurchasesFINAL.columns:\n",
    "    sql_type = type_mapping[str(df_PurchasesFINAL[col].dtype)]\n",
    "    print(f'{col}:{sql_type}')"
   ]
  },
  {
   "cell_type": "code",
   "execution_count": 206,
   "metadata": {},
   "outputs": [
    {
     "data": {
      "text/plain": [
       "Index(['InventoryId', 'Store', 'Brand', 'Description', 'Size', 'VendorNumber',\n",
       "       'VendorName', 'PONumber', 'PODate', 'ReceivingDate', 'InvoiceDate',\n",
       "       'PayDate', 'PurchasePrice', 'Quantity', 'Dollars', 'Classification'],\n",
       "      dtype='object')"
      ]
     },
     "execution_count": 206,
     "metadata": {},
     "output_type": "execute_result"
    }
   ],
   "source": [
    "df_PurchasesFINAL.columns"
   ]
  },
  {
   "cell_type": "code",
   "execution_count": 207,
   "metadata": {},
   "outputs": [],
   "source": [
    "InvoicePurchasesDetails = df_PurchasesFINAL[['Brand', 'Dollars', 'InventoryId','PONumber','PurchasePrice','Quantity','ReceivingDate','Store','VendorNumber']]"
   ]
  },
  {
   "cell_type": "code",
   "execution_count": 209,
   "metadata": {},
   "outputs": [
    {
     "name": "stderr",
     "output_type": "stream",
     "text": [
      "C:\\Users\\PC\\AppData\\Local\\Temp\\ipykernel_26776\\3751078844.py:1: SettingWithCopyWarning: \n",
      "A value is trying to be set on a copy of a slice from a DataFrame.\n",
      "Try using .loc[row_indexer,col_indexer] = value instead\n",
      "\n",
      "See the caveats in the documentation: https://pandas.pydata.org/pandas-docs/stable/user_guide/indexing.html#returning-a-view-versus-a-copy\n",
      "  InvoicePurchasesDetails['ReceivingDate'] = pd.to_datetime(InvoicePurchasesDetails['ReceivingDate'])\n"
     ]
    }
   ],
   "source": [
    "InvoicePurchasesDetails['ReceivingDate'] = pd.to_datetime(InvoicePurchasesDetails['ReceivingDate'])"
   ]
  },
  {
   "cell_type": "code",
   "execution_count": 210,
   "metadata": {},
   "outputs": [
    {
     "data": {
      "text/html": [
       "<div>\n",
       "<style scoped>\n",
       "    .dataframe tbody tr th:only-of-type {\n",
       "        vertical-align: middle;\n",
       "    }\n",
       "\n",
       "    .dataframe tbody tr th {\n",
       "        vertical-align: top;\n",
       "    }\n",
       "\n",
       "    .dataframe thead th {\n",
       "        text-align: right;\n",
       "    }\n",
       "</style>\n",
       "<table border=\"1\" class=\"dataframe\">\n",
       "  <thead>\n",
       "    <tr style=\"text-align: right;\">\n",
       "      <th></th>\n",
       "      <th>Brand</th>\n",
       "      <th>Dollars</th>\n",
       "      <th>InventoryId</th>\n",
       "      <th>PONumber</th>\n",
       "      <th>PurchasePrice</th>\n",
       "      <th>Quantity</th>\n",
       "      <th>ReceivingDate</th>\n",
       "      <th>Store</th>\n",
       "      <th>VendorNumber</th>\n",
       "    </tr>\n",
       "  </thead>\n",
       "  <tbody>\n",
       "    <tr>\n",
       "      <th>0</th>\n",
       "      <td>8412</td>\n",
       "      <td>214.26</td>\n",
       "      <td>69_MOUNTMEND_8412</td>\n",
       "      <td>8124</td>\n",
       "      <td>35.71</td>\n",
       "      <td>6</td>\n",
       "      <td>2016-01-02</td>\n",
       "      <td>69</td>\n",
       "      <td>105</td>\n",
       "    </tr>\n",
       "    <tr>\n",
       "      <th>1</th>\n",
       "      <td>5255</td>\n",
       "      <td>37.40</td>\n",
       "      <td>30_CULCHETH_5255</td>\n",
       "      <td>8137</td>\n",
       "      <td>9.35</td>\n",
       "      <td>4</td>\n",
       "      <td>2016-01-01</td>\n",
       "      <td>30</td>\n",
       "      <td>4466</td>\n",
       "    </tr>\n",
       "  </tbody>\n",
       "</table>\n",
       "</div>"
      ],
      "text/plain": [
       "   Brand  Dollars        InventoryId  PONumber  PurchasePrice  Quantity  \\\n",
       "0   8412   214.26  69_MOUNTMEND_8412      8124          35.71         6   \n",
       "1   5255    37.40   30_CULCHETH_5255      8137           9.35         4   \n",
       "\n",
       "  ReceivingDate  Store  VendorNumber  \n",
       "0    2016-01-02     69           105  \n",
       "1    2016-01-01     30          4466  "
      ]
     },
     "execution_count": 210,
     "metadata": {},
     "output_type": "execute_result"
    }
   ],
   "source": [
    "InvoicePurchasesDetails.head(2)"
   ]
  },
  {
   "cell_type": "code",
   "execution_count": 211,
   "metadata": {},
   "outputs": [],
   "source": [
    "InvoicePurchasesDetails.to_csv('InvoicePurchasesDetails.csv', index= False)"
   ]
  },
  {
   "cell_type": "markdown",
   "metadata": {},
   "source": [
    "### Creacion Tabla Sales"
   ]
  },
  {
   "cell_type": "code",
   "execution_count": 23,
   "metadata": {},
   "outputs": [
    {
     "name": "stdout",
     "output_type": "stream",
     "text": [
      "InventoryId:NVARCHAR(250)\n",
      "Store:INT\n",
      "Brand:INT\n",
      "Description:NVARCHAR(250)\n",
      "Size:NVARCHAR(250)\n",
      "SalesQuantity:INT\n",
      "SalesDollars:FLOAT\n",
      "SalesPrice:FLOAT\n",
      "SalesDate:NVARCHAR(250)\n",
      "Volume:INT\n",
      "Classification:INT\n",
      "ExciseTax:FLOAT\n",
      "VendorNo:INT\n",
      "VendorName:NVARCHAR(250)\n"
     ]
    }
   ],
   "source": [
    "for col in df_SalesFINAL.columns:\n",
    "    sql_type = type_mapping[str(df_SalesFINAL[col].dtype)]\n",
    "    print(f'{col}:{sql_type}')"
   ]
  },
  {
   "cell_type": "code",
   "execution_count": 217,
   "metadata": {},
   "outputs": [],
   "source": [
    "Sales = df_SalesFINAL[['Brand','ExciseTax', 'InventoryId','SalesDate','SalesDollars','SalesPrice','SalesQuantity','Store','VendorNo','Volume']]"
   ]
  },
  {
   "cell_type": "code",
   "execution_count": 219,
   "metadata": {},
   "outputs": [],
   "source": [
    "Sales= Sales.rename(columns={'VendorNo' : 'VendorNumber'})\n"
   ]
  },
  {
   "cell_type": "code",
   "execution_count": 220,
   "metadata": {},
   "outputs": [],
   "source": [
    "Sales['SalesDate']= pd.to_datetime(Sales['SalesDate'],errors = 'coerce')"
   ]
  },
  {
   "cell_type": "code",
   "execution_count": 221,
   "metadata": {},
   "outputs": [],
   "source": [
    "Sales.to_csv('Sales.csv', index=False)"
   ]
  },
  {
   "cell_type": "markdown",
   "metadata": {},
   "source": [
    "### Creación Tabla Stores"
   ]
  },
  {
   "cell_type": "markdown",
   "metadata": {},
   "source": [
    "Union de todas las tablas que tiene el campo STore para asegurar que no me olvido ninguno y luego elimino duplicados"
   ]
  },
  {
   "cell_type": "code",
   "execution_count": 51,
   "metadata": {},
   "outputs": [],
   "source": [
    "Sales_stores = df_SalesFINAL[['Store']].drop_duplicates()\n",
    "Purchases_stores = df_PurchasesFINAL[['Store']].drop_duplicates()\n",
    "InventaryBeg_stores = df_BegInv[['Store']].drop_duplicates()\n",
    "InventaryEnd_stores = df_EndInv[['Store']].drop_duplicates()"
   ]
  },
  {
   "cell_type": "code",
   "execution_count": 52,
   "metadata": {},
   "outputs": [],
   "source": [
    "df_merge_stores = pd.merge(Sales_stores,Purchases_stores,on= 'Store',how = 'outer').drop_duplicates()\n",
    "df_merge_stores = pd.merge(df_merge_stores,InventaryBeg_stores,on= 'Store',how = 'outer').drop_duplicates()\n",
    "df_merge_stores = pd.merge(df_merge_stores,InventaryEnd_stores,on= 'Store',how = 'outer').drop_duplicates()"
   ]
  },
  {
   "cell_type": "code",
   "execution_count": 86,
   "metadata": {},
   "outputs": [],
   "source": [
    "Stores = pd.merge(df_merge_stores,df_EndInv,on = 'Store', how = 'left')\n"
   ]
  },
  {
   "cell_type": "code",
   "execution_count": 87,
   "metadata": {},
   "outputs": [],
   "source": [
    "Stores = Stores[['Store','City']].drop_duplicates()"
   ]
  },
  {
   "cell_type": "code",
   "execution_count": 88,
   "metadata": {},
   "outputs": [
    {
     "name": "stdout",
     "output_type": "stream",
     "text": [
      "      Store          City\n",
      "0         1  HARDERSFIELD\n",
      "3192      2      ASHBORNE\n",
      "5911      3       HORNSEY\n",
      "6374      4    EANVERNESS\n",
      "9225      5        SUTTON\n"
     ]
    }
   ],
   "source": [
    "print(Stores.head(5))"
   ]
  },
  {
   "cell_type": "code",
   "execution_count": 89,
   "metadata": {},
   "outputs": [
    {
     "name": "stdout",
     "output_type": "stream",
     "text": [
      "Store    80\n",
      "dtype: int64\n"
     ]
    }
   ],
   "source": [
    "print(df_merge_stores.count())"
   ]
  },
  {
   "cell_type": "code",
   "execution_count": 90,
   "metadata": {},
   "outputs": [
    {
     "name": "stdout",
     "output_type": "stream",
     "text": [
      "(80, 2)\n",
      "        Store          City\n",
      "0           1  HARDERSFIELD\n",
      "3192        2      ASHBORNE\n",
      "5911        3       HORNSEY\n",
      "6374        4    EANVERNESS\n",
      "9225        5        SUTTON\n",
      "...       ...           ...\n",
      "207602     76     DONCASTER\n",
      "212722     77      TAMWORTH\n",
      "215234     78     EASTHAVEN\n",
      "216996     79     BALLYMENA\n",
      "220900     81      PEMBROKE\n",
      "\n",
      "[80 rows x 2 columns]\n"
     ]
    }
   ],
   "source": [
    "print(Stores.shape)\n",
    "print(Stores)"
   ]
  },
  {
   "cell_type": "code",
   "execution_count": 93,
   "metadata": {},
   "outputs": [
    {
     "name": "stdout",
     "output_type": "stream",
     "text": [
      "Empty DataFrame\n",
      "Columns: [Store, City]\n",
      "Index: []\n"
     ]
    }
   ],
   "source": [
    "nulos = Stores[Stores.isnull().any(axis=1)]\n",
    "print(nulos)\n"
   ]
  },
  {
   "cell_type": "code",
   "execution_count": 79,
   "metadata": {},
   "outputs": [
    {
     "name": "stdout",
     "output_type": "stream",
     "text": [
      "Store:INT\n",
      "City:NVARCHAR(250)\n"
     ]
    }
   ],
   "source": [
    "for col in Stores.columns:\n",
    "    sql_type = type_mapping[str(Stores[col].dtype)]\n",
    "    print(f'{col}:{sql_type}')"
   ]
  },
  {
   "cell_type": "code",
   "execution_count": 81,
   "metadata": {},
   "outputs": [
    {
     "data": {
      "text/plain": [
       "113895    NaN\n",
       "113896    NaN\n",
       "113897    NaN\n",
       "113898    NaN\n",
       "113899    NaN\n",
       "         ... \n",
       "115174    NaN\n",
       "115175    NaN\n",
       "115176    NaN\n",
       "115177    NaN\n",
       "115178    NaN\n",
       "Name: City, Length: 1284, dtype: object"
      ]
     },
     "execution_count": 81,
     "metadata": {},
     "output_type": "execute_result"
    }
   ],
   "source": [
    "df_EndInv[df_EndInv['Store']==46]['City']"
   ]
  },
  {
   "cell_type": "code",
   "execution_count": 69,
   "metadata": {},
   "outputs": [
    {
     "data": {
      "text/html": [
       "<div>\n",
       "<style scoped>\n",
       "    .dataframe tbody tr th:only-of-type {\n",
       "        vertical-align: middle;\n",
       "    }\n",
       "\n",
       "    .dataframe tbody tr th {\n",
       "        vertical-align: top;\n",
       "    }\n",
       "\n",
       "    .dataframe thead th {\n",
       "        text-align: right;\n",
       "    }\n",
       "</style>\n",
       "<table border=\"1\" class=\"dataframe\">\n",
       "  <thead>\n",
       "    <tr style=\"text-align: right;\">\n",
       "      <th></th>\n",
       "      <th>InventoryId</th>\n",
       "      <th>Store</th>\n",
       "      <th>Brand</th>\n",
       "      <th>Description</th>\n",
       "      <th>Size</th>\n",
       "      <th>VendorNumber</th>\n",
       "      <th>VendorName</th>\n",
       "      <th>PONumber</th>\n",
       "      <th>PODate</th>\n",
       "      <th>ReceivingDate</th>\n",
       "      <th>InvoiceDate</th>\n",
       "      <th>PayDate</th>\n",
       "      <th>PurchasePrice</th>\n",
       "      <th>Quantity</th>\n",
       "      <th>Dollars</th>\n",
       "      <th>Classification</th>\n",
       "    </tr>\n",
       "  </thead>\n",
       "  <tbody>\n",
       "    <tr>\n",
       "      <th>1925</th>\n",
       "      <td>46_TYWARDREATH_8517</td>\n",
       "      <td>46</td>\n",
       "      <td>8517</td>\n",
       "      <td>Baileys Salted Caramel</td>\n",
       "      <td>750mL</td>\n",
       "      <td>3960</td>\n",
       "      <td>DIAGEO NORTH AMERICA INC</td>\n",
       "      <td>8173</td>\n",
       "      <td>2015-12-24</td>\n",
       "      <td>2016-01-03</td>\n",
       "      <td>2016-01-10</td>\n",
       "      <td>2016-02-19</td>\n",
       "      <td>13.86</td>\n",
       "      <td>1</td>\n",
       "      <td>13.86</td>\n",
       "      <td>1</td>\n",
       "    </tr>\n",
       "    <tr>\n",
       "      <th>9091</th>\n",
       "      <td>46_TYWARDREATH_4222</td>\n",
       "      <td>46</td>\n",
       "      <td>4222</td>\n",
       "      <td>Bacardi Gold Rum</td>\n",
       "      <td>750mL</td>\n",
       "      <td>480</td>\n",
       "      <td>BACARDI USA INC</td>\n",
       "      <td>8288</td>\n",
       "      <td>2016-01-01</td>\n",
       "      <td>2016-01-06</td>\n",
       "      <td>2016-01-19</td>\n",
       "      <td>2016-02-18</td>\n",
       "      <td>7.99</td>\n",
       "      <td>12</td>\n",
       "      <td>95.88</td>\n",
       "      <td>1</td>\n",
       "    </tr>\n",
       "    <tr>\n",
       "      <th>9093</th>\n",
       "      <td>46_TYWARDREATH_4233</td>\n",
       "      <td>46</td>\n",
       "      <td>4233</td>\n",
       "      <td>Castillo Silver Label Rum</td>\n",
       "      <td>1.75L</td>\n",
       "      <td>480</td>\n",
       "      <td>BACARDI USA INC</td>\n",
       "      <td>8288</td>\n",
       "      <td>2016-01-01</td>\n",
       "      <td>2016-01-06</td>\n",
       "      <td>2016-01-19</td>\n",
       "      <td>2016-02-18</td>\n",
       "      <td>7.87</td>\n",
       "      <td>30</td>\n",
       "      <td>236.10</td>\n",
       "      <td>1</td>\n",
       "    </tr>\n",
       "    <tr>\n",
       "      <th>9110</th>\n",
       "      <td>46_TYWARDREATH_903</td>\n",
       "      <td>46</td>\n",
       "      <td>903</td>\n",
       "      <td>Bombay Sapphire Gin</td>\n",
       "      <td>Liter</td>\n",
       "      <td>480</td>\n",
       "      <td>BACARDI USA INC</td>\n",
       "      <td>8288</td>\n",
       "      <td>2016-01-01</td>\n",
       "      <td>2016-01-06</td>\n",
       "      <td>2016-01-19</td>\n",
       "      <td>2016-02-18</td>\n",
       "      <td>18.79</td>\n",
       "      <td>3</td>\n",
       "      <td>56.37</td>\n",
       "      <td>1</td>\n",
       "    </tr>\n",
       "    <tr>\n",
       "      <th>9159</th>\n",
       "      <td>46_TYWARDREATH_508</td>\n",
       "      <td>46</td>\n",
       "      <td>508</td>\n",
       "      <td>Bacardi Superior Rum</td>\n",
       "      <td>Liter</td>\n",
       "      <td>480</td>\n",
       "      <td>BACARDI USA INC</td>\n",
       "      <td>8288</td>\n",
       "      <td>2016-01-01</td>\n",
       "      <td>2016-01-06</td>\n",
       "      <td>2016-01-19</td>\n",
       "      <td>2016-02-18</td>\n",
       "      <td>9.77</td>\n",
       "      <td>12</td>\n",
       "      <td>117.24</td>\n",
       "      <td>1</td>\n",
       "    </tr>\n",
       "    <tr>\n",
       "      <th>...</th>\n",
       "      <td>...</td>\n",
       "      <td>...</td>\n",
       "      <td>...</td>\n",
       "      <td>...</td>\n",
       "      <td>...</td>\n",
       "      <td>...</td>\n",
       "      <td>...</td>\n",
       "      <td>...</td>\n",
       "      <td>...</td>\n",
       "      <td>...</td>\n",
       "      <td>...</td>\n",
       "      <td>...</td>\n",
       "      <td>...</td>\n",
       "      <td>...</td>\n",
       "      <td>...</td>\n",
       "      <td>...</td>\n",
       "    </tr>\n",
       "    <tr>\n",
       "      <th>1286572</th>\n",
       "      <td>46__8323</td>\n",
       "      <td>46</td>\n",
       "      <td>8323</td>\n",
       "      <td>Jose Cuervo Gold w/Marg Mix</td>\n",
       "      <td>750mL</td>\n",
       "      <td>7245</td>\n",
       "      <td>PROXIMO SPIRITS INC.</td>\n",
       "      <td>11291</td>\n",
       "      <td>2016-07-20</td>\n",
       "      <td>2016-07-27</td>\n",
       "      <td>2016-08-07</td>\n",
       "      <td>2016-09-08</td>\n",
       "      <td>11.90</td>\n",
       "      <td>12</td>\n",
       "      <td>142.80</td>\n",
       "      <td>1</td>\n",
       "    </tr>\n",
       "    <tr>\n",
       "      <th>1287115</th>\n",
       "      <td>46__8166</td>\n",
       "      <td>46</td>\n",
       "      <td>8166</td>\n",
       "      <td>Mount Gay Eclipse</td>\n",
       "      <td>750mL</td>\n",
       "      <td>7239</td>\n",
       "      <td>REMY COINTREAU USA INC</td>\n",
       "      <td>11253</td>\n",
       "      <td>2016-07-18</td>\n",
       "      <td>2016-07-27</td>\n",
       "      <td>2016-08-08</td>\n",
       "      <td>2016-09-10</td>\n",
       "      <td>15.14</td>\n",
       "      <td>12</td>\n",
       "      <td>181.68</td>\n",
       "      <td>1</td>\n",
       "    </tr>\n",
       "    <tr>\n",
       "      <th>1290936</th>\n",
       "      <td>46__5445</td>\n",
       "      <td>46</td>\n",
       "      <td>5445</td>\n",
       "      <td>Jagermeister Liqueur</td>\n",
       "      <td>750mL</td>\n",
       "      <td>3089</td>\n",
       "      <td>SIDNEY FRANK IMPORTING CO</td>\n",
       "      <td>11306</td>\n",
       "      <td>2016-07-21</td>\n",
       "      <td>2016-07-27</td>\n",
       "      <td>2016-08-01</td>\n",
       "      <td>2016-09-09</td>\n",
       "      <td>11.76</td>\n",
       "      <td>14</td>\n",
       "      <td>164.64</td>\n",
       "      <td>1</td>\n",
       "    </tr>\n",
       "    <tr>\n",
       "      <th>1292763</th>\n",
       "      <td>46__3938</td>\n",
       "      <td>46</td>\n",
       "      <td>3938</td>\n",
       "      <td>Stolichnaya</td>\n",
       "      <td>750mL</td>\n",
       "      <td>8664</td>\n",
       "      <td>STOLI GROUP,(USA) LLC</td>\n",
       "      <td>11254</td>\n",
       "      <td>2016-07-18</td>\n",
       "      <td>2016-07-27</td>\n",
       "      <td>2016-08-09</td>\n",
       "      <td>2016-09-01</td>\n",
       "      <td>12.49</td>\n",
       "      <td>24</td>\n",
       "      <td>299.76</td>\n",
       "      <td>1</td>\n",
       "    </tr>\n",
       "    <tr>\n",
       "      <th>1294343</th>\n",
       "      <td>46__31202</td>\n",
       "      <td>46</td>\n",
       "      <td>31202</td>\n",
       "      <td>Beringer Fndrs Est Chard</td>\n",
       "      <td>750mL</td>\n",
       "      <td>9819</td>\n",
       "      <td>TREASURY WINE ESTATES</td>\n",
       "      <td>11295</td>\n",
       "      <td>2016-07-20</td>\n",
       "      <td>2016-07-27</td>\n",
       "      <td>2016-08-02</td>\n",
       "      <td>2016-09-08</td>\n",
       "      <td>6.07</td>\n",
       "      <td>14</td>\n",
       "      <td>84.98</td>\n",
       "      <td>2</td>\n",
       "    </tr>\n",
       "  </tbody>\n",
       "</table>\n",
       "<p>5777 rows × 16 columns</p>\n",
       "</div>"
      ],
      "text/plain": [
       "                 InventoryId  Store  Brand                  Description  \\\n",
       "1925     46_TYWARDREATH_8517     46   8517       Baileys Salted Caramel   \n",
       "9091     46_TYWARDREATH_4222     46   4222             Bacardi Gold Rum   \n",
       "9093     46_TYWARDREATH_4233     46   4233    Castillo Silver Label Rum   \n",
       "9110      46_TYWARDREATH_903     46    903          Bombay Sapphire Gin   \n",
       "9159      46_TYWARDREATH_508     46    508         Bacardi Superior Rum   \n",
       "...                      ...    ...    ...                          ...   \n",
       "1286572             46__8323     46   8323  Jose Cuervo Gold w/Marg Mix   \n",
       "1287115             46__8166     46   8166            Mount Gay Eclipse   \n",
       "1290936             46__5445     46   5445         Jagermeister Liqueur   \n",
       "1292763             46__3938     46   3938                  Stolichnaya   \n",
       "1294343            46__31202     46  31202     Beringer Fndrs Est Chard   \n",
       "\n",
       "          Size  VendorNumber                   VendorName  PONumber  \\\n",
       "1925     750mL          3960  DIAGEO NORTH AMERICA INC         8173   \n",
       "9091     750mL           480  BACARDI USA INC                  8288   \n",
       "9093     1.75L           480  BACARDI USA INC                  8288   \n",
       "9110     Liter           480  BACARDI USA INC                  8288   \n",
       "9159     Liter           480  BACARDI USA INC                  8288   \n",
       "...        ...           ...                          ...       ...   \n",
       "1286572  750mL          7245  PROXIMO SPIRITS INC.            11291   \n",
       "1287115  750mL          7239  REMY COINTREAU USA INC          11253   \n",
       "1290936  750mL          3089  SIDNEY FRANK IMPORTING CO       11306   \n",
       "1292763  750mL          8664  STOLI GROUP,(USA) LLC           11254   \n",
       "1294343  750mL          9819  TREASURY WINE ESTATES           11295   \n",
       "\n",
       "             PODate ReceivingDate InvoiceDate     PayDate  PurchasePrice  \\\n",
       "1925     2015-12-24    2016-01-03  2016-01-10  2016-02-19          13.86   \n",
       "9091     2016-01-01    2016-01-06  2016-01-19  2016-02-18           7.99   \n",
       "9093     2016-01-01    2016-01-06  2016-01-19  2016-02-18           7.87   \n",
       "9110     2016-01-01    2016-01-06  2016-01-19  2016-02-18          18.79   \n",
       "9159     2016-01-01    2016-01-06  2016-01-19  2016-02-18           9.77   \n",
       "...             ...           ...         ...         ...            ...   \n",
       "1286572  2016-07-20    2016-07-27  2016-08-07  2016-09-08          11.90   \n",
       "1287115  2016-07-18    2016-07-27  2016-08-08  2016-09-10          15.14   \n",
       "1290936  2016-07-21    2016-07-27  2016-08-01  2016-09-09          11.76   \n",
       "1292763  2016-07-18    2016-07-27  2016-08-09  2016-09-01          12.49   \n",
       "1294343  2016-07-20    2016-07-27  2016-08-02  2016-09-08           6.07   \n",
       "\n",
       "         Quantity  Dollars  Classification  \n",
       "1925            1    13.86               1  \n",
       "9091           12    95.88               1  \n",
       "9093           30   236.10               1  \n",
       "9110            3    56.37               1  \n",
       "9159           12   117.24               1  \n",
       "...           ...      ...             ...  \n",
       "1286572        12   142.80               1  \n",
       "1287115        12   181.68               1  \n",
       "1290936        14   164.64               1  \n",
       "1292763        24   299.76               1  \n",
       "1294343        14    84.98               2  \n",
       "\n",
       "[5777 rows x 16 columns]"
      ]
     },
     "execution_count": 69,
     "metadata": {},
     "output_type": "execute_result"
    }
   ],
   "source": [
    "df_PurchasesFINAL[df_PurchasesFINAL['Store']==46]"
   ]
  },
  {
   "cell_type": "code",
   "execution_count": 68,
   "metadata": {},
   "outputs": [
    {
     "data": {
      "text/html": [
       "<div>\n",
       "<style scoped>\n",
       "    .dataframe tbody tr th:only-of-type {\n",
       "        vertical-align: middle;\n",
       "    }\n",
       "\n",
       "    .dataframe tbody tr th {\n",
       "        vertical-align: top;\n",
       "    }\n",
       "\n",
       "    .dataframe thead th {\n",
       "        text-align: right;\n",
       "    }\n",
       "</style>\n",
       "<table border=\"1\" class=\"dataframe\">\n",
       "  <thead>\n",
       "    <tr style=\"text-align: right;\">\n",
       "      <th></th>\n",
       "      <th>InventoryId</th>\n",
       "      <th>Store</th>\n",
       "      <th>Brand</th>\n",
       "      <th>Description</th>\n",
       "      <th>Size</th>\n",
       "      <th>SalesQuantity</th>\n",
       "      <th>SalesDollars</th>\n",
       "      <th>SalesPrice</th>\n",
       "      <th>SalesDate</th>\n",
       "      <th>Volume</th>\n",
       "      <th>Classification</th>\n",
       "      <th>ExciseTax</th>\n",
       "      <th>VendorNo</th>\n",
       "      <th>VendorName</th>\n",
       "    </tr>\n",
       "  </thead>\n",
       "  <tbody>\n",
       "    <tr>\n",
       "      <th>411078</th>\n",
       "      <td>46_TYWARDREATH_10058</td>\n",
       "      <td>46</td>\n",
       "      <td>10058</td>\n",
       "      <td>F Coppola Dmd Ivry Cab Svgn</td>\n",
       "      <td>750mL</td>\n",
       "      <td>1</td>\n",
       "      <td>14.99</td>\n",
       "      <td>14.99</td>\n",
       "      <td>1/16/2016</td>\n",
       "      <td>750</td>\n",
       "      <td>2</td>\n",
       "      <td>0.11</td>\n",
       "      <td>2000</td>\n",
       "      <td>SOUTHERN WINE &amp; SPIRITS NE</td>\n",
       "    </tr>\n",
       "    <tr>\n",
       "      <th>411079</th>\n",
       "      <td>46_TYWARDREATH_10058</td>\n",
       "      <td>46</td>\n",
       "      <td>10058</td>\n",
       "      <td>F Coppola Dmd Ivry Cab Svgn</td>\n",
       "      <td>750mL</td>\n",
       "      <td>1</td>\n",
       "      <td>14.99</td>\n",
       "      <td>14.99</td>\n",
       "      <td>1/31/2016</td>\n",
       "      <td>750</td>\n",
       "      <td>2</td>\n",
       "      <td>0.11</td>\n",
       "      <td>2000</td>\n",
       "      <td>SOUTHERN WINE &amp; SPIRITS NE</td>\n",
       "    </tr>\n",
       "    <tr>\n",
       "      <th>411080</th>\n",
       "      <td>46_TYWARDREATH_10227</td>\n",
       "      <td>46</td>\n",
       "      <td>10227</td>\n",
       "      <td>Due Torri Pnt Nr del Venezie</td>\n",
       "      <td>750mL</td>\n",
       "      <td>3</td>\n",
       "      <td>29.97</td>\n",
       "      <td>9.99</td>\n",
       "      <td>1/12/2016</td>\n",
       "      <td>750</td>\n",
       "      <td>2</td>\n",
       "      <td>0.34</td>\n",
       "      <td>9165</td>\n",
       "      <td>ULTRA BEVERAGE COMPANY LLP</td>\n",
       "    </tr>\n",
       "    <tr>\n",
       "      <th>411081</th>\n",
       "      <td>46_TYWARDREATH_10227</td>\n",
       "      <td>46</td>\n",
       "      <td>10227</td>\n",
       "      <td>Due Torri Pnt Nr del Venezie</td>\n",
       "      <td>750mL</td>\n",
       "      <td>2</td>\n",
       "      <td>19.98</td>\n",
       "      <td>9.99</td>\n",
       "      <td>1/23/2016</td>\n",
       "      <td>750</td>\n",
       "      <td>2</td>\n",
       "      <td>0.22</td>\n",
       "      <td>9165</td>\n",
       "      <td>ULTRA BEVERAGE COMPANY LLP</td>\n",
       "    </tr>\n",
       "    <tr>\n",
       "      <th>411082</th>\n",
       "      <td>46_TYWARDREATH_1023</td>\n",
       "      <td>46</td>\n",
       "      <td>1023</td>\n",
       "      <td>Hennessy VSOP Cognac + 50mL</td>\n",
       "      <td>750mL</td>\n",
       "      <td>1</td>\n",
       "      <td>51.99</td>\n",
       "      <td>51.99</td>\n",
       "      <td>1/25/2016</td>\n",
       "      <td>750</td>\n",
       "      <td>1</td>\n",
       "      <td>0.79</td>\n",
       "      <td>8112</td>\n",
       "      <td>MOET HENNESSY USA INC</td>\n",
       "    </tr>\n",
       "    <tr>\n",
       "      <th>...</th>\n",
       "      <td>...</td>\n",
       "      <td>...</td>\n",
       "      <td>...</td>\n",
       "      <td>...</td>\n",
       "      <td>...</td>\n",
       "      <td>...</td>\n",
       "      <td>...</td>\n",
       "      <td>...</td>\n",
       "      <td>...</td>\n",
       "      <td>...</td>\n",
       "      <td>...</td>\n",
       "      <td>...</td>\n",
       "      <td>...</td>\n",
       "      <td>...</td>\n",
       "    </tr>\n",
       "    <tr>\n",
       "      <th>416351</th>\n",
       "      <td>46_TYWARDREATH_981</td>\n",
       "      <td>46</td>\n",
       "      <td>981</td>\n",
       "      <td>McCormick Triple Sec</td>\n",
       "      <td>Liter</td>\n",
       "      <td>1</td>\n",
       "      <td>3.99</td>\n",
       "      <td>3.99</td>\n",
       "      <td>1/22/2016</td>\n",
       "      <td>1000</td>\n",
       "      <td>1</td>\n",
       "      <td>1.05</td>\n",
       "      <td>5992</td>\n",
       "      <td>MCCORMICK DISTILLING CO</td>\n",
       "    </tr>\n",
       "    <tr>\n",
       "      <th>416352</th>\n",
       "      <td>46_TYWARDREATH_981</td>\n",
       "      <td>46</td>\n",
       "      <td>981</td>\n",
       "      <td>McCormick Triple Sec</td>\n",
       "      <td>Liter</td>\n",
       "      <td>1</td>\n",
       "      <td>3.99</td>\n",
       "      <td>3.99</td>\n",
       "      <td>1/25/2016</td>\n",
       "      <td>1000</td>\n",
       "      <td>1</td>\n",
       "      <td>1.05</td>\n",
       "      <td>5992</td>\n",
       "      <td>MCCORMICK DISTILLING CO</td>\n",
       "    </tr>\n",
       "    <tr>\n",
       "      <th>416353</th>\n",
       "      <td>46_TYWARDREATH_981</td>\n",
       "      <td>46</td>\n",
       "      <td>981</td>\n",
       "      <td>McCormick Triple Sec</td>\n",
       "      <td>Liter</td>\n",
       "      <td>1</td>\n",
       "      <td>3.99</td>\n",
       "      <td>3.99</td>\n",
       "      <td>1/29/2016</td>\n",
       "      <td>1000</td>\n",
       "      <td>1</td>\n",
       "      <td>1.05</td>\n",
       "      <td>5992</td>\n",
       "      <td>MCCORMICK DISTILLING CO</td>\n",
       "    </tr>\n",
       "    <tr>\n",
       "      <th>416354</th>\n",
       "      <td>46_TYWARDREATH_984</td>\n",
       "      <td>46</td>\n",
       "      <td>984</td>\n",
       "      <td>Patron XO Cafe Liqueur</td>\n",
       "      <td>750mL</td>\n",
       "      <td>1</td>\n",
       "      <td>26.99</td>\n",
       "      <td>26.99</td>\n",
       "      <td>1/15/2016</td>\n",
       "      <td>750</td>\n",
       "      <td>1</td>\n",
       "      <td>0.79</td>\n",
       "      <td>9165</td>\n",
       "      <td>ULTRA BEVERAGE COMPANY LLP</td>\n",
       "    </tr>\n",
       "    <tr>\n",
       "      <th>416355</th>\n",
       "      <td>46_TYWARDREATH_984</td>\n",
       "      <td>46</td>\n",
       "      <td>984</td>\n",
       "      <td>Patron XO Cafe Liqueur</td>\n",
       "      <td>750mL</td>\n",
       "      <td>1</td>\n",
       "      <td>26.99</td>\n",
       "      <td>26.99</td>\n",
       "      <td>1/22/2016</td>\n",
       "      <td>750</td>\n",
       "      <td>1</td>\n",
       "      <td>0.79</td>\n",
       "      <td>9165</td>\n",
       "      <td>ULTRA BEVERAGE COMPANY LLP</td>\n",
       "    </tr>\n",
       "  </tbody>\n",
       "</table>\n",
       "<p>5278 rows × 14 columns</p>\n",
       "</div>"
      ],
      "text/plain": [
       "                 InventoryId  Store  Brand                   Description  \\\n",
       "411078  46_TYWARDREATH_10058     46  10058   F Coppola Dmd Ivry Cab Svgn   \n",
       "411079  46_TYWARDREATH_10058     46  10058   F Coppola Dmd Ivry Cab Svgn   \n",
       "411080  46_TYWARDREATH_10227     46  10227  Due Torri Pnt Nr del Venezie   \n",
       "411081  46_TYWARDREATH_10227     46  10227  Due Torri Pnt Nr del Venezie   \n",
       "411082   46_TYWARDREATH_1023     46   1023   Hennessy VSOP Cognac + 50mL   \n",
       "...                      ...    ...    ...                           ...   \n",
       "416351    46_TYWARDREATH_981     46    981          McCormick Triple Sec   \n",
       "416352    46_TYWARDREATH_981     46    981          McCormick Triple Sec   \n",
       "416353    46_TYWARDREATH_981     46    981          McCormick Triple Sec   \n",
       "416354    46_TYWARDREATH_984     46    984        Patron XO Cafe Liqueur   \n",
       "416355    46_TYWARDREATH_984     46    984        Patron XO Cafe Liqueur   \n",
       "\n",
       "         Size  SalesQuantity  SalesDollars  SalesPrice  SalesDate  Volume  \\\n",
       "411078  750mL              1         14.99       14.99  1/16/2016     750   \n",
       "411079  750mL              1         14.99       14.99  1/31/2016     750   \n",
       "411080  750mL              3         29.97        9.99  1/12/2016     750   \n",
       "411081  750mL              2         19.98        9.99  1/23/2016     750   \n",
       "411082  750mL              1         51.99       51.99  1/25/2016     750   \n",
       "...       ...            ...           ...         ...        ...     ...   \n",
       "416351  Liter              1          3.99        3.99  1/22/2016    1000   \n",
       "416352  Liter              1          3.99        3.99  1/25/2016    1000   \n",
       "416353  Liter              1          3.99        3.99  1/29/2016    1000   \n",
       "416354  750mL              1         26.99       26.99  1/15/2016     750   \n",
       "416355  750mL              1         26.99       26.99  1/22/2016     750   \n",
       "\n",
       "        Classification  ExciseTax  VendorNo                   VendorName  \n",
       "411078               2       0.11      2000  SOUTHERN WINE & SPIRITS NE   \n",
       "411079               2       0.11      2000  SOUTHERN WINE & SPIRITS NE   \n",
       "411080               2       0.34      9165  ULTRA BEVERAGE COMPANY LLP   \n",
       "411081               2       0.22      9165  ULTRA BEVERAGE COMPANY LLP   \n",
       "411082               1       0.79      8112  MOET HENNESSY USA INC        \n",
       "...                ...        ...       ...                          ...  \n",
       "416351               1       1.05      5992  MCCORMICK DISTILLING CO      \n",
       "416352               1       1.05      5992  MCCORMICK DISTILLING CO      \n",
       "416353               1       1.05      5992  MCCORMICK DISTILLING CO      \n",
       "416354               1       0.79      9165  ULTRA BEVERAGE COMPANY LLP   \n",
       "416355               1       0.79      9165  ULTRA BEVERAGE COMPANY LLP   \n",
       "\n",
       "[5278 rows x 14 columns]"
      ]
     },
     "execution_count": 68,
     "metadata": {},
     "output_type": "execute_result"
    }
   ],
   "source": [
    "df_SalesFINAL[df_SalesFINAL['Store']==46]"
   ]
  },
  {
   "cell_type": "markdown",
   "metadata": {},
   "source": [
    "no hay city para store 46 , y si hay ventas y compras. Averiguar la city para cargarlo a mano."
   ]
  },
  {
   "cell_type": "code",
   "execution_count": 92,
   "metadata": {},
   "outputs": [],
   "source": [
    "Stores.loc[Stores['Store'] == 46, 'City'] = 'TYWARDREATH'\n"
   ]
  },
  {
   "cell_type": "code",
   "execution_count": 94,
   "metadata": {},
   "outputs": [
    {
     "data": {
      "text/html": [
       "<div>\n",
       "<style scoped>\n",
       "    .dataframe tbody tr th:only-of-type {\n",
       "        vertical-align: middle;\n",
       "    }\n",
       "\n",
       "    .dataframe tbody tr th {\n",
       "        vertical-align: top;\n",
       "    }\n",
       "\n",
       "    .dataframe thead th {\n",
       "        text-align: right;\n",
       "    }\n",
       "</style>\n",
       "<table border=\"1\" class=\"dataframe\">\n",
       "  <thead>\n",
       "    <tr style=\"text-align: right;\">\n",
       "      <th></th>\n",
       "      <th>Store</th>\n",
       "      <th>City</th>\n",
       "    </tr>\n",
       "  </thead>\n",
       "  <tbody>\n",
       "    <tr>\n",
       "      <th>113895</th>\n",
       "      <td>46</td>\n",
       "      <td>TYWARDREATH</td>\n",
       "    </tr>\n",
       "  </tbody>\n",
       "</table>\n",
       "</div>"
      ],
      "text/plain": [
       "        Store         City\n",
       "113895     46  TYWARDREATH"
      ]
     },
     "execution_count": 94,
     "metadata": {},
     "output_type": "execute_result"
    }
   ],
   "source": [
    "Stores[Stores['Store'] == 46]"
   ]
  },
  {
   "cell_type": "markdown",
   "metadata": {},
   "source": [
    "Exportar base a .csv para ser cargarse en SQL"
   ]
  },
  {
   "cell_type": "code",
   "execution_count": 95,
   "metadata": {},
   "outputs": [],
   "source": [
    "Stores.to_csv('Stores.csv', index=False)"
   ]
  },
  {
   "cell_type": "code",
   "execution_count": 161,
   "metadata": {},
   "outputs": [
    {
     "data": {
      "text/html": [
       "<div>\n",
       "<style scoped>\n",
       "    .dataframe tbody tr th:only-of-type {\n",
       "        vertical-align: middle;\n",
       "    }\n",
       "\n",
       "    .dataframe tbody tr th {\n",
       "        vertical-align: top;\n",
       "    }\n",
       "\n",
       "    .dataframe thead th {\n",
       "        text-align: right;\n",
       "    }\n",
       "</style>\n",
       "<table border=\"1\" class=\"dataframe\">\n",
       "  <thead>\n",
       "    <tr style=\"text-align: right;\">\n",
       "      <th></th>\n",
       "      <th>Store</th>\n",
       "      <th>City</th>\n",
       "    </tr>\n",
       "  </thead>\n",
       "  <tbody>\n",
       "    <tr>\n",
       "      <th>104841</th>\n",
       "      <td>42</td>\n",
       "      <td>BLACK HOLLOW</td>\n",
       "    </tr>\n",
       "  </tbody>\n",
       "</table>\n",
       "</div>"
      ],
      "text/plain": [
       "        Store          City\n",
       "104841     42  BLACK HOLLOW"
      ]
     },
     "execution_count": 161,
     "metadata": {},
     "output_type": "execute_result"
    }
   ],
   "source": [
    "Stores[Stores['Store'] == 42]"
   ]
  }
 ],
 "metadata": {
  "kernelspec": {
   "display_name": "Python 3",
   "language": "python",
   "name": "python3"
  },
  "language_info": {
   "codemirror_mode": {
    "name": "ipython",
    "version": 3
   },
   "file_extension": ".py",
   "mimetype": "text/x-python",
   "name": "python",
   "nbconvert_exporter": "python",
   "pygments_lexer": "ipython3",
   "version": "3.11.2"
  }
 },
 "nbformat": 4,
 "nbformat_minor": 2
}
